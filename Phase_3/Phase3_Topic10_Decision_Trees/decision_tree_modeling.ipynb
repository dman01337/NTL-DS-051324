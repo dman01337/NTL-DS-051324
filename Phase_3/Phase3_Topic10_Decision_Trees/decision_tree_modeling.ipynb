{
 "cells": [
  {
   "cell_type": "markdown",
   "metadata": {
    "slideshow": {
     "slide_type": "slide"
    }
   },
   "source": [
    "<div style=\"color:white;\n",
    "           display:fill;\n",
    "           border-radius:5px;\n",
    "           background-color:#5642C5;\n",
    "           font-size:200%;\n",
    "           font-family:Arial;letter-spacing:0.5px\">\n",
    "\n",
    "<p width = 20%, style=\"padding: 10px;\n",
    "              color:white;\">\n",
    "Decision Trees\n",
    "              \n",
    "</p>\n",
    "</div>\n",
    "\n",
    "DS-NTL-051324\n",
    "<p>Phase 3</p>\n",
    "<br>\n",
    "<br>\n",
    "\n",
    "<div align = \"right\">\n",
    "<img src=\"Images/flatiron-school-logo.png\" align = \"right\" width=\"200\"/>\n",
    "</div>"
   ]
  },
  {
   "cell_type": "code",
   "execution_count": 1,
   "metadata": {
    "slideshow": {
     "slide_type": "slide"
    }
   },
   "outputs": [],
   "source": [
    "import pandas as pd\n",
    "import numpy as np\n",
    "import seaborn as sns\n",
    "import matplotlib.pyplot as plt\n",
    "\n",
    "\n",
    "from sklearn.tree import DecisionTreeClassifier, plot_tree\n",
    "from sklearn.model_selection import train_test_split\n",
    "from sklearn.datasets import load_iris\n",
    "from sklearn.preprocessing import LabelEncoder\n",
    "from sklearn.metrics import ConfusionMatrixDisplay, accuracy_score, classification_report\n",
    "#from sklearn.metrics import plot_confusion_matrix\n",
    "\n",
    "%matplotlib inline"
   ]
  },
  {
   "cell_type": "markdown",
   "metadata": {
    "heading_collapsed": true,
    "slideshow": {
     "slide_type": "slide"
    }
   },
   "source": [
    "#### Decision Trees at a High Level"
   ]
  },
  {
   "cell_type": "markdown",
   "metadata": {
    "hidden": true,
    "slideshow": {
     "slide_type": "slide"
    }
   },
   "source": [
    "Decision trees can be viewed as a series of forks in the road."
   ]
  },
  {
   "cell_type": "markdown",
   "metadata": {
    "cell_style": "split",
    "hidden": true,
    "slideshow": {
     "slide_type": "fragment"
    }
   },
   "source": [
    "<a title=\"Jonathan Billinger / Fork in the road\" href=\"https://commons.wikimedia.org/wiki/File:Fork_in_the_road_-_geograph.org.uk_-_1355424.jpg\"><img width=\"512\" alt=\"Fork in the road - geograph.org.uk - 1355424\" src=\"https://upload.wikimedia.org/wikipedia/commons/7/71/Fork_in_the_road_-_geograph.org.uk_-_1355424.jpg\"></a>"
   ]
  },
  {
   "cell_type": "markdown",
   "metadata": {
    "cell_style": "split",
    "hidden": true,
    "slideshow": {
     "slide_type": "fragment"
    }
   },
   "source": [
    "Every time we make a decision, we split up, or *partition*, the data based on the features.\n",
    "\n",
    "- optimizing for a metric that aids us in separating feature space according to class assignment."
   ]
  },
  {
   "cell_type": "markdown",
   "metadata": {
    "heading_collapsed": true,
    "hidden": true,
    "slideshow": {
     "slide_type": "slide"
    }
   },
   "source": [
    "#### Simple Example of a Decision Tree"
   ]
  },
  {
   "cell_type": "markdown",
   "metadata": {
    "cell_style": "split",
    "hidden": true,
    "slideshow": {
     "slide_type": "slide"
    }
   },
   "source": [
    "Let's say we have this set of data:\n",
    "\n",
    "Work Status |  Age  | Favorite Website\n",
    "------------|-------|-------------------------\n",
    " Student    | Young | A\n",
    " Working    | Young | B\n",
    " Working    | Old   | C\n",
    " Working    | Young | B\n",
    " Student    | Young | A\n",
    " Student    | Young | A\n",
    "\n"
   ]
  },
  {
   "cell_type": "markdown",
   "metadata": {
    "cell_style": "split",
    "hidden": true,
    "slideshow": {
     "slide_type": "fragment"
    }
   },
   "source": [
    "This can help us answer the question:\n",
    "\n",
    "Based on age and work status, what website will a user likely choose as their favorite?"
   ]
  },
  {
   "cell_type": "markdown",
   "metadata": {
    "heading_collapsed": true,
    "hidden": true,
    "slideshow": {
     "slide_type": "slide"
    }
   },
   "source": [
    "#### Picturing Decisions as a Tree"
   ]
  },
  {
   "cell_type": "markdown",
   "metadata": {},
   "source": [
    "A reasonable decision tree that might represent the data we have:"
   ]
  },
  {
   "cell_type": "markdown",
   "metadata": {
    "cell_style": "split",
    "slideshow": {
     "slide_type": "slide"
    }
   },
   "source": [
    "\n",
    "Work Status |  Age  | Favorite Website\n",
    "------------|-------|-------------------------\n",
    " Student    | Young | A\n",
    " Working    | Young | B\n",
    " Working    | Old   | C\n",
    " Working    | Young | B\n",
    " Student    | Young | A\n",
    " Student    | Young | A\n",
    " Student    | Old   | C\n"
   ]
  },
  {
   "cell_type": "markdown",
   "metadata": {
    "cell_style": "split",
    "hidden": true,
    "slideshow": {
     "slide_type": "fragment"
    }
   },
   "source": [
    "![](images/simple_decision_tree.png)"
   ]
  },
  {
   "cell_type": "markdown",
   "metadata": {
    "cell_style": "split",
    "hidden": true,
    "slideshow": {
     "slide_type": "slide"
    }
   },
   "source": [
    "Our first split was on Age: \n",
    "- chose based on observation: old people choose website C\n",
    "- leaf has only members belong to class C \n",
    "\n",
    "**This defines region of feature space where we predict class C**"
   ]
  },
  {
   "cell_type": "markdown",
   "metadata": {
    "cell_style": "split",
    "slideshow": {
     "slide_type": "-"
    }
   },
   "source": [
    "![](images/simple_decision_tree.png)"
   ]
  },
  {
   "cell_type": "markdown",
   "metadata": {
    "cell_style": "split",
    "slideshow": {
     "slide_type": "slide"
    }
   },
   "source": [
    "Our first split was on Age: \n",
    "- inside feature space partition where Age = Young\n",
    "    - Notice that we have a mixed bag here\n",
    "    \n",
    "Work Status |  Age  | Favorite Website\n",
    "------------|-------|-------------------------\n",
    " Student    | Young | A\n",
    " Working    | Young | B\n",
    " Working    | Old   | C\n",
    " Working    | Young | B\n",
    " Student    | Young | A\n",
    " Student    | Young | A\n",
    " Student    | Old   | C\n"
   ]
  },
  {
   "cell_type": "markdown",
   "metadata": {
    "cell_style": "split",
    "slideshow": {
     "slide_type": "fragment"
    }
   },
   "source": [
    "Use other feature (work status):\n",
    "- will it help us in determining between class A and B?"
   ]
  },
  {
   "cell_type": "markdown",
   "metadata": {
    "cell_style": "split",
    "slideshow": {
     "slide_type": "fragment"
    }
   },
   "source": [
    "A further split based on work status inside current partition: differentiates between class A and class B"
   ]
  },
  {
   "cell_type": "markdown",
   "metadata": {
    "cell_style": "split",
    "slideshow": {
     "slide_type": "-"
    }
   },
   "source": [
    "<center><img src = \"images/simple_decision_tree.png\" width = 400></center>"
   ]
  },
  {
   "cell_type": "markdown",
   "metadata": {
    "heading_collapsed": true,
    "hidden": true,
    "slideshow": {
     "slide_type": "slide"
    }
   },
   "source": [
    "#### Overview of Algorithm's Steps"
   ]
  },
  {
   "cell_type": "markdown",
   "metadata": {
    "slideshow": {
     "slide_type": "slide"
    }
   },
   "source": [
    "1. Split data features $X$ and target $y$\n",
    "\n",
    "One big advantage of tree-based algorithms: \n",
    "- $X$ does not **need** to be scaled and often no transformations required\n",
    "- categorical feature can be handled easily"
   ]
  },
  {
   "cell_type": "markdown",
   "metadata": {
    "cell_style": "split",
    "slideshow": {
     "slide_type": "slide"
    }
   },
   "source": [
    "2. Make a *decision* (a split) based on some *metric* using the features\n",
    "  - *Data split into partitions via *branches*\n",
    "\n"
   ]
  },
  {
   "cell_type": "markdown",
   "metadata": {
    "cell_style": "split",
    "slideshow": {
     "slide_type": "-"
    }
   },
   "source": [
    "<center><img src = \"images/simple_decision_tree.png\" width = 400></center>"
   ]
  },
  {
   "cell_type": "markdown",
   "metadata": {
    "cell_style": "split",
    "slideshow": {
     "slide_type": "slide"
    }
   },
   "source": [
    "3.Continue on with each partition, and do more splits for each using the features in that partition\n",
    "\n"
   ]
  },
  {
   "cell_type": "markdown",
   "metadata": {
    "cell_style": "split"
   },
   "source": [
    "<center><img src = \"images/simple_decision_tree.png\" width = 400></center>"
   ]
  },
  {
   "cell_type": "markdown",
   "metadata": {
    "slideshow": {
     "slide_type": "slide"
    }
   },
   "source": [
    "Note: **Splitting is a recursive process**"
   ]
  },
  {
   "cell_type": "markdown",
   "metadata": {
    "cell_style": "split",
    "slideshow": {
     "slide_type": "fragment"
    }
   },
   "source": [
    "<center><img src = \"images/recursion.png\" width = 400></center>"
   ]
  },
  {
   "cell_type": "markdown",
   "metadata": {
    "cell_style": "split",
    "slideshow": {
     "slide_type": "fragment"
    }
   },
   "source": [
    "Second level splits:\n",
    "- only conidering class differentiation criterion within each partition locally"
   ]
  },
  {
   "cell_type": "markdown",
   "metadata": {
    "cell_style": "split",
    "slideshow": {
     "slide_type": "fragment"
    }
   },
   "source": [
    "This sort of algorithm locally optimizing on specific criterion:\n",
    "- known as **greedy algorithm**"
   ]
  },
  {
   "cell_type": "markdown",
   "metadata": {
    "slideshow": {
     "slide_type": "slide"
    }
   },
   "source": [
    "**Greedy algorithms that work in recursive structure: often blindingly fast**\n",
    "\n",
    "- Yes, decision trees are really fast algorithms"
   ]
  },
  {
   "cell_type": "markdown",
   "metadata": {
    "cell_style": "split",
    "hidden": true,
    "slideshow": {
     "slide_type": "slide"
    }
   },
   "source": [
    "4. Keep at this game: until a **stopping condition** is hit\n",
    "    - each partition(leaf) has only one class in it\n",
    "    - OR hit a pre-defined maximum tree depth\n"
   ]
  },
  {
   "cell_type": "markdown",
   "metadata": {
    "cell_style": "split"
   },
   "source": [
    "<center><img src = \"images/decisiontreepure.gif\" width = 700></center>"
   ]
  },
  {
   "cell_type": "markdown",
   "metadata": {
    "cell_style": "split",
    "slideshow": {
     "slide_type": "slide"
    }
   },
   "source": [
    "5. To make predictions, flow data points $X$ down the tree: \n",
    "- through the decision nodes to predictions at the leaves"
   ]
  },
  {
   "cell_type": "markdown",
   "metadata": {
    "cell_style": "split"
   },
   "source": [
    "<center><img src = \"images/simple_decision_tree.png\" width = 400></center>\n",
    "<center>Tree is trained model.</center>\n",
    "\n",
    "We have new observation of a person: \n",
    "\n",
    "X = (Young, Working)"
   ]
  },
  {
   "cell_type": "markdown",
   "metadata": {
    "hidden": true,
    "slideshow": {
     "slide_type": "slide"
    }
   },
   "source": [
    "A very nice demo on decision trees using some real data:\n",
    "\n",
    "http://www.r2d3.us/visual-intro-to-machine-learning-part-1/"
   ]
  },
  {
   "cell_type": "markdown",
   "metadata": {
    "heading_collapsed": true,
    "slideshow": {
     "slide_type": "slide"
    }
   },
   "source": [
    "#### Entropy/Gini Impurity and the notion of Information Gain\n",
    "- Metrics used to decided where a split is made.\n",
    "- measures notions of class purity/heterogeneity in a given partition"
   ]
  },
  {
   "cell_type": "markdown",
   "metadata": {
    "cell_style": "split",
    "hidden": true,
    "slideshow": {
     "slide_type": "fragment"
    }
   },
   "source": [
    "Ideal goal: partitions are fully pure/homogenous with respect to class labels"
   ]
  },
  {
   "cell_type": "markdown",
   "metadata": {
    "cell_style": "split"
   },
   "source": [
    "<center><img src = \"images/decisiontreepure.gif\" width = 700></center>"
   ]
  },
  {
   "cell_type": "markdown",
   "metadata": {
    "heading_collapsed": true,
    "hidden": true,
    "slideshow": {
     "slide_type": "slide"
    }
   },
   "source": [
    "#### Entropy\n",
    "- A measure of class heterogeity within a partition"
   ]
  },
  {
   "cell_type": "markdown",
   "metadata": {
    "hidden": true,
    "slideshow": {
     "slide_type": "fragment"
    }
   },
   "source": [
    "The entropy within a partition is given by:\n",
    "\n",
    "$$ E = -\\sum_{i=1}^k p_i\\log_k(p_i)$$\n",
    "\n",
    "- $k$ is number of classes\n",
    "- $p_i$ is relative frequency of $i$th class\n"
   ]
  },
  {
   "cell_type": "markdown",
   "metadata": {
    "cell_style": "split",
    "slideshow": {
     "slide_type": "slide"
    }
   },
   "source": [
    "Take simple example of binary classification:\n",
    "\n",
    "$$ E = -\\sum_{i=1}^2 p_i\\log_2(p_i) = \\\\ -p_1 \\log_2p_1 - (1 - p_1)\\log_2(1-p_1)$$"
   ]
  },
  {
   "cell_type": "markdown",
   "metadata": {
    "cell_style": "split",
    "slideshow": {
     "slide_type": "fragment"
    }
   },
   "source": [
    "<center><img src = \"images/entropy_levels.png\" width = 700></center>\n",
    "<center>Left to right: low to high entropy, increasing heterogeneity</center>"
   ]
  },
  {
   "cell_type": "markdown",
   "metadata": {
    "cell_style": "split",
    "slideshow": {
     "slide_type": "slide"
    }
   },
   "source": [
    "**Calculating the entropy for equal class support in partition**\n",
    "- high heterogeneity"
   ]
  },
  {
   "cell_type": "markdown",
   "metadata": {
    "cell_style": "split",
    "slideshow": {
     "slide_type": "fragment"
    }
   },
   "source": [
    "<center><img src = \"images/entropy_equalpart.png\" width = 200></center>\n",
    "<center>Maximum heterogeneity</center>"
   ]
  },
  {
   "cell_type": "markdown",
   "metadata": {
    "cell_style": "center",
    "slideshow": {
     "slide_type": "fragment"
    }
   },
   "source": [
    "Since two groups and equal split between classes:\n",
    "\n",
    "- $ p_i = \\frac{1}{2}$ for  $i = 1,2$"
   ]
  },
  {
   "cell_type": "markdown",
   "metadata": {
    "cell_style": "center",
    "slideshow": {
     "slide_type": "slide"
    }
   },
   "source": [
    "Calculating the entropy: $ E = -\\sum_{i=1}^2 p_i\\log_2(p_i) = -p_1 \\log_2p_1 - (1 - p_1)\\log_2(1-p_1)$\n",
    "\n",
    "$$ E =  -2*\\frac{1}{2}\\log_2(\\frac{1}{2}) $$\n",
    "$$E = -\\log_2(\\frac{1}{2})= 1 $$"
   ]
  },
  {
   "cell_type": "markdown",
   "metadata": {
    "cell_style": "split",
    "slideshow": {
     "slide_type": "slide"
    }
   },
   "source": [
    "**Calculating the entropy for partition with only one class**\n",
    "- homogenous"
   ]
  },
  {
   "cell_type": "markdown",
   "metadata": {
    "cell_style": "split",
    "slideshow": {
     "slide_type": "fragment"
    }
   },
   "source": [
    "$ E = -p_1 \\log_2p_1 - (1 - p_1)\\log_2p_1$\n",
    "\n",
    "where $p_1 = 1$\n",
    "\n",
    "$$ E = -\\log_2(1) = 0$$"
   ]
  },
  {
   "cell_type": "markdown",
   "metadata": {
    "slideshow": {
     "slide_type": "slide"
    }
   },
   "source": [
    "Looking at the ranges between:\n",
    "- entropy traces out a curve"
   ]
  },
  {
   "cell_type": "code",
   "execution_count": 2,
   "metadata": {
    "cell_style": "split",
    "slideshow": {
     "slide_type": "fragment"
    }
   },
   "outputs": [],
   "source": [
    "epsilon = 1e-7 #prevent explosion from log\n",
    "entropy = lambda p: -(p*np.log2(p + epsilon) \\\n",
    "                      + (1-p)*np.log(1-p + epsilon))\n",
    "\n",
    "p_range = np.linspace(0,1,50)\n",
    "entropy_array = entropy(p_range)"
   ]
  },
  {
   "cell_type": "code",
   "execution_count": 3,
   "metadata": {
    "cell_style": "split",
    "slideshow": {
     "slide_type": "fragment"
    }
   },
   "outputs": [
    {
     "data": {
      "image/png": "[encoded data removed]",
      "text/plain": [
       "<Figure size 432x288 with 1 Axes>"
      ]
     },
     "metadata": {
      "needs_background": "light"
     },
     "output_type": "display_data"
    }
   ],
   "source": [
    "plt.plot(p_range, entropy_array)\n",
    "plt.ylabel('Entropy', size = 15)\n",
    "plt.xlabel(r'$p_1$', size = 15)\n",
    "plt.title('Entropy for partition with two classes')\n",
    "plt.show()"
   ]
  },
  {
   "cell_type": "markdown",
   "metadata": {
    "cell_style": "center",
    "hidden": true,
    "slideshow": {
     "slide_type": "slide"
    }
   },
   "source": [
    "**Binary Entropy will always be between 0 and 1. The closer to 1, the more disordered your group.**"
   ]
  },
  {
   "cell_type": "markdown",
   "metadata": {
    "cell_style": "split",
    "hidden": true,
    "slideshow": {
     "slide_type": "slide"
    }
   },
   "source": [
    "For a given parent partition: want a split where\n",
    "- weighted average of entropy over children partition lower than parent partition entropy\n",
    "\n",
    "i.e., children are statistically speaking more pure than parent"
   ]
  },
  {
   "cell_type": "markdown",
   "metadata": {
    "cell_style": "split",
    "slideshow": {
     "slide_type": "fragment"
    }
   },
   "source": [
    "<center><img src = \"images/partinfo.png\" width = 500></center>\n",
    "<center>Is the weighted sum of children entropy lower than parent?</center>"
   ]
  },
  {
   "cell_type": "markdown",
   "metadata": {
    "heading_collapsed": true,
    "hidden": true,
    "slideshow": {
     "slide_type": "slide"
    }
   },
   "source": [
    "**Information Gain**"
   ]
  },
  {
   "cell_type": "markdown",
   "metadata": {
    "hidden": true,
    "slideshow": {
     "slide_type": "fragment"
    }
   },
   "source": [
    "**information gain** =  **parent's entropy** - **weighted children's entropy**"
   ]
  },
  {
   "cell_type": "markdown",
   "metadata": {
    "slideshow": {
     "slide_type": "slide"
    }
   },
   "source": [
    "What we want:\n",
    "\n",
    "A split on a feature $X_1$ that results in good information gain:"
   ]
  },
  {
   "cell_type": "markdown",
   "metadata": {
    "cell_style": "split",
    "slideshow": {
     "slide_type": "fragment"
    }
   },
   "source": [
    "<center><img src = \"images/x1splitfeature.png\" width = 500></center>\n",
    "<center>Tuning $X_1$ for split: scanning feature space</center>"
   ]
  },
  {
   "cell_type": "markdown",
   "metadata": {
    "cell_style": "split",
    "slideshow": {
     "slide_type": "fragment"
    }
   },
   "source": [
    "<center><img src = \"images/x1feature_infogain.png\" width = 500></center>\n",
    "<center>Tuning $X_1$ for split: best information gain</center>"
   ]
  },
  {
   "cell_type": "markdown",
   "metadata": {
    "slideshow": {
     "slide_type": "slide"
    }
   },
   "source": [
    "\n",
    "- choose value of $X_1$ to split on that has the lowest **parent's entropy** - **children entropy** (best information gain)"
   ]
  },
  {
   "cell_type": "markdown",
   "metadata": {
    "hidden": true,
    "slideshow": {
     "slide_type": "slide"
    }
   },
   "source": [
    "Decision trees optimization in partition:\n",
    "- computes information gain for many values of $X_1$\n",
    "- finds $X_1$ at minimum value of information gain\n",
    "- splits there."
   ]
  },
  {
   "cell_type": "markdown",
   "metadata": {
    "heading_collapsed": true,
    "hidden": true,
    "slideshow": {
     "slide_type": "slide"
    }
   },
   "source": [
    "#### Gini Impurity"
   ]
  },
  {
   "cell_type": "markdown",
   "metadata": {
    "hidden": true,
    "slideshow": {
     "slide_type": "slide"
    }
   },
   "source": [
    "An alternative metric to entropy.\n",
    "\n",
    "Gini Impurity is defined as:\n",
    "\n",
    "$$ G = 1 - \\sum_{i=1}^k p_i^2 $$\n",
    "\n",
    "- Gini impurity heavily penalizes heterogeneity (more strongly than entropy)"
   ]
  },
  {
   "cell_type": "markdown",
   "metadata": {
    "hidden": true,
    "slideshow": {
     "slide_type": "fragment"
    }
   },
   "source": [
    "**For binary problems:**\n",
    "- $0 \\leq G \\leq 0.5$\n",
    "- Closer to 0.5, the more heterogenous the partition."
   ]
  },
  {
   "cell_type": "markdown",
   "metadata": {
    "slideshow": {
     "slide_type": "slide"
    }
   },
   "source": [
    "Calculation of information gain same: just with Gini impurity instead of entropy\n",
    "\n",
    "$$G_{parent} - G_{children}$$"
   ]
  },
  {
   "cell_type": "markdown",
   "metadata": {
    "slideshow": {
     "slide_type": "slide"
    }
   },
   "source": [
    "**Putting it all together**\n",
    "\n",
    "1. Choose feature $X$ and tune to get optimal split for information gain\n",
    "2. Make split and partition.\n",
    "3. In each new partition, choose a different $X'$.\n",
    "4. Tune to get optimal split for information gain.\n",
    "5. Make split and partition.\n",
    "6. Rinse, repeat."
   ]
  },
  {
   "cell_type": "markdown",
   "metadata": {
    "hidden": true,
    "slideshow": {
     "slide_type": "slide"
    }
   },
   "source": [
    "**Question**: Are we guaranteed, proceeding in this way, to reach pure groups, no matter what our data looks like?"
   ]
  },
  {
   "cell_type": "markdown",
   "metadata": {
    "cell_style": "center",
    "slideshow": {
     "slide_type": "fragment"
    }
   },
   "source": [
    "Decision trees very prone to overfitting.\n",
    "- will continue to split until all leafs are pure\n",
    "- can get way too complex (every point has its own partition)"
   ]
  },
  {
   "cell_type": "markdown",
   "metadata": {
    "slideshow": {
     "slide_type": "slide"
    }
   },
   "source": [
    "Will need a way to limit tree complexity/depth to aid in generalization:\n",
    "- avoid overfitting\n",
    "\n",
    "**Strategies/decision tree hyperparameters that aid with this. Discuss these while tuning**"
   ]
  },
  {
   "cell_type": "markdown",
   "metadata": {
    "heading_collapsed": true,
    "slideshow": {
     "slide_type": "slide"
    }
   },
   "source": [
    "#### Implement a decision tree classifier in Scikit-learn"
   ]
  },
  {
   "cell_type": "markdown",
   "metadata": {
    "heading_collapsed": true,
    "hidden": true,
    "slideshow": {
     "slide_type": "slide"
    }
   },
   "source": [
    "#### Setting up Data"
   ]
  },
  {
   "cell_type": "code",
   "execution_count": 4,
   "metadata": {
    "cell_style": "split",
    "slideshow": {
     "slide_type": "fragment"
    }
   },
   "outputs": [
    {
     "data": {
      "text/html": [
       "<div>\n",
       "<style scoped>\n",
       "    .dataframe tbody tr th:only-of-type {\n",
       "        vertical-align: middle;\n",
       "    }\n",
       "\n",
       "    .dataframe tbody tr th {\n",
       "        vertical-align: top;\n",
       "    }\n",
       "\n",
       "    .dataframe thead th {\n",
       "        text-align: right;\n",
       "    }\n",
       "</style>\n",
       "<table border=\"1\" class=\"dataframe\">\n",
       "  <thead>\n",
       "    <tr style=\"text-align: right;\">\n",
       "      <th></th>\n",
       "      <th>petal_width</th>\n",
       "      <th>sepal_length</th>\n",
       "      <th>species</th>\n",
       "    </tr>\n",
       "  </thead>\n",
       "  <tbody>\n",
       "    <tr>\n",
       "      <th>0</th>\n",
       "      <td>0.2</td>\n",
       "      <td>5.1</td>\n",
       "      <td>setosa</td>\n",
       "    </tr>\n",
       "    <tr>\n",
       "      <th>1</th>\n",
       "      <td>0.2</td>\n",
       "      <td>4.9</td>\n",
       "      <td>setosa</td>\n",
       "    </tr>\n",
       "    <tr>\n",
       "      <th>2</th>\n",
       "      <td>0.2</td>\n",
       "      <td>4.7</td>\n",
       "      <td>setosa</td>\n",
       "    </tr>\n",
       "    <tr>\n",
       "      <th>3</th>\n",
       "      <td>0.2</td>\n",
       "      <td>4.6</td>\n",
       "      <td>setosa</td>\n",
       "    </tr>\n",
       "    <tr>\n",
       "      <th>4</th>\n",
       "      <td>0.2</td>\n",
       "      <td>5.0</td>\n",
       "      <td>setosa</td>\n",
       "    </tr>\n",
       "  </tbody>\n",
       "</table>\n",
       "</div>"
      ],
      "text/plain": [
       "   petal_width  sepal_length species\n",
       "0          0.2           5.1  setosa\n",
       "1          0.2           4.9  setosa\n",
       "2          0.2           4.7  setosa\n",
       "3          0.2           4.6  setosa\n",
       "4          0.2           5.0  setosa"
      ]
     },
     "execution_count": 4,
     "metadata": {},
     "output_type": "execute_result"
    }
   ],
   "source": [
    "iris_df = sns.load_dataset('iris')[['petal_width', 'sepal_length', 'species']]\n",
    "iris_df.head()"
   ]
  },
  {
   "cell_type": "code",
   "execution_count": 5,
   "metadata": {
    "cell_style": "split",
    "slideshow": {
     "slide_type": "fragment"
    }
   },
   "outputs": [
    {
     "name": "stdout",
     "output_type": "stream",
     "text": [
      "<class 'pandas.core.frame.DataFrame'>\n",
      "RangeIndex: 150 entries, 0 to 149\n",
      "Data columns (total 3 columns):\n",
      " #   Column        Non-Null Count  Dtype  \n",
      "---  ------        --------------  -----  \n",
      " 0   petal_width   150 non-null    float64\n",
      " 1   sepal_length  150 non-null    float64\n",
      " 2   species       150 non-null    object \n",
      "dtypes: float64(2), object(1)\n",
      "memory usage: 3.6+ KB\n"
     ]
    }
   ],
   "source": [
    "iris_df.info()"
   ]
  },
  {
   "cell_type": "code",
   "execution_count": 6,
   "metadata": {
    "cell_style": "split",
    "slideshow": {
     "slide_type": "fragment"
    }
   },
   "outputs": [],
   "source": [
    "X = iris_df.drop(columns = ['species'])\n",
    "labenc = LabelEncoder()\n",
    "y = labenc.fit_transform(iris_df.species)"
   ]
  },
  {
   "cell_type": "code",
   "execution_count": 7,
   "metadata": {
    "slideshow": {
     "slide_type": "slide"
    }
   },
   "outputs": [
    {
     "data": {
      "image/png": "[encoded data removed]",
      "text/plain": [
       "<Figure size 444.75x360 with 6 Axes>"
      ]
     },
     "metadata": {
      "needs_background": "light"
     },
     "output_type": "display_data"
    }
   ],
   "source": [
    "sns.pairplot(iris_df, hue = 'species');"
   ]
  },
  {
   "cell_type": "code",
   "execution_count": 8,
   "metadata": {
    "hidden": true,
    "slideshow": {
     "slide_type": "fragment"
    }
   },
   "outputs": [
    {
     "data": {
      "text/plain": [
       "((105, 2), (45, 2))"
      ]
     },
     "execution_count": 8,
     "metadata": {},
     "output_type": "execute_result"
    }
   ],
   "source": [
    "X_train, X_test, y_train, y_test = train_test_split(X, y, test_size=0.3, random_state=13)\n",
    "\n",
    "X_train.shape, X_test.shape"
   ]
  },
  {
   "cell_type": "markdown",
   "metadata": {
    "heading_collapsed": true,
    "hidden": true,
    "slideshow": {
     "slide_type": "slide"
    }
   },
   "source": [
    "#### Training the model out of the box"
   ]
  },
  {
   "cell_type": "code",
   "execution_count": 9,
   "metadata": {
    "hidden": true,
    "slideshow": {
     "slide_type": "fragment"
    }
   },
   "outputs": [
    {
     "data": {
      "text/html": [
       "<style>#sk-container-id-1 {color: black;background-color: white;}#sk-container-id-1 pre{padding: 0;}#sk-container-id-1 div.sk-toggleable {background-color: white;}#sk-container-id-1 label.sk-toggleable__label {cursor: pointer;display: block;width: 100%;margin-bottom: 0;padding: 0.3em;box-sizing: border-box;text-align: center;}#sk-container-id-1 label.sk-toggleable__label-arrow:before {content: \"▸\";float: left;margin-right: 0.25em;color: #696969;}#sk-container-id-1 label.sk-toggleable__label-arrow:hover:before {color: black;}#sk-container-id-1 div.sk-estimator:hover label.sk-toggleable__label-arrow:before {color: black;}#sk-container-id-1 div.sk-toggleable__content {max-height: 0;max-width: 0;overflow: hidden;text-align: left;background-color: #f0f8ff;}#sk-container-id-1 div.sk-toggleable__content pre {margin: 0.2em;color: black;border-radius: 0.25em;background-color: #f0f8ff;}#sk-container-id-1 input.sk-toggleable__control:checked~div.sk-toggleable__content {max-height: 200px;max-width: 100%;overflow: auto;}#sk-container-id-1 input.sk-toggleable__control:checked~label.sk-toggleable__label-arrow:before {content: \"▾\";}#sk-container-id-1 div.sk-estimator input.sk-toggleable__control:checked~label.sk-toggleable__label {background-color: #d4ebff;}#sk-container-id-1 div.sk-label input.sk-toggleable__control:checked~label.sk-toggleable__label {background-color: #d4ebff;}#sk-container-id-1 input.sk-hidden--visually {border: 0;clip: rect(1px 1px 1px 1px);clip: rect(1px, 1px, 1px, 1px);height: 1px;margin: -1px;overflow: hidden;padding: 0;position: absolute;width: 1px;}#sk-container-id-1 div.sk-estimator {font-family: monospace;background-color: #f0f8ff;border: 1px dotted black;border-radius: 0.25em;box-sizing: border-box;margin-bottom: 0.5em;}#sk-container-id-1 div.sk-estimator:hover {background-color: #d4ebff;}#sk-container-id-1 div.sk-parallel-item::after {content: \"\";width: 100%;border-bottom: 1px solid gray;flex-grow: 1;}#sk-container-id-1 div.sk-label:hover label.sk-toggleable__label {background-color: #d4ebff;}#sk-container-id-1 div.sk-serial::before {content: \"\";position: absolute;border-left: 1px solid gray;box-sizing: border-box;top: 0;bottom: 0;left: 50%;z-index: 0;}#sk-container-id-1 div.sk-serial {display: flex;flex-direction: column;align-items: center;background-color: white;padding-right: 0.2em;padding-left: 0.2em;position: relative;}#sk-container-id-1 div.sk-item {position: relative;z-index: 1;}#sk-container-id-1 div.sk-parallel {display: flex;align-items: stretch;justify-content: center;background-color: white;position: relative;}#sk-container-id-1 div.sk-item::before, #sk-container-id-1 div.sk-parallel-item::before {content: \"\";position: absolute;border-left: 1px solid gray;box-sizing: border-box;top: 0;bottom: 0;left: 50%;z-index: -1;}#sk-container-id-1 div.sk-parallel-item {display: flex;flex-direction: column;z-index: 1;position: relative;background-color: white;}#sk-container-id-1 div.sk-parallel-item:first-child::after {align-self: flex-end;width: 50%;}#sk-container-id-1 div.sk-parallel-item:last-child::after {align-self: flex-start;width: 50%;}#sk-container-id-1 div.sk-parallel-item:only-child::after {width: 0;}#sk-container-id-1 div.sk-dashed-wrapped {border: 1px dashed gray;margin: 0 0.4em 0.5em 0.4em;box-sizing: border-box;padding-bottom: 0.4em;background-color: white;}#sk-container-id-1 div.sk-label label {font-family: monospace;font-weight: bold;display: inline-block;line-height: 1.2em;}#sk-container-id-1 div.sk-label-container {text-align: center;}#sk-container-id-1 div.sk-container {/* jupyter's `normalize.less` sets `[hidden] { display: none; }` but bootstrap.min.css set `[hidden] { display: none !important; }` so we also need the `!important` here to be able to override the default hidden behavior on the sphinx rendered scikit-learn.org. See: https://github.com/scikit-learn/scikit-learn/issues/21755 */display: inline-block !important;position: relative;}#sk-container-id-1 div.sk-text-repr-fallback {display: none;}</style><div id=\"sk-container-id-1\" class=\"sk-top-container\"><div class=\"sk-text-repr-fallback\"><pre>DecisionTreeClassifier(random_state=42)</pre><b>In a Jupyter environment, please rerun this cell to show the HTML representation or trust the notebook. <br />On GitHub, the HTML representation is unable to render, please try loading this page with nbviewer.org.</b></div><div class=\"sk-container\" hidden><div class=\"sk-item\"><div class=\"sk-estimator sk-toggleable\"><input class=\"sk-toggleable__control sk-hidden--visually\" id=\"sk-estimator-id-1\" type=\"checkbox\" checked><label for=\"sk-estimator-id-1\" class=\"sk-toggleable__label sk-toggleable__label-arrow\">DecisionTreeClassifier</label><div class=\"sk-toggleable__content\"><pre>DecisionTreeClassifier(random_state=42)</pre></div></div></div></div></div>"
      ],
      "text/plain": [
       "DecisionTreeClassifier(random_state=42)"
      ]
     },
     "execution_count": 9,
     "metadata": {},
     "output_type": "execute_result"
    }
   ],
   "source": [
    "tree_clf = DecisionTreeClassifier(criterion = 'gini', random_state=42)\n",
    "\n",
    "tree_clf.fit(X_train, y_train)"
   ]
  },
  {
   "cell_type": "code",
   "execution_count": 10,
   "metadata": {
    "cell_style": "split",
    "hidden": true,
    "slideshow": {
     "slide_type": "slide"
    }
   },
   "outputs": [
    {
     "data": {
      "image/png": "[encoded data removed]",
      "text/plain": [
       "<Figure size 720x720 with 1 Axes>"
      ]
     },
     "metadata": {
      "needs_background": "light"
     },
     "output_type": "display_data"
    }
   ],
   "source": [
    "f, ax = plt.subplots(figsize=(10, 10))\n",
    "plot_tree(tree_clf, ax=ax);"
   ]
  },
  {
   "cell_type": "markdown",
   "metadata": {
    "cell_style": "split"
   },
   "source": [
    "A complex model:\n",
    "- depth = 8\n",
    "- alarm bells should be going off"
   ]
  },
  {
   "cell_type": "markdown",
   "metadata": {
    "slideshow": {
     "slide_type": "slide"
    }
   },
   "source": [
    "Train accuracy is pretty high"
   ]
  },
  {
   "cell_type": "code",
   "execution_count": 11,
   "metadata": {
    "cell_style": "center",
    "slideshow": {
     "slide_type": "slide"
    }
   },
   "outputs": [
    {
     "data": {
      "text/plain": [
       "0.9904761904761905"
      ]
     },
     "execution_count": 11,
     "metadata": {},
     "output_type": "execute_result"
    }
   ],
   "source": [
    "tree_clf.score(X_train, y_train)"
   ]
  },
  {
   "cell_type": "markdown",
   "metadata": {
    "heading_collapsed": true,
    "hidden": true,
    "slideshow": {
     "slide_type": "slide"
    }
   },
   "source": [
    "#### Test set evaluation"
   ]
  },
  {
   "cell_type": "code",
   "execution_count": 12,
   "metadata": {
    "cell_style": "center",
    "hidden": true,
    "slideshow": {
     "slide_type": "fragment"
    }
   },
   "outputs": [
    {
     "data": {
      "text/plain": [
       "array([1, 1, 0, 2, 2, 0, 2, 2, 0, 1, 1, 1, 1, 0, 2, 0, 2, 2, 1, 0, 2, 0,\n",
       "       0, 2, 1, 2, 0, 2, 1, 2, 2, 0, 0, 2, 2, 1, 0, 1, 1, 0, 0, 1, 1, 2,\n",
       "       2])"
      ]
     },
     "execution_count": 12,
     "metadata": {},
     "output_type": "execute_result"
    }
   ],
   "source": [
    "y_pred = tree_clf.predict(X_test)\n",
    "y_pred"
   ]
  },
  {
   "cell_type": "code",
   "execution_count": 13,
   "metadata": {
    "cell_style": "split",
    "hidden": true,
    "slideshow": {
     "slide_type": "fragment"
    }
   },
   "outputs": [
    {
     "name": "stdout",
     "output_type": "stream",
     "text": [
      "Accuracy: 91.11111111111111\n"
     ]
    }
   ],
   "source": [
    "acc = accuracy_score(y_test, y_pred) * 100\n",
    "print(\"Accuracy: {0}\".format(acc))"
   ]
  },
  {
   "cell_type": "code",
   "execution_count": 14,
   "metadata": {
    "cell_style": "center",
    "hidden": true,
    "slideshow": {
     "slide_type": "fragment"
    }
   },
   "outputs": [
    {
     "data": {
      "image/png": "[encoded data removed]",
      "text/plain": [
       "<Figure size 432x288 with 2 Axes>"
      ]
     },
     "metadata": {
      "needs_background": "light"
     },
     "output_type": "display_data"
    }
   ],
   "source": [
    "#plot_confusion_matrix(tree_clf, X_test, y_test);\n",
    "ConfusionMatrixDisplay.from_estimator(tree_clf, X_test, y_test);"
   ]
  },
  {
   "cell_type": "markdown",
   "metadata": {
    "slideshow": {
     "slide_type": "slide"
    }
   },
   "source": [
    "Lower test set accuracy. Sign of variance issues. But how bad is it?\n",
    "\n",
    "- Visualizing decision boundary may help."
   ]
  },
  {
   "cell_type": "code",
   "execution_count": 15,
   "metadata": {
    "cell_style": "center",
    "slideshow": {
     "slide_type": "slide"
    }
   },
   "outputs": [
    {
     "name": "stderr",
     "output_type": "stream",
     "text": [
      "c:\\Users\\daled\\anaconda3\\envs\\learn-env\\lib\\site-packages\\sklearn\\base.py:450: UserWarning: X does not have valid feature names, but DecisionTreeClassifier was fitted with feature names\n",
      "  warnings.warn(\n"
     ]
    },
    {
     "data": {
      "image/png": "[encoded data removed]",
      "text/plain": [
       "<Figure size 720x360 with 1 Axes>"
      ]
     },
     "metadata": {
      "needs_background": "light"
     },
     "output_type": "display_data"
    }
   ],
   "source": [
    "X_2D = X_train.values\n",
    "\n",
    "x_min, x_max = X_2D[:, 0].min() - 1, X_2D[:, 0].max() + 1\n",
    "y_min, y_max = X_2D[:, 1].min() - 1, X_2D[:, 1].max() + 1\n",
    "\n",
    "xx_n, yy_n = np.meshgrid(np.arange(x_min, x_max, 0.1), np.arange(y_min, y_max, 0.1))\n",
    "\n",
    "f, ax = plt.subplots(figsize = (10,5))\n",
    "\n",
    "Z = tree_clf.predict(np.c_[xx_n.ravel(), yy_n.ravel()])\n",
    "Z = Z.reshape(xx_n.shape)\n",
    "ax.contourf(xx_n, yy_n, Z, alpha=0.4)\n",
    "ax.scatter(X_2D[:, 0], X_2D[:, 1], c = y_train, s=30, edgecolor=\"k\")\n",
    "ax.set_xlabel('petal width [cm]')\n",
    "ax.set_ylabel('sepal length [cm]')\n",
    "ax.set_title('Decision Boundary: Decision Tree')\n",
    "\n",
    "plt.show()"
   ]
  },
  {
   "cell_type": "markdown",
   "metadata": {
    "cell_style": "split",
    "slideshow": {
     "slide_type": "slide"
    }
   },
   "source": [
    "Boundary unstable to single points:\n",
    "- strange fluctuations in decision boundary."
   ]
  },
  {
   "cell_type": "markdown",
   "metadata": {
    "cell_style": "split",
    "slideshow": {
     "slide_type": "fragment"
    }
   },
   "source": [
    "Tree has split to high depth:\n",
    "- to get as pure as possible."
   ]
  },
  {
   "cell_type": "markdown",
   "metadata": {
    "heading_collapsed": true,
    "hidden": true,
    "slideshow": {
     "slide_type": "slide"
    }
   },
   "source": [
    "#### Bias-Variance with Decision Trees"
   ]
  },
  {
   "cell_type": "markdown",
   "metadata": {
    "hidden": true,
    "slideshow": {
     "slide_type": "fragment"
    }
   },
   "source": [
    "- CART algorithm repeatedly partition data into smaller and smaller subsets \n",
    "- until final subsets homogeneous in target. \n",
    "- often means final partitions (leaves of the tree): few data points. \n",
    "\n",
    "**Low-bias, high variance models.**"
   ]
  },
  {
   "cell_type": "markdown",
   "metadata": {
    "slideshow": {
     "slide_type": "slide"
    }
   },
   "source": [
    "Need parameters that have a regularizing effect:\n",
    "- stopping criterion\n",
    "\n",
    "Put in some conditions to prevent tree growing to overfit train set."
   ]
  },
  {
   "cell_type": "markdown",
   "metadata": {
    "slideshow": {
     "slide_type": "slide"
    }
   },
   "source": [
    "#### Commonly tuned hyperparameters"
   ]
  },
  {
   "cell_type": "markdown",
   "metadata": {
    "cell_style": "split",
    "slideshow": {
     "slide_type": "slide"
    }
   },
   "source": [
    "**Max depth**\n",
    "-  DecisionTreeClassifier(max_depth = __)\n",
    "- Sets maximum depth tree can grow. Prevents overfitting."
   ]
  },
  {
   "cell_type": "markdown",
   "metadata": {
    "cell_style": "split",
    "slideshow": {
     "slide_type": "fragment"
    }
   },
   "source": [
    "<center><img src = \"images/treedepth.png\"></center>"
   ]
  },
  {
   "cell_type": "markdown",
   "metadata": {
    "slideshow": {
     "slide_type": "fragment"
    }
   },
   "source": [
    "Stops tree from growing too big:\n",
    "- In actuality, grows tree all the way and uses rule-based algorithm to prune back to specified depth\n",
    "- Good values of max_depth depend on data complexity (can range from 2 to 12...sometimes bigger)"
   ]
  },
  {
   "cell_type": "markdown",
   "metadata": {
    "cell_style": "split",
    "slideshow": {
     "slide_type": "slide"
    }
   },
   "source": [
    "**Minimum number of samples in parent for allowing a split**\n",
    "-  DecisionTreeClassifier(min_samples_split = __)"
   ]
  },
  {
   "cell_type": "markdown",
   "metadata": {
    "cell_style": "split",
    "slideshow": {
     "slide_type": "-"
    }
   },
   "source": [
    "<center><img src = \"images/minsampleplit.png\"></center>"
   ]
  },
  {
   "cell_type": "markdown",
   "metadata": {
    "cell_style": "split",
    "slideshow": {
     "slide_type": "slide"
    }
   },
   "source": [
    "**Minimum samples in leaf allowed in children**\n",
    "\n",
    "- constrains number of samples in children when optimizing information gain on leafs"
   ]
  },
  {
   "cell_type": "markdown",
   "metadata": {
    "cell_style": "split",
    "slideshow": {
     "slide_type": "-"
    }
   },
   "source": [
    "<center><img src = \"images/minsampleleaf.png\"></center>"
   ]
  },
  {
   "cell_type": "code",
   "execution_count": 26,
   "metadata": {
    "hidden": true,
    "slideshow": {
     "slide_type": "slide"
    }
   },
   "outputs": [
    {
     "name": "stdout",
     "output_type": "stream",
     "text": [
      "Training: 0.9714285714285714\n",
      "Testing: 0.9111111111111111\n"
     ]
    },
    {
     "data": {
      "image/png": "[encoded data removed]",
      "text/plain": [
       "<Figure size 720x720 with 1 Axes>"
      ]
     },
     "metadata": {
      "needs_background": "light"
     },
     "output_type": "display_data"
    }
   ],
   "source": [
    "\n",
    "# Stop it from running too long\n",
    "tree_clf = DecisionTreeClassifier(criterion = 'entropy', max_depth=4, random_state=42)\n",
    "tree_clf.fit(X_train, y_train)\n",
    "\n",
    "# Accuracy on training data & test data\n",
    "print('Training:', tree_clf.score(X_train, y_train))\n",
    "print('Testing:', tree_clf.score(X_test, y_test))\n",
    "\n",
    "\n",
    "f, ax = plt.subplots(figsize=(10, 10))\n",
    "plot_tree(tree_clf, ax=ax);"
   ]
  },
  {
   "cell_type": "markdown",
   "metadata": {
    "heading_collapsed": true,
    "slideshow": {
     "slide_type": "slide"
    }
   },
   "source": [
    "#### Feature Importances"
   ]
  },
  {
   "cell_type": "markdown",
   "metadata": {
    "hidden": true,
    "slideshow": {
     "slide_type": "fragment"
    }
   },
   "source": [
    "The fitted tree has an attribute called `ct.feature_importances_`:\n",
    "\n",
    "- Importance of feature: impurity decrease averaged over nodes splitting on given feature. (roughly) \n",
    "\n",
    "i.e., how useful is feature in model for aiding in class differentiation?"
   ]
  },
  {
   "cell_type": "code",
   "execution_count": 27,
   "metadata": {
    "hidden": true,
    "slideshow": {
     "slide_type": "slide"
    }
   },
   "outputs": [
    {
     "name": "stdout",
     "output_type": "stream",
     "text": [
      "0.9561968088027605 petal_width\n",
      "0.04380319119723953 sepal_length\n"
     ]
    }
   ],
   "source": [
    "dt = DecisionTreeClassifier(random_state=42)\n",
    "feature_used = X_train.columns\n",
    "dt.fit(X, y)\n",
    "\n",
    "for fi, feature in zip(dt.feature_importances_, feature_used):\n",
    "    print(fi, feature)"
   ]
  },
  {
   "cell_type": "markdown",
   "metadata": {
    "slideshow": {
     "slide_type": "slide"
    }
   },
   "source": [
    "# Conclusions"
   ]
  },
  {
   "cell_type": "markdown",
   "metadata": {
    "slideshow": {
     "slide_type": "fragment"
    }
   },
   "source": [
    "- The decision tree is a \"white-box\" type of ML algorithm. It shares internal decision-making logic, which is not available in the black-box type of algorithms such as Neural Network.\n",
    "- Its training time is faster compared to other algorithms such as neural networks.\n",
    "- The decision tree is a non-parametric method, which does not depend upon probability distribution assumptions.\n",
    "- Decision trees can handle high-dimensional data with good accuracy."
   ]
  },
  {
   "cell_type": "markdown",
   "metadata": {
    "heading_collapsed": true,
    "hidden": true,
    "slideshow": {
     "slide_type": "slide"
    }
   },
   "source": [
    "#### Pros"
   ]
  },
  {
   "cell_type": "markdown",
   "metadata": {
    "hidden": true,
    "slideshow": {
     "slide_type": "fragment"
    }
   },
   "source": [
    "- Easy to interpret and visualize model structure\n",
    "- Can easily capture non-linear patterns in features\n",
    "- Require little data preprocessing from the user (no need to normalize data)\n",
    "- Make no assumptions about distribution because its non-parametric"
   ]
  },
  {
   "cell_type": "markdown",
   "metadata": {
    "heading_collapsed": true,
    "hidden": true,
    "slideshow": {
     "slide_type": "slide"
    }
   },
   "source": [
    "#### Cons"
   ]
  },
  {
   "cell_type": "markdown",
   "metadata": {
    "hidden": true,
    "slideshow": {
     "slide_type": "fragment"
    }
   },
   "source": [
    "- Sensitive to noisy data (overfit)\n",
    "- Trouble with imbalanced datasets\n",
    "- Predictive accuracy usually not as good as other approaches."
   ]
  },
  {
   "cell_type": "markdown",
   "metadata": {
    "slideshow": {
     "slide_type": "slide"
    }
   },
   "source": [
    "But aggregating many decision trees together: \n",
    "- the predictive performance can be improved substantially.\n",
    "- still keep a high degree of speed"
   ]
  },
  {
   "cell_type": "markdown",
   "metadata": {
    "slideshow": {
     "slide_type": "slide"
    }
   },
   "source": [
    "# Important Terminology Related to Decision Trees"
   ]
  },
  {
   "cell_type": "markdown",
   "metadata": {
    "slideshow": {
     "slide_type": "slide"
    }
   },
   "source": [
    "- **Root Node:** Represents entire population or sample.\n",
    "- **Decision Node:** Node that is split.\n",
    "- **Leaf/ Terminal Node:** Node with no children.\n",
    "- **Pruning:** Removing nodes.\n",
    "- **Branch / Sub-Tree:** A sub-section of a decision tree.\n",
    "- **Parent and Child Node:** A node divided into sub-nodes is the parent; the sub-nodes are its children.\n",
    "\n",
    "<img src='./images/decision_leaf.webp' width=600 />"
   ]
  },
  {
   "cell_type": "code",
   "execution_count": 29,
   "metadata": {},
   "outputs": [
    {
     "name": "stdout",
     "output_type": "stream",
     "text": [
      "Fitting 5 folds for each of 144 candidates, totalling 720 fits\n",
      "Best Parameters: {'criterion': 'gini', 'max_depth': None, 'min_samples_leaf': 1, 'min_samples_split': 10, 'splitter': 'best'}\n",
      "Accuracy: 1.0\n",
      "\n",
      "Classification Report:\n",
      "               precision    recall  f1-score   support\n",
      "\n",
      "      setosa       1.00      1.00      1.00        19\n",
      "  versicolor       1.00      1.00      1.00        13\n",
      "   virginica       1.00      1.00      1.00        13\n",
      "\n",
      "    accuracy                           1.00        45\n",
      "   macro avg       1.00      1.00      1.00        45\n",
      "weighted avg       1.00      1.00      1.00        45\n",
      "\n"
     ]
    }
   ],
   "source": [
    "# Import necessary libraries\n",
    "from sklearn.model_selection import  GridSearchCV\n",
    "\n",
    "# Load the Iris dataset\n",
    "X = iris_df.drop(columns='species', axis=1)#iris.data\n",
    "y = iris_df['species']   #iris.target\n",
    "\n",
    "# Split the data into training and testing sets\n",
    "X_train, X_test, y_train, y_test = train_test_split(X, y, test_size=0.3, random_state=42)\n",
    "\n",
    "# Define a parameter grid to search over\n",
    "param_grid = {\n",
    "    'criterion': ['gini', 'entropy'],\n",
    "    'splitter': ['best', 'random'],\n",
    "    'max_depth': [None, 10, 20, 30],\n",
    "    'min_samples_split': [2, 5, 10],\n",
    "    'min_samples_leaf': [1, 2, 4]\n",
    "}\n",
    "\n",
    "# Instantiate a DecisionTreeClassifier\n",
    "dt = DecisionTreeClassifier(random_state=42)\n",
    "\n",
    "# Instantiate GridSearchCV with the DecisionTreeClassifier and parameter grid\n",
    "grid_search = GridSearchCV(estimator=dt, param_grid=param_grid,scoring =None, cv=5, n_jobs=-1, verbose=1,return_train_score=True)\n",
    "\n",
    "# Fit the GridSearchCV to the training data\n",
    "grid_search.fit(X_train, y_train)\n",
    "\n",
    "# Get the best parameters and the best estimator\n",
    "best_params = grid_search.best_params_\n",
    "best_estimator = grid_search.best_estimator_\n",
    "\n",
    "# Print the best parameters\n",
    "print(\"Best Parameters:\", best_params)\n",
    "\n",
    "# Predict on the test set using the best estimator\n",
    "y_pred = best_estimator.predict(X_test)\n",
    "\n",
    "# Evaluate the model\n",
    "accuracy = accuracy_score(y_test, y_pred)\n",
    "print(\"Accuracy:\", accuracy)\n",
    "print(\"\\nClassification Report:\\n\", classification_report(y_test, y_pred))"
   ]
  },
  {
   "cell_type": "code",
   "execution_count": 30,
   "metadata": {},
   "outputs": [],
   "source": [
    "# Get the results\n",
    "cv_results = grid_search.cv_results_\n",
    "# Extract the train and test scores for each for each hyperparameter combination\n",
    "mean_train_scores = cv_results['mean_train_score']\n",
    "std_train_scores = cv_results['std_train_score']\n",
    "mean_test_scores = cv_results['mean_test_score']\n",
    "std_test_scores = cv_results['std_test_score']"
   ]
  },
  {
   "cell_type": "code",
   "execution_count": 31,
   "metadata": {},
   "outputs": [
    {
     "data": {
      "text/plain": [
       "0.9452050264550265"
      ]
     },
     "execution_count": 31,
     "metadata": {},
     "output_type": "execute_result"
    }
   ],
   "source": [
    "np.mean(mean_train_scores)"
   ]
  },
  {
   "cell_type": "code",
   "execution_count": 32,
   "metadata": {},
   "outputs": [
    {
     "data": {
      "text/plain": [
       "0.914814814814815"
      ]
     },
     "execution_count": 32,
     "metadata": {},
     "output_type": "execute_result"
    }
   ],
   "source": [
    "np.mean(mean_test_scores)"
   ]
  },
  {
   "cell_type": "code",
   "execution_count": 33,
   "metadata": {},
   "outputs": [
    {
     "data": {
      "text/plain": [
       "['accuracy',\n",
       " 'adjusted_mutual_info_score',\n",
       " 'adjusted_rand_score',\n",
       " 'average_precision',\n",
       " 'balanced_accuracy',\n",
       " 'completeness_score',\n",
       " 'explained_variance',\n",
       " 'f1',\n",
       " 'f1_macro',\n",
       " 'f1_micro',\n",
       " 'f1_samples',\n",
       " 'f1_weighted',\n",
       " 'fowlkes_mallows_score',\n",
       " 'homogeneity_score',\n",
       " 'jaccard',\n",
       " 'jaccard_macro',\n",
       " 'jaccard_micro',\n",
       " 'jaccard_samples',\n",
       " 'jaccard_weighted',\n",
       " 'matthews_corrcoef',\n",
       " 'max_error',\n",
       " 'mutual_info_score',\n",
       " 'neg_brier_score',\n",
       " 'neg_log_loss',\n",
       " 'neg_mean_absolute_error',\n",
       " 'neg_mean_absolute_percentage_error',\n",
       " 'neg_mean_gamma_deviance',\n",
       " 'neg_mean_poisson_deviance',\n",
       " 'neg_mean_squared_error',\n",
       " 'neg_mean_squared_log_error',\n",
       " 'neg_median_absolute_error',\n",
       " 'neg_root_mean_squared_error',\n",
       " 'normalized_mutual_info_score',\n",
       " 'precision',\n",
       " 'precision_macro',\n",
       " 'precision_micro',\n",
       " 'precision_samples',\n",
       " 'precision_weighted',\n",
       " 'r2',\n",
       " 'rand_score',\n",
       " 'recall',\n",
       " 'recall_macro',\n",
       " 'recall_micro',\n",
       " 'recall_samples',\n",
       " 'recall_weighted',\n",
       " 'roc_auc',\n",
       " 'roc_auc_ovo',\n",
       " 'roc_auc_ovo_weighted',\n",
       " 'roc_auc_ovr',\n",
       " 'roc_auc_ovr_weighted',\n",
       " 'top_k_accuracy',\n",
       " 'v_measure_score']"
      ]
     },
     "execution_count": 33,
     "metadata": {},
     "output_type": "execute_result"
    }
   ],
   "source": [
    "import sklearn\n",
    "sklearn.metrics.get_scorer_names()"
   ]
  },
  {
   "cell_type": "code",
   "execution_count": 34,
   "metadata": {},
   "outputs": [
    {
     "data": {
      "text/plain": [
       "{'mean_fit_time': array([0.00472579, 0.00392027, 0.0035203 , 0.00472431, 0.00350647,\n",
       "        0.00300965, 0.00332108, 0.00312438, 0.00321913, 0.00281591,\n",
       "        0.0027226 , 0.00340314, 0.00282245, 0.00342612, 0.00291772,\n",
       "        0.00271111, 0.0031208 , 0.00240765, 0.00271778, 0.00301332,\n",
       "        0.00280023, 0.00250206, 0.00221   , 0.00231366, 0.00261312,\n",
       "        0.00301356, 0.00252337, 0.00232115, 0.00250793, 0.00262127,\n",
       "        0.00250854, 0.0020071 , 0.00210214, 0.00260973, 0.00241218,\n",
       "        0.00271702, 0.00251155, 0.00281105, 0.00271401, 0.00200529,\n",
       "        0.00230184, 0.00179954, 0.00170641, 0.00301409, 0.0026134 ,\n",
       "        0.00260262, 0.0025135 , 0.00267296, 0.00240679, 0.00371585,\n",
       "        0.00241742, 0.00251555, 0.00291357, 0.00441837, 0.00241828,\n",
       "        0.00361352, 0.0024106 , 0.00301471, 0.0030189 , 0.0023097 ,\n",
       "        0.00391397, 0.00310674, 0.00270834, 0.00301309, 0.00291491,\n",
       "        0.00170441, 0.00220332, 0.00251312, 0.00250883, 0.00272045,\n",
       "        0.00271163, 0.00251813, 0.00260658, 0.00221953, 0.00391726,\n",
       "        0.00231462, 0.00251055, 0.00281134, 0.00261993, 0.00291677,\n",
       "        0.00320687, 0.00290632, 0.00372949, 0.00311351, 0.002705  ,\n",
       "        0.00405784, 0.00290761, 0.00261292, 0.00438313, 0.00251718,\n",
       "        0.0031146 , 0.00263648, 0.00240889, 0.00240197, 0.00372624,\n",
       "        0.00281067, 0.00281982, 0.00313373, 0.00280805, 0.00241523,\n",
       "        0.00348063, 0.00311089, 0.00281463, 0.00292215, 0.00271382,\n",
       "        0.00271325, 0.00373654, 0.00282416, 0.00241723, 0.00233407,\n",
       "        0.00301666, 0.00271597, 0.00368857, 0.00302262, 0.00281019,\n",
       "        0.00326838, 0.00322142, 0.00311933, 0.00301895, 0.00260687,\n",
       "        0.00412326, 0.00342555, 0.00221615, 0.00281806, 0.00230274,\n",
       "        0.00230803, 0.0018044 , 0.00159988, 0.00220828, 0.00160022,\n",
       "        0.00210462, 0.00209756, 0.00150476, 0.00180259, 0.00191135,\n",
       "        0.00191054, 0.00170784, 0.00190701, 0.0022089 , 0.00159922,\n",
       "        0.00210776, 0.00181031, 0.00199976, 0.00210581]),\n",
       " 'std_fit_time': array([1.72999677e-03, 5.80630990e-04, 6.57898422e-04, 1.86490111e-03,\n",
       "        1.26836743e-03, 1.03349435e-05, 6.16168131e-04, 5.89759218e-04,\n",
       "        2.54950653e-04, 6.94227436e-04, 6.14203199e-04, 4.91857781e-04,\n",
       "        5.16223991e-04, 1.67356411e-03, 5.00413856e-04, 4.00990435e-04,\n",
       "        5.95391975e-04, 4.89580546e-04, 6.05629435e-04, 3.25279821e-04,\n",
       "        4.03134050e-04, 6.40613297e-04, 7.52372514e-04, 5.11968543e-04,\n",
       "        5.80972734e-04, 3.10992902e-04, 3.15074907e-04, 4.09553673e-04,\n",
       "        4.51393936e-04, 1.02780396e-03, 4.46668350e-04, 3.25063972e-04,\n",
       "        6.60143030e-04, 5.92154864e-04, 5.03856490e-04, 5.19691254e-04,\n",
       "        4.52662582e-04, 5.18032377e-04, 4.04448252e-04, 1.41693314e-03,\n",
       "        7.50630469e-04, 9.79126783e-04, 8.75396564e-04, 6.43591283e-04,\n",
       "        3.68862610e-04, 8.01847519e-04, 6.48667731e-04, 5.37954136e-04,\n",
       "        4.86143081e-04, 2.92457456e-03, 5.93990109e-04, 4.55479786e-04,\n",
       "        1.88364113e-04, 3.62090616e-03, 3.75336092e-04, 2.49236388e-03,\n",
       "        5.94220099e-04, 5.39773484e-04, 3.13447969e-04, 7.49106328e-04,\n",
       "        3.12617964e-03, 6.67868831e-04, 6.06885595e-04, 3.28253965e-04,\n",
       "        6.73216661e-04, 5.96513001e-04, 7.49272066e-04, 4.52210308e-04,\n",
       "        4.45068329e-04, 5.13513961e-04, 6.12134928e-04, 7.78458610e-04,\n",
       "        4.94084582e-04, 2.63196471e-04, 2.36108878e-03, 2.58939674e-04,\n",
       "        6.30645670e-04, 6.75725626e-04, 5.98088417e-04, 1.12551350e-03,\n",
       "        9.20440208e-04, 6.64996988e-04, 1.03068266e-03, 6.68835262e-04,\n",
       "        7.46552595e-04, 5.65930689e-04, 4.96877763e-04, 5.95661069e-04,\n",
       "        2.43914408e-03, 4.47221638e-04, 2.10461175e-04, 3.94229642e-04,\n",
       "        6.66931281e-04, 4.90351350e-04, 1.43272962e-03, 1.04226005e-03,\n",
       "        5.24427479e-04, 4.78004039e-04, 8.04032226e-04, 3.77727523e-04,\n",
       "        2.21697291e-03, 4.97534985e-04, 6.74567838e-04, 4.64290751e-04,\n",
       "        7.45658405e-04, 5.22044065e-04, 1.08385369e-03, 6.84889505e-04,\n",
       "        6.00503387e-04, 4.04426039e-04, 3.16730244e-04, 5.09906314e-04,\n",
       "        2.04886488e-03, 1.06560477e-03, 4.04899876e-04, 5.13225608e-04,\n",
       "        1.22246218e-03, 2.11342093e-04, 7.06986864e-04, 5.85795992e-04,\n",
       "        3.49790185e-03, 8.05879900e-04, 4.11276193e-04, 6.79700408e-04,\n",
       "        3.99969166e-04, 7.49386598e-04, 7.47974545e-04, 4.89570468e-04,\n",
       "        5.13530140e-04, 4.90427038e-04, 4.85578162e-04, 8.10477558e-04,\n",
       "        4.45458777e-04, 4.00769607e-04, 6.81416056e-04, 1.29055483e-03,\n",
       "        3.95900620e-04, 6.63940919e-04, 2.49517062e-04, 4.88539661e-04,\n",
       "        6.72118350e-04, 5.15953340e-04, 6.33466411e-04, 4.89011899e-04]),\n",
       " 'mean_score_time': array([0.00150414, 0.00231252, 0.00232897, 0.0020133 , 0.00150752,\n",
       "        0.00170202, 0.00261416, 0.00161109, 0.00220776, 0.00211701,\n",
       "        0.0020123 , 0.00201101, 0.001508  , 0.00300598, 0.00201626,\n",
       "        0.00170851, 0.00120721, 0.00110884, 0.00170655, 0.00171404,\n",
       "        0.00220761, 0.00160246, 0.00110354, 0.00140481, 0.00150771,\n",
       "        0.00161357, 0.00140362, 0.00160303, 0.00161572, 0.00160675,\n",
       "        0.00150523, 0.00120206, 0.00170555, 0.00150857, 0.00201225,\n",
       "        0.0016067 , 0.00171084, 0.00160708, 0.00170207, 0.00140252,\n",
       "        0.00110803, 0.00136771, 0.00130754, 0.0013063 , 0.001401  ,\n",
       "        0.00187268, 0.0017108 , 0.00181165, 0.00321045, 0.0017108 ,\n",
       "        0.00180554, 0.00190935, 0.00150762, 0.00161572, 0.00170655,\n",
       "        0.00221334, 0.00161057, 0.0019094 , 0.00411468, 0.00100722,\n",
       "        0.00181189, 0.00141211, 0.00140872, 0.0012054 , 0.00140276,\n",
       "        0.00170579, 0.00190973, 0.00151033, 0.00171018, 0.00100317,\n",
       "        0.00151172, 0.00171146, 0.00110579, 0.00190554, 0.00181451,\n",
       "        0.00180864, 0.00160794, 0.00543218, 0.00220528, 0.00180802,\n",
       "        0.0023222 , 0.00231137, 0.00245323, 0.00200038, 0.0019074 ,\n",
       "        0.00171766, 0.00191813, 0.00180311, 0.00191641, 0.00179582,\n",
       "        0.00190468, 0.0020329 , 0.00141373, 0.00282145, 0.00212064,\n",
       "        0.00140796, 0.00160389, 0.00202293, 0.00160818, 0.00180645,\n",
       "        0.00181665, 0.00190554, 0.00150943, 0.00192771, 0.00150471,\n",
       "        0.00160856, 0.00201335, 0.00211029, 0.00220504, 0.00192537,\n",
       "        0.0027101 , 0.00191073, 0.00313005, 0.00211077, 0.00200872,\n",
       "        0.00181522, 0.00170412, 0.00170555, 0.00170751, 0.00171146,\n",
       "        0.00151162, 0.00151091, 0.00180068, 0.00210671, 0.0013989 ,\n",
       "        0.00140347, 0.00090246, 0.00079994, 0.0010025 , 0.00080404,\n",
       "        0.00150261, 0.00130754, 0.00080261, 0.00150385, 0.00129781,\n",
       "        0.00090389, 0.00080266, 0.00080009, 0.0008007 , 0.00150609,\n",
       "        0.00090394, 0.00099993, 0.00080013, 0.00050325]),\n",
       " 'std_score_time': array([4.48006703e-04, 4.00256060e-04, 8.30766008e-04, 6.32903314e-04,\n",
       "        4.54432241e-04, 3.98520699e-04, 9.92461598e-04, 4.89910340e-04,\n",
       "        1.47755439e-03, 3.81300758e-04, 3.21924112e-04, 3.14817389e-04,\n",
       "        6.38468377e-04, 2.09589330e-03, 3.22174609e-04, 4.01502664e-04,\n",
       "        3.99120438e-04, 6.71253178e-04, 4.01114511e-04, 4.07112144e-04,\n",
       "        1.36397485e-03, 4.90216461e-04, 2.09151269e-04, 4.93010961e-04,\n",
       "        4.49010752e-04, 5.93939288e-04, 4.94357285e-04, 4.90806002e-04,\n",
       "        7.47118442e-04, 4.94930312e-04, 4.53588163e-04, 3.99752853e-04,\n",
       "        6.01623812e-04, 4.40483693e-04, 5.59094181e-04, 4.82488875e-04,\n",
       "        6.11114759e-04, 4.94402247e-04, 3.98199827e-04, 3.76948553e-04,\n",
       "        2.10632774e-04, 5.94005880e-04, 4.08449686e-04, 4.02391009e-04,\n",
       "        4.88774937e-04, 4.29947003e-04, 6.05950068e-04, 6.84208612e-04,\n",
       "        3.45167723e-03, 9.86146345e-04, 3.92675993e-04, 5.00631662e-04,\n",
       "        4.50657575e-04, 7.46916443e-04, 4.01482599e-04, 8.24320776e-04,\n",
       "        3.68507469e-04, 1.95754320e-04, 4.26122099e-03, 6.42704811e-04,\n",
       "        5.05945563e-04, 3.75519674e-04, 3.70542992e-04, 3.97974143e-04,\n",
       "        7.98769487e-04, 7.47221881e-04, 4.98540649e-04, 6.45344307e-04,\n",
       "        4.03928219e-04, 2.84748051e-06, 4.44106700e-04, 6.12488125e-04,\n",
       "        2.13032037e-04, 4.94008465e-04, 3.98141712e-04, 4.00935702e-04,\n",
       "        4.88813011e-04, 6.58469370e-03, 9.26867350e-04, 4.03451314e-04,\n",
       "        1.64388704e-03, 4.00707648e-04, 1.45105037e-03, 5.52536616e-04,\n",
       "        2.01008406e-04, 6.19069560e-04, 8.75782696e-04, 4.01274332e-04,\n",
       "        5.08597763e-04, 3.98714324e-04, 6.62736725e-04, 8.67386485e-04,\n",
       "        4.92454429e-04, 1.89307279e-03, 8.11057123e-04, 5.78879752e-04,\n",
       "        4.92401740e-04, 8.36765842e-04, 4.96885767e-04, 6.83632529e-04,\n",
       "        4.09924084e-04, 6.64225922e-04, 4.55045453e-04, 8.32318059e-04,\n",
       "        4.51729421e-04, 4.92055456e-04, 1.30223018e-03, 2.11876108e-04,\n",
       "        9.79519473e-04, 2.04189366e-04, 1.16787889e-03, 2.02662546e-04,\n",
       "        1.46306322e-03, 8.12915428e-04, 5.52826818e-04, 7.46908166e-04,\n",
       "        6.09774440e-04, 5.97258168e-04, 3.95725241e-04, 3.97479385e-04,\n",
       "        9.03521202e-04, 4.48725970e-04, 3.97520141e-04, 2.06652301e-04,\n",
       "        7.99908135e-04, 4.95256088e-04, 1.96481930e-04, 7.48213531e-04,\n",
       "        6.32801346e-04, 5.11446356e-04, 8.97657008e-04, 6.11407057e-04,\n",
       "        7.49834408e-04, 4.45976966e-04, 4.17027194e-04, 4.93765474e-04,\n",
       "        4.01370568e-04, 4.00043937e-04, 4.00407166e-04, 9.01235689e-04,\n",
       "        1.94866411e-04, 6.37131229e-04, 7.48328265e-04, 4.48164362e-04]),\n",
       " 'param_criterion': masked_array(data=['gini', 'gini', 'gini', 'gini', 'gini', 'gini', 'gini',\n",
       "                    'gini', 'gini', 'gini', 'gini', 'gini', 'gini', 'gini',\n",
       "                    'gini', 'gini', 'gini', 'gini', 'gini', 'gini', 'gini',\n",
       "                    'gini', 'gini', 'gini', 'gini', 'gini', 'gini', 'gini',\n",
       "                    'gini', 'gini', 'gini', 'gini', 'gini', 'gini', 'gini',\n",
       "                    'gini', 'gini', 'gini', 'gini', 'gini', 'gini', 'gini',\n",
       "                    'gini', 'gini', 'gini', 'gini', 'gini', 'gini', 'gini',\n",
       "                    'gini', 'gini', 'gini', 'gini', 'gini', 'gini', 'gini',\n",
       "                    'gini', 'gini', 'gini', 'gini', 'gini', 'gini', 'gini',\n",
       "                    'gini', 'gini', 'gini', 'gini', 'gini', 'gini', 'gini',\n",
       "                    'gini', 'gini', 'entropy', 'entropy', 'entropy',\n",
       "                    'entropy', 'entropy', 'entropy', 'entropy', 'entropy',\n",
       "                    'entropy', 'entropy', 'entropy', 'entropy', 'entropy',\n",
       "                    'entropy', 'entropy', 'entropy', 'entropy', 'entropy',\n",
       "                    'entropy', 'entropy', 'entropy', 'entropy', 'entropy',\n",
       "                    'entropy', 'entropy', 'entropy', 'entropy', 'entropy',\n",
       "                    'entropy', 'entropy', 'entropy', 'entropy', 'entropy',\n",
       "                    'entropy', 'entropy', 'entropy', 'entropy', 'entropy',\n",
       "                    'entropy', 'entropy', 'entropy', 'entropy', 'entropy',\n",
       "                    'entropy', 'entropy', 'entropy', 'entropy', 'entropy',\n",
       "                    'entropy', 'entropy', 'entropy', 'entropy', 'entropy',\n",
       "                    'entropy', 'entropy', 'entropy', 'entropy', 'entropy',\n",
       "                    'entropy', 'entropy', 'entropy', 'entropy', 'entropy',\n",
       "                    'entropy', 'entropy', 'entropy', 'entropy', 'entropy',\n",
       "                    'entropy', 'entropy', 'entropy', 'entropy'],\n",
       "              mask=[False, False, False, False, False, False, False, False,\n",
       "                    False, False, False, False, False, False, False, False,\n",
       "                    False, False, False, False, False, False, False, False,\n",
       "                    False, False, False, False, False, False, False, False,\n",
       "                    False, False, False, False, False, False, False, False,\n",
       "                    False, False, False, False, False, False, False, False,\n",
       "                    False, False, False, False, False, False, False, False,\n",
       "                    False, False, False, False, False, False, False, False,\n",
       "                    False, False, False, False, False, False, False, False,\n",
       "                    False, False, False, False, False, False, False, False,\n",
       "                    False, False, False, False, False, False, False, False,\n",
       "                    False, False, False, False, False, False, False, False,\n",
       "                    False, False, False, False, False, False, False, False,\n",
       "                    False, False, False, False, False, False, False, False,\n",
       "                    False, False, False, False, False, False, False, False,\n",
       "                    False, False, False, False, False, False, False, False,\n",
       "                    False, False, False, False, False, False, False, False,\n",
       "                    False, False, False, False, False, False, False, False],\n",
       "        fill_value='?',\n",
       "             dtype=object),\n",
       " 'param_max_depth': masked_array(data=[None, None, None, None, None, None, None, None, None,\n",
       "                    None, None, None, None, None, None, None, None, None,\n",
       "                    10, 10, 10, 10, 10, 10, 10, 10, 10, 10, 10, 10, 10, 10,\n",
       "                    10, 10, 10, 10, 20, 20, 20, 20, 20, 20, 20, 20, 20, 20,\n",
       "                    20, 20, 20, 20, 20, 20, 20, 20, 30, 30, 30, 30, 30, 30,\n",
       "                    30, 30, 30, 30, 30, 30, 30, 30, 30, 30, 30, 30, None,\n",
       "                    None, None, None, None, None, None, None, None, None,\n",
       "                    None, None, None, None, None, None, None, None, 10, 10,\n",
       "                    10, 10, 10, 10, 10, 10, 10, 10, 10, 10, 10, 10, 10, 10,\n",
       "                    10, 10, 20, 20, 20, 20, 20, 20, 20, 20, 20, 20, 20, 20,\n",
       "                    20, 20, 20, 20, 20, 20, 30, 30, 30, 30, 30, 30, 30, 30,\n",
       "                    30, 30, 30, 30, 30, 30, 30, 30, 30, 30],\n",
       "              mask=[False, False, False, False, False, False, False, False,\n",
       "                    False, False, False, False, False, False, False, False,\n",
       "                    False, False, False, False, False, False, False, False,\n",
       "                    False, False, False, False, False, False, False, False,\n",
       "                    False, False, False, False, False, False, False, False,\n",
       "                    False, False, False, False, False, False, False, False,\n",
       "                    False, False, False, False, False, False, False, False,\n",
       "                    False, False, False, False, False, False, False, False,\n",
       "                    False, False, False, False, False, False, False, False,\n",
       "                    False, False, False, False, False, False, False, False,\n",
       "                    False, False, False, False, False, False, False, False,\n",
       "                    False, False, False, False, False, False, False, False,\n",
       "                    False, False, False, False, False, False, False, False,\n",
       "                    False, False, False, False, False, False, False, False,\n",
       "                    False, False, False, False, False, False, False, False,\n",
       "                    False, False, False, False, False, False, False, False,\n",
       "                    False, False, False, False, False, False, False, False,\n",
       "                    False, False, False, False, False, False, False, False],\n",
       "        fill_value='?',\n",
       "             dtype=object),\n",
       " 'param_min_samples_leaf': masked_array(data=[1, 1, 1, 1, 1, 1, 2, 2, 2, 2, 2, 2, 4, 4, 4, 4, 4, 4,\n",
       "                    1, 1, 1, 1, 1, 1, 2, 2, 2, 2, 2, 2, 4, 4, 4, 4, 4, 4,\n",
       "                    1, 1, 1, 1, 1, 1, 2, 2, 2, 2, 2, 2, 4, 4, 4, 4, 4, 4,\n",
       "                    1, 1, 1, 1, 1, 1, 2, 2, 2, 2, 2, 2, 4, 4, 4, 4, 4, 4,\n",
       "                    1, 1, 1, 1, 1, 1, 2, 2, 2, 2, 2, 2, 4, 4, 4, 4, 4, 4,\n",
       "                    1, 1, 1, 1, 1, 1, 2, 2, 2, 2, 2, 2, 4, 4, 4, 4, 4, 4,\n",
       "                    1, 1, 1, 1, 1, 1, 2, 2, 2, 2, 2, 2, 4, 4, 4, 4, 4, 4,\n",
       "                    1, 1, 1, 1, 1, 1, 2, 2, 2, 2, 2, 2, 4, 4, 4, 4, 4, 4],\n",
       "              mask=[False, False, False, False, False, False, False, False,\n",
       "                    False, False, False, False, False, False, False, False,\n",
       "                    False, False, False, False, False, False, False, False,\n",
       "                    False, False, False, False, False, False, False, False,\n",
       "                    False, False, False, False, False, False, False, False,\n",
       "                    False, False, False, False, False, False, False, False,\n",
       "                    False, False, False, False, False, False, False, False,\n",
       "                    False, False, False, False, False, False, False, False,\n",
       "                    False, False, False, False, False, False, False, False,\n",
       "                    False, False, False, False, False, False, False, False,\n",
       "                    False, False, False, False, False, False, False, False,\n",
       "                    False, False, False, False, False, False, False, False,\n",
       "                    False, False, False, False, False, False, False, False,\n",
       "                    False, False, False, False, False, False, False, False,\n",
       "                    False, False, False, False, False, False, False, False,\n",
       "                    False, False, False, False, False, False, False, False,\n",
       "                    False, False, False, False, False, False, False, False,\n",
       "                    False, False, False, False, False, False, False, False],\n",
       "        fill_value='?',\n",
       "             dtype=object),\n",
       " 'param_min_samples_split': masked_array(data=[2, 2, 5, 5, 10, 10, 2, 2, 5, 5, 10, 10, 2, 2, 5, 5, 10,\n",
       "                    10, 2, 2, 5, 5, 10, 10, 2, 2, 5, 5, 10, 10, 2, 2, 5, 5,\n",
       "                    10, 10, 2, 2, 5, 5, 10, 10, 2, 2, 5, 5, 10, 10, 2, 2,\n",
       "                    5, 5, 10, 10, 2, 2, 5, 5, 10, 10, 2, 2, 5, 5, 10, 10,\n",
       "                    2, 2, 5, 5, 10, 10, 2, 2, 5, 5, 10, 10, 2, 2, 5, 5, 10,\n",
       "                    10, 2, 2, 5, 5, 10, 10, 2, 2, 5, 5, 10, 10, 2, 2, 5, 5,\n",
       "                    10, 10, 2, 2, 5, 5, 10, 10, 2, 2, 5, 5, 10, 10, 2, 2,\n",
       "                    5, 5, 10, 10, 2, 2, 5, 5, 10, 10, 2, 2, 5, 5, 10, 10,\n",
       "                    2, 2, 5, 5, 10, 10, 2, 2, 5, 5, 10, 10],\n",
       "              mask=[False, False, False, False, False, False, False, False,\n",
       "                    False, False, False, False, False, False, False, False,\n",
       "                    False, False, False, False, False, False, False, False,\n",
       "                    False, False, False, False, False, False, False, False,\n",
       "                    False, False, False, False, False, False, False, False,\n",
       "                    False, False, False, False, False, False, False, False,\n",
       "                    False, False, False, False, False, False, False, False,\n",
       "                    False, False, False, False, False, False, False, False,\n",
       "                    False, False, False, False, False, False, False, False,\n",
       "                    False, False, False, False, False, False, False, False,\n",
       "                    False, False, False, False, False, False, False, False,\n",
       "                    False, False, False, False, False, False, False, False,\n",
       "                    False, False, False, False, False, False, False, False,\n",
       "                    False, False, False, False, False, False, False, False,\n",
       "                    False, False, False, False, False, False, False, False,\n",
       "                    False, False, False, False, False, False, False, False,\n",
       "                    False, False, False, False, False, False, False, False,\n",
       "                    False, False, False, False, False, False, False, False],\n",
       "        fill_value='?',\n",
       "             dtype=object),\n",
       " 'param_splitter': masked_array(data=['best', 'random', 'best', 'random', 'best', 'random',\n",
       "                    'best', 'random', 'best', 'random', 'best', 'random',\n",
       "                    'best', 'random', 'best', 'random', 'best', 'random',\n",
       "                    'best', 'random', 'best', 'random', 'best', 'random',\n",
       "                    'best', 'random', 'best', 'random', 'best', 'random',\n",
       "                    'best', 'random', 'best', 'random', 'best', 'random',\n",
       "                    'best', 'random', 'best', 'random', 'best', 'random',\n",
       "                    'best', 'random', 'best', 'random', 'best', 'random',\n",
       "                    'best', 'random', 'best', 'random', 'best', 'random',\n",
       "                    'best', 'random', 'best', 'random', 'best', 'random',\n",
       "                    'best', 'random', 'best', 'random', 'best', 'random',\n",
       "                    'best', 'random', 'best', 'random', 'best', 'random',\n",
       "                    'best', 'random', 'best', 'random', 'best', 'random',\n",
       "                    'best', 'random', 'best', 'random', 'best', 'random',\n",
       "                    'best', 'random', 'best', 'random', 'best', 'random',\n",
       "                    'best', 'random', 'best', 'random', 'best', 'random',\n",
       "                    'best', 'random', 'best', 'random', 'best', 'random',\n",
       "                    'best', 'random', 'best', 'random', 'best', 'random',\n",
       "                    'best', 'random', 'best', 'random', 'best', 'random',\n",
       "                    'best', 'random', 'best', 'random', 'best', 'random',\n",
       "                    'best', 'random', 'best', 'random', 'best', 'random',\n",
       "                    'best', 'random', 'best', 'random', 'best', 'random',\n",
       "                    'best', 'random', 'best', 'random', 'best', 'random',\n",
       "                    'best', 'random', 'best', 'random', 'best', 'random'],\n",
       "              mask=[False, False, False, False, False, False, False, False,\n",
       "                    False, False, False, False, False, False, False, False,\n",
       "                    False, False, False, False, False, False, False, False,\n",
       "                    False, False, False, False, False, False, False, False,\n",
       "                    False, False, False, False, False, False, False, False,\n",
       "                    False, False, False, False, False, False, False, False,\n",
       "                    False, False, False, False, False, False, False, False,\n",
       "                    False, False, False, False, False, False, False, False,\n",
       "                    False, False, False, False, False, False, False, False,\n",
       "                    False, False, False, False, False, False, False, False,\n",
       "                    False, False, False, False, False, False, False, False,\n",
       "                    False, False, False, False, False, False, False, False,\n",
       "                    False, False, False, False, False, False, False, False,\n",
       "                    False, False, False, False, False, False, False, False,\n",
       "                    False, False, False, False, False, False, False, False,\n",
       "                    False, False, False, False, False, False, False, False,\n",
       "                    False, False, False, False, False, False, False, False,\n",
       "                    False, False, False, False, False, False, False, False],\n",
       "        fill_value='?',\n",
       "             dtype=object),\n",
       " 'params': [{'criterion': 'gini',\n",
       "   'max_depth': None,\n",
       "   'min_samples_leaf': 1,\n",
       "   'min_samples_split': 2,\n",
       "   'splitter': 'best'},\n",
       "  {'criterion': 'gini',\n",
       "   'max_depth': None,\n",
       "   'min_samples_leaf': 1,\n",
       "   'min_samples_split': 2,\n",
       "   'splitter': 'random'},\n",
       "  {'criterion': 'gini',\n",
       "   'max_depth': None,\n",
       "   'min_samples_leaf': 1,\n",
       "   'min_samples_split': 5,\n",
       "   'splitter': 'best'},\n",
       "  {'criterion': 'gini',\n",
       "   'max_depth': None,\n",
       "   'min_samples_leaf': 1,\n",
       "   'min_samples_split': 5,\n",
       "   'splitter': 'random'},\n",
       "  {'criterion': 'gini',\n",
       "   'max_depth': None,\n",
       "   'min_samples_leaf': 1,\n",
       "   'min_samples_split': 10,\n",
       "   'splitter': 'best'},\n",
       "  {'criterion': 'gini',\n",
       "   'max_depth': None,\n",
       "   'min_samples_leaf': 1,\n",
       "   'min_samples_split': 10,\n",
       "   'splitter': 'random'},\n",
       "  {'criterion': 'gini',\n",
       "   'max_depth': None,\n",
       "   'min_samples_leaf': 2,\n",
       "   'min_samples_split': 2,\n",
       "   'splitter': 'best'},\n",
       "  {'criterion': 'gini',\n",
       "   'max_depth': None,\n",
       "   'min_samples_leaf': 2,\n",
       "   'min_samples_split': 2,\n",
       "   'splitter': 'random'},\n",
       "  {'criterion': 'gini',\n",
       "   'max_depth': None,\n",
       "   'min_samples_leaf': 2,\n",
       "   'min_samples_split': 5,\n",
       "   'splitter': 'best'},\n",
       "  {'criterion': 'gini',\n",
       "   'max_depth': None,\n",
       "   'min_samples_leaf': 2,\n",
       "   'min_samples_split': 5,\n",
       "   'splitter': 'random'},\n",
       "  {'criterion': 'gini',\n",
       "   'max_depth': None,\n",
       "   'min_samples_leaf': 2,\n",
       "   'min_samples_split': 10,\n",
       "   'splitter': 'best'},\n",
       "  {'criterion': 'gini',\n",
       "   'max_depth': None,\n",
       "   'min_samples_leaf': 2,\n",
       "   'min_samples_split': 10,\n",
       "   'splitter': 'random'},\n",
       "  {'criterion': 'gini',\n",
       "   'max_depth': None,\n",
       "   'min_samples_leaf': 4,\n",
       "   'min_samples_split': 2,\n",
       "   'splitter': 'best'},\n",
       "  {'criterion': 'gini',\n",
       "   'max_depth': None,\n",
       "   'min_samples_leaf': 4,\n",
       "   'min_samples_split': 2,\n",
       "   'splitter': 'random'},\n",
       "  {'criterion': 'gini',\n",
       "   'max_depth': None,\n",
       "   'min_samples_leaf': 4,\n",
       "   'min_samples_split': 5,\n",
       "   'splitter': 'best'},\n",
       "  {'criterion': 'gini',\n",
       "   'max_depth': None,\n",
       "   'min_samples_leaf': 4,\n",
       "   'min_samples_split': 5,\n",
       "   'splitter': 'random'},\n",
       "  {'criterion': 'gini',\n",
       "   'max_depth': None,\n",
       "   'min_samples_leaf': 4,\n",
       "   'min_samples_split': 10,\n",
       "   'splitter': 'best'},\n",
       "  {'criterion': 'gini',\n",
       "   'max_depth': None,\n",
       "   'min_samples_leaf': 4,\n",
       "   'min_samples_split': 10,\n",
       "   'splitter': 'random'},\n",
       "  {'criterion': 'gini',\n",
       "   'max_depth': 10,\n",
       "   'min_samples_leaf': 1,\n",
       "   'min_samples_split': 2,\n",
       "   'splitter': 'best'},\n",
       "  {'criterion': 'gini',\n",
       "   'max_depth': 10,\n",
       "   'min_samples_leaf': 1,\n",
       "   'min_samples_split': 2,\n",
       "   'splitter': 'random'},\n",
       "  {'criterion': 'gini',\n",
       "   'max_depth': 10,\n",
       "   'min_samples_leaf': 1,\n",
       "   'min_samples_split': 5,\n",
       "   'splitter': 'best'},\n",
       "  {'criterion': 'gini',\n",
       "   'max_depth': 10,\n",
       "   'min_samples_leaf': 1,\n",
       "   'min_samples_split': 5,\n",
       "   'splitter': 'random'},\n",
       "  {'criterion': 'gini',\n",
       "   'max_depth': 10,\n",
       "   'min_samples_leaf': 1,\n",
       "   'min_samples_split': 10,\n",
       "   'splitter': 'best'},\n",
       "  {'criterion': 'gini',\n",
       "   'max_depth': 10,\n",
       "   'min_samples_leaf': 1,\n",
       "   'min_samples_split': 10,\n",
       "   'splitter': 'random'},\n",
       "  {'criterion': 'gini',\n",
       "   'max_depth': 10,\n",
       "   'min_samples_leaf': 2,\n",
       "   'min_samples_split': 2,\n",
       "   'splitter': 'best'},\n",
       "  {'criterion': 'gini',\n",
       "   'max_depth': 10,\n",
       "   'min_samples_leaf': 2,\n",
       "   'min_samples_split': 2,\n",
       "   'splitter': 'random'},\n",
       "  {'criterion': 'gini',\n",
       "   'max_depth': 10,\n",
       "   'min_samples_leaf': 2,\n",
       "   'min_samples_split': 5,\n",
       "   'splitter': 'best'},\n",
       "  {'criterion': 'gini',\n",
       "   'max_depth': 10,\n",
       "   'min_samples_leaf': 2,\n",
       "   'min_samples_split': 5,\n",
       "   'splitter': 'random'},\n",
       "  {'criterion': 'gini',\n",
       "   'max_depth': 10,\n",
       "   'min_samples_leaf': 2,\n",
       "   'min_samples_split': 10,\n",
       "   'splitter': 'best'},\n",
       "  {'criterion': 'gini',\n",
       "   'max_depth': 10,\n",
       "   'min_samples_leaf': 2,\n",
       "   'min_samples_split': 10,\n",
       "   'splitter': 'random'},\n",
       "  {'criterion': 'gini',\n",
       "   'max_depth': 10,\n",
       "   'min_samples_leaf': 4,\n",
       "   'min_samples_split': 2,\n",
       "   'splitter': 'best'},\n",
       "  {'criterion': 'gini',\n",
       "   'max_depth': 10,\n",
       "   'min_samples_leaf': 4,\n",
       "   'min_samples_split': 2,\n",
       "   'splitter': 'random'},\n",
       "  {'criterion': 'gini',\n",
       "   'max_depth': 10,\n",
       "   'min_samples_leaf': 4,\n",
       "   'min_samples_split': 5,\n",
       "   'splitter': 'best'},\n",
       "  {'criterion': 'gini',\n",
       "   'max_depth': 10,\n",
       "   'min_samples_leaf': 4,\n",
       "   'min_samples_split': 5,\n",
       "   'splitter': 'random'},\n",
       "  {'criterion': 'gini',\n",
       "   'max_depth': 10,\n",
       "   'min_samples_leaf': 4,\n",
       "   'min_samples_split': 10,\n",
       "   'splitter': 'best'},\n",
       "  {'criterion': 'gini',\n",
       "   'max_depth': 10,\n",
       "   'min_samples_leaf': 4,\n",
       "   'min_samples_split': 10,\n",
       "   'splitter': 'random'},\n",
       "  {'criterion': 'gini',\n",
       "   'max_depth': 20,\n",
       "   'min_samples_leaf': 1,\n",
       "   'min_samples_split': 2,\n",
       "   'splitter': 'best'},\n",
       "  {'criterion': 'gini',\n",
       "   'max_depth': 20,\n",
       "   'min_samples_leaf': 1,\n",
       "   'min_samples_split': 2,\n",
       "   'splitter': 'random'},\n",
       "  {'criterion': 'gini',\n",
       "   'max_depth': 20,\n",
       "   'min_samples_leaf': 1,\n",
       "   'min_samples_split': 5,\n",
       "   'splitter': 'best'},\n",
       "  {'criterion': 'gini',\n",
       "   'max_depth': 20,\n",
       "   'min_samples_leaf': 1,\n",
       "   'min_samples_split': 5,\n",
       "   'splitter': 'random'},\n",
       "  {'criterion': 'gini',\n",
       "   'max_depth': 20,\n",
       "   'min_samples_leaf': 1,\n",
       "   'min_samples_split': 10,\n",
       "   'splitter': 'best'},\n",
       "  {'criterion': 'gini',\n",
       "   'max_depth': 20,\n",
       "   'min_samples_leaf': 1,\n",
       "   'min_samples_split': 10,\n",
       "   'splitter': 'random'},\n",
       "  {'criterion': 'gini',\n",
       "   'max_depth': 20,\n",
       "   'min_samples_leaf': 2,\n",
       "   'min_samples_split': 2,\n",
       "   'splitter': 'best'},\n",
       "  {'criterion': 'gini',\n",
       "   'max_depth': 20,\n",
       "   'min_samples_leaf': 2,\n",
       "   'min_samples_split': 2,\n",
       "   'splitter': 'random'},\n",
       "  {'criterion': 'gini',\n",
       "   'max_depth': 20,\n",
       "   'min_samples_leaf': 2,\n",
       "   'min_samples_split': 5,\n",
       "   'splitter': 'best'},\n",
       "  {'criterion': 'gini',\n",
       "   'max_depth': 20,\n",
       "   'min_samples_leaf': 2,\n",
       "   'min_samples_split': 5,\n",
       "   'splitter': 'random'},\n",
       "  {'criterion': 'gini',\n",
       "   'max_depth': 20,\n",
       "   'min_samples_leaf': 2,\n",
       "   'min_samples_split': 10,\n",
       "   'splitter': 'best'},\n",
       "  {'criterion': 'gini',\n",
       "   'max_depth': 20,\n",
       "   'min_samples_leaf': 2,\n",
       "   'min_samples_split': 10,\n",
       "   'splitter': 'random'},\n",
       "  {'criterion': 'gini',\n",
       "   'max_depth': 20,\n",
       "   'min_samples_leaf': 4,\n",
       "   'min_samples_split': 2,\n",
       "   'splitter': 'best'},\n",
       "  {'criterion': 'gini',\n",
       "   'max_depth': 20,\n",
       "   'min_samples_leaf': 4,\n",
       "   'min_samples_split': 2,\n",
       "   'splitter': 'random'},\n",
       "  {'criterion': 'gini',\n",
       "   'max_depth': 20,\n",
       "   'min_samples_leaf': 4,\n",
       "   'min_samples_split': 5,\n",
       "   'splitter': 'best'},\n",
       "  {'criterion': 'gini',\n",
       "   'max_depth': 20,\n",
       "   'min_samples_leaf': 4,\n",
       "   'min_samples_split': 5,\n",
       "   'splitter': 'random'},\n",
       "  {'criterion': 'gini',\n",
       "   'max_depth': 20,\n",
       "   'min_samples_leaf': 4,\n",
       "   'min_samples_split': 10,\n",
       "   'splitter': 'best'},\n",
       "  {'criterion': 'gini',\n",
       "   'max_depth': 20,\n",
       "   'min_samples_leaf': 4,\n",
       "   'min_samples_split': 10,\n",
       "   'splitter': 'random'},\n",
       "  {'criterion': 'gini',\n",
       "   'max_depth': 30,\n",
       "   'min_samples_leaf': 1,\n",
       "   'min_samples_split': 2,\n",
       "   'splitter': 'best'},\n",
       "  {'criterion': 'gini',\n",
       "   'max_depth': 30,\n",
       "   'min_samples_leaf': 1,\n",
       "   'min_samples_split': 2,\n",
       "   'splitter': 'random'},\n",
       "  {'criterion': 'gini',\n",
       "   'max_depth': 30,\n",
       "   'min_samples_leaf': 1,\n",
       "   'min_samples_split': 5,\n",
       "   'splitter': 'best'},\n",
       "  {'criterion': 'gini',\n",
       "   'max_depth': 30,\n",
       "   'min_samples_leaf': 1,\n",
       "   'min_samples_split': 5,\n",
       "   'splitter': 'random'},\n",
       "  {'criterion': 'gini',\n",
       "   'max_depth': 30,\n",
       "   'min_samples_leaf': 1,\n",
       "   'min_samples_split': 10,\n",
       "   'splitter': 'best'},\n",
       "  {'criterion': 'gini',\n",
       "   'max_depth': 30,\n",
       "   'min_samples_leaf': 1,\n",
       "   'min_samples_split': 10,\n",
       "   'splitter': 'random'},\n",
       "  {'criterion': 'gini',\n",
       "   'max_depth': 30,\n",
       "   'min_samples_leaf': 2,\n",
       "   'min_samples_split': 2,\n",
       "   'splitter': 'best'},\n",
       "  {'criterion': 'gini',\n",
       "   'max_depth': 30,\n",
       "   'min_samples_leaf': 2,\n",
       "   'min_samples_split': 2,\n",
       "   'splitter': 'random'},\n",
       "  {'criterion': 'gini',\n",
       "   'max_depth': 30,\n",
       "   'min_samples_leaf': 2,\n",
       "   'min_samples_split': 5,\n",
       "   'splitter': 'best'},\n",
       "  {'criterion': 'gini',\n",
       "   'max_depth': 30,\n",
       "   'min_samples_leaf': 2,\n",
       "   'min_samples_split': 5,\n",
       "   'splitter': 'random'},\n",
       "  {'criterion': 'gini',\n",
       "   'max_depth': 30,\n",
       "   'min_samples_leaf': 2,\n",
       "   'min_samples_split': 10,\n",
       "   'splitter': 'best'},\n",
       "  {'criterion': 'gini',\n",
       "   'max_depth': 30,\n",
       "   'min_samples_leaf': 2,\n",
       "   'min_samples_split': 10,\n",
       "   'splitter': 'random'},\n",
       "  {'criterion': 'gini',\n",
       "   'max_depth': 30,\n",
       "   'min_samples_leaf': 4,\n",
       "   'min_samples_split': 2,\n",
       "   'splitter': 'best'},\n",
       "  {'criterion': 'gini',\n",
       "   'max_depth': 30,\n",
       "   'min_samples_leaf': 4,\n",
       "   'min_samples_split': 2,\n",
       "   'splitter': 'random'},\n",
       "  {'criterion': 'gini',\n",
       "   'max_depth': 30,\n",
       "   'min_samples_leaf': 4,\n",
       "   'min_samples_split': 5,\n",
       "   'splitter': 'best'},\n",
       "  {'criterion': 'gini',\n",
       "   'max_depth': 30,\n",
       "   'min_samples_leaf': 4,\n",
       "   'min_samples_split': 5,\n",
       "   'splitter': 'random'},\n",
       "  {'criterion': 'gini',\n",
       "   'max_depth': 30,\n",
       "   'min_samples_leaf': 4,\n",
       "   'min_samples_split': 10,\n",
       "   'splitter': 'best'},\n",
       "  {'criterion': 'gini',\n",
       "   'max_depth': 30,\n",
       "   'min_samples_leaf': 4,\n",
       "   'min_samples_split': 10,\n",
       "   'splitter': 'random'},\n",
       "  {'criterion': 'entropy',\n",
       "   'max_depth': None,\n",
       "   'min_samples_leaf': 1,\n",
       "   'min_samples_split': 2,\n",
       "   'splitter': 'best'},\n",
       "  {'criterion': 'entropy',\n",
       "   'max_depth': None,\n",
       "   'min_samples_leaf': 1,\n",
       "   'min_samples_split': 2,\n",
       "   'splitter': 'random'},\n",
       "  {'criterion': 'entropy',\n",
       "   'max_depth': None,\n",
       "   'min_samples_leaf': 1,\n",
       "   'min_samples_split': 5,\n",
       "   'splitter': 'best'},\n",
       "  {'criterion': 'entropy',\n",
       "   'max_depth': None,\n",
       "   'min_samples_leaf': 1,\n",
       "   'min_samples_split': 5,\n",
       "   'splitter': 'random'},\n",
       "  {'criterion': 'entropy',\n",
       "   'max_depth': None,\n",
       "   'min_samples_leaf': 1,\n",
       "   'min_samples_split': 10,\n",
       "   'splitter': 'best'},\n",
       "  {'criterion': 'entropy',\n",
       "   'max_depth': None,\n",
       "   'min_samples_leaf': 1,\n",
       "   'min_samples_split': 10,\n",
       "   'splitter': 'random'},\n",
       "  {'criterion': 'entropy',\n",
       "   'max_depth': None,\n",
       "   'min_samples_leaf': 2,\n",
       "   'min_samples_split': 2,\n",
       "   'splitter': 'best'},\n",
       "  {'criterion': 'entropy',\n",
       "   'max_depth': None,\n",
       "   'min_samples_leaf': 2,\n",
       "   'min_samples_split': 2,\n",
       "   'splitter': 'random'},\n",
       "  {'criterion': 'entropy',\n",
       "   'max_depth': None,\n",
       "   'min_samples_leaf': 2,\n",
       "   'min_samples_split': 5,\n",
       "   'splitter': 'best'},\n",
       "  {'criterion': 'entropy',\n",
       "   'max_depth': None,\n",
       "   'min_samples_leaf': 2,\n",
       "   'min_samples_split': 5,\n",
       "   'splitter': 'random'},\n",
       "  {'criterion': 'entropy',\n",
       "   'max_depth': None,\n",
       "   'min_samples_leaf': 2,\n",
       "   'min_samples_split': 10,\n",
       "   'splitter': 'best'},\n",
       "  {'criterion': 'entropy',\n",
       "   'max_depth': None,\n",
       "   'min_samples_leaf': 2,\n",
       "   'min_samples_split': 10,\n",
       "   'splitter': 'random'},\n",
       "  {'criterion': 'entropy',\n",
       "   'max_depth': None,\n",
       "   'min_samples_leaf': 4,\n",
       "   'min_samples_split': 2,\n",
       "   'splitter': 'best'},\n",
       "  {'criterion': 'entropy',\n",
       "   'max_depth': None,\n",
       "   'min_samples_leaf': 4,\n",
       "   'min_samples_split': 2,\n",
       "   'splitter': 'random'},\n",
       "  {'criterion': 'entropy',\n",
       "   'max_depth': None,\n",
       "   'min_samples_leaf': 4,\n",
       "   'min_samples_split': 5,\n",
       "   'splitter': 'best'},\n",
       "  {'criterion': 'entropy',\n",
       "   'max_depth': None,\n",
       "   'min_samples_leaf': 4,\n",
       "   'min_samples_split': 5,\n",
       "   'splitter': 'random'},\n",
       "  {'criterion': 'entropy',\n",
       "   'max_depth': None,\n",
       "   'min_samples_leaf': 4,\n",
       "   'min_samples_split': 10,\n",
       "   'splitter': 'best'},\n",
       "  {'criterion': 'entropy',\n",
       "   'max_depth': None,\n",
       "   'min_samples_leaf': 4,\n",
       "   'min_samples_split': 10,\n",
       "   'splitter': 'random'},\n",
       "  {'criterion': 'entropy',\n",
       "   'max_depth': 10,\n",
       "   'min_samples_leaf': 1,\n",
       "   'min_samples_split': 2,\n",
       "   'splitter': 'best'},\n",
       "  {'criterion': 'entropy',\n",
       "   'max_depth': 10,\n",
       "   'min_samples_leaf': 1,\n",
       "   'min_samples_split': 2,\n",
       "   'splitter': 'random'},\n",
       "  {'criterion': 'entropy',\n",
       "   'max_depth': 10,\n",
       "   'min_samples_leaf': 1,\n",
       "   'min_samples_split': 5,\n",
       "   'splitter': 'best'},\n",
       "  {'criterion': 'entropy',\n",
       "   'max_depth': 10,\n",
       "   'min_samples_leaf': 1,\n",
       "   'min_samples_split': 5,\n",
       "   'splitter': 'random'},\n",
       "  {'criterion': 'entropy',\n",
       "   'max_depth': 10,\n",
       "   'min_samples_leaf': 1,\n",
       "   'min_samples_split': 10,\n",
       "   'splitter': 'best'},\n",
       "  {'criterion': 'entropy',\n",
       "   'max_depth': 10,\n",
       "   'min_samples_leaf': 1,\n",
       "   'min_samples_split': 10,\n",
       "   'splitter': 'random'},\n",
       "  {'criterion': 'entropy',\n",
       "   'max_depth': 10,\n",
       "   'min_samples_leaf': 2,\n",
       "   'min_samples_split': 2,\n",
       "   'splitter': 'best'},\n",
       "  {'criterion': 'entropy',\n",
       "   'max_depth': 10,\n",
       "   'min_samples_leaf': 2,\n",
       "   'min_samples_split': 2,\n",
       "   'splitter': 'random'},\n",
       "  {'criterion': 'entropy',\n",
       "   'max_depth': 10,\n",
       "   'min_samples_leaf': 2,\n",
       "   'min_samples_split': 5,\n",
       "   'splitter': 'best'},\n",
       "  {'criterion': 'entropy',\n",
       "   'max_depth': 10,\n",
       "   'min_samples_leaf': 2,\n",
       "   'min_samples_split': 5,\n",
       "   'splitter': 'random'},\n",
       "  {'criterion': 'entropy',\n",
       "   'max_depth': 10,\n",
       "   'min_samples_leaf': 2,\n",
       "   'min_samples_split': 10,\n",
       "   'splitter': 'best'},\n",
       "  {'criterion': 'entropy',\n",
       "   'max_depth': 10,\n",
       "   'min_samples_leaf': 2,\n",
       "   'min_samples_split': 10,\n",
       "   'splitter': 'random'},\n",
       "  {'criterion': 'entropy',\n",
       "   'max_depth': 10,\n",
       "   'min_samples_leaf': 4,\n",
       "   'min_samples_split': 2,\n",
       "   'splitter': 'best'},\n",
       "  {'criterion': 'entropy',\n",
       "   'max_depth': 10,\n",
       "   'min_samples_leaf': 4,\n",
       "   'min_samples_split': 2,\n",
       "   'splitter': 'random'},\n",
       "  {'criterion': 'entropy',\n",
       "   'max_depth': 10,\n",
       "   'min_samples_leaf': 4,\n",
       "   'min_samples_split': 5,\n",
       "   'splitter': 'best'},\n",
       "  {'criterion': 'entropy',\n",
       "   'max_depth': 10,\n",
       "   'min_samples_leaf': 4,\n",
       "   'min_samples_split': 5,\n",
       "   'splitter': 'random'},\n",
       "  {'criterion': 'entropy',\n",
       "   'max_depth': 10,\n",
       "   'min_samples_leaf': 4,\n",
       "   'min_samples_split': 10,\n",
       "   'splitter': 'best'},\n",
       "  {'criterion': 'entropy',\n",
       "   'max_depth': 10,\n",
       "   'min_samples_leaf': 4,\n",
       "   'min_samples_split': 10,\n",
       "   'splitter': 'random'},\n",
       "  {'criterion': 'entropy',\n",
       "   'max_depth': 20,\n",
       "   'min_samples_leaf': 1,\n",
       "   'min_samples_split': 2,\n",
       "   'splitter': 'best'},\n",
       "  {'criterion': 'entropy',\n",
       "   'max_depth': 20,\n",
       "   'min_samples_leaf': 1,\n",
       "   'min_samples_split': 2,\n",
       "   'splitter': 'random'},\n",
       "  {'criterion': 'entropy',\n",
       "   'max_depth': 20,\n",
       "   'min_samples_leaf': 1,\n",
       "   'min_samples_split': 5,\n",
       "   'splitter': 'best'},\n",
       "  {'criterion': 'entropy',\n",
       "   'max_depth': 20,\n",
       "   'min_samples_leaf': 1,\n",
       "   'min_samples_split': 5,\n",
       "   'splitter': 'random'},\n",
       "  {'criterion': 'entropy',\n",
       "   'max_depth': 20,\n",
       "   'min_samples_leaf': 1,\n",
       "   'min_samples_split': 10,\n",
       "   'splitter': 'best'},\n",
       "  {'criterion': 'entropy',\n",
       "   'max_depth': 20,\n",
       "   'min_samples_leaf': 1,\n",
       "   'min_samples_split': 10,\n",
       "   'splitter': 'random'},\n",
       "  {'criterion': 'entropy',\n",
       "   'max_depth': 20,\n",
       "   'min_samples_leaf': 2,\n",
       "   'min_samples_split': 2,\n",
       "   'splitter': 'best'},\n",
       "  {'criterion': 'entropy',\n",
       "   'max_depth': 20,\n",
       "   'min_samples_leaf': 2,\n",
       "   'min_samples_split': 2,\n",
       "   'splitter': 'random'},\n",
       "  {'criterion': 'entropy',\n",
       "   'max_depth': 20,\n",
       "   'min_samples_leaf': 2,\n",
       "   'min_samples_split': 5,\n",
       "   'splitter': 'best'},\n",
       "  {'criterion': 'entropy',\n",
       "   'max_depth': 20,\n",
       "   'min_samples_leaf': 2,\n",
       "   'min_samples_split': 5,\n",
       "   'splitter': 'random'},\n",
       "  {'criterion': 'entropy',\n",
       "   'max_depth': 20,\n",
       "   'min_samples_leaf': 2,\n",
       "   'min_samples_split': 10,\n",
       "   'splitter': 'best'},\n",
       "  {'criterion': 'entropy',\n",
       "   'max_depth': 20,\n",
       "   'min_samples_leaf': 2,\n",
       "   'min_samples_split': 10,\n",
       "   'splitter': 'random'},\n",
       "  {'criterion': 'entropy',\n",
       "   'max_depth': 20,\n",
       "   'min_samples_leaf': 4,\n",
       "   'min_samples_split': 2,\n",
       "   'splitter': 'best'},\n",
       "  {'criterion': 'entropy',\n",
       "   'max_depth': 20,\n",
       "   'min_samples_leaf': 4,\n",
       "   'min_samples_split': 2,\n",
       "   'splitter': 'random'},\n",
       "  {'criterion': 'entropy',\n",
       "   'max_depth': 20,\n",
       "   'min_samples_leaf': 4,\n",
       "   'min_samples_split': 5,\n",
       "   'splitter': 'best'},\n",
       "  {'criterion': 'entropy',\n",
       "   'max_depth': 20,\n",
       "   'min_samples_leaf': 4,\n",
       "   'min_samples_split': 5,\n",
       "   'splitter': 'random'},\n",
       "  {'criterion': 'entropy',\n",
       "   'max_depth': 20,\n",
       "   'min_samples_leaf': 4,\n",
       "   'min_samples_split': 10,\n",
       "   'splitter': 'best'},\n",
       "  {'criterion': 'entropy',\n",
       "   'max_depth': 20,\n",
       "   'min_samples_leaf': 4,\n",
       "   'min_samples_split': 10,\n",
       "   'splitter': 'random'},\n",
       "  {'criterion': 'entropy',\n",
       "   'max_depth': 30,\n",
       "   'min_samples_leaf': 1,\n",
       "   'min_samples_split': 2,\n",
       "   'splitter': 'best'},\n",
       "  {'criterion': 'entropy',\n",
       "   'max_depth': 30,\n",
       "   'min_samples_leaf': 1,\n",
       "   'min_samples_split': 2,\n",
       "   'splitter': 'random'},\n",
       "  {'criterion': 'entropy',\n",
       "   'max_depth': 30,\n",
       "   'min_samples_leaf': 1,\n",
       "   'min_samples_split': 5,\n",
       "   'splitter': 'best'},\n",
       "  {'criterion': 'entropy',\n",
       "   'max_depth': 30,\n",
       "   'min_samples_leaf': 1,\n",
       "   'min_samples_split': 5,\n",
       "   'splitter': 'random'},\n",
       "  {'criterion': 'entropy',\n",
       "   'max_depth': 30,\n",
       "   'min_samples_leaf': 1,\n",
       "   'min_samples_split': 10,\n",
       "   'splitter': 'best'},\n",
       "  {'criterion': 'entropy',\n",
       "   'max_depth': 30,\n",
       "   'min_samples_leaf': 1,\n",
       "   'min_samples_split': 10,\n",
       "   'splitter': 'random'},\n",
       "  {'criterion': 'entropy',\n",
       "   'max_depth': 30,\n",
       "   'min_samples_leaf': 2,\n",
       "   'min_samples_split': 2,\n",
       "   'splitter': 'best'},\n",
       "  {'criterion': 'entropy',\n",
       "   'max_depth': 30,\n",
       "   'min_samples_leaf': 2,\n",
       "   'min_samples_split': 2,\n",
       "   'splitter': 'random'},\n",
       "  {'criterion': 'entropy',\n",
       "   'max_depth': 30,\n",
       "   'min_samples_leaf': 2,\n",
       "   'min_samples_split': 5,\n",
       "   'splitter': 'best'},\n",
       "  {'criterion': 'entropy',\n",
       "   'max_depth': 30,\n",
       "   'min_samples_leaf': 2,\n",
       "   'min_samples_split': 5,\n",
       "   'splitter': 'random'},\n",
       "  {'criterion': 'entropy',\n",
       "   'max_depth': 30,\n",
       "   'min_samples_leaf': 2,\n",
       "   'min_samples_split': 10,\n",
       "   'splitter': 'best'},\n",
       "  {'criterion': 'entropy',\n",
       "   'max_depth': 30,\n",
       "   'min_samples_leaf': 2,\n",
       "   'min_samples_split': 10,\n",
       "   'splitter': 'random'},\n",
       "  {'criterion': 'entropy',\n",
       "   'max_depth': 30,\n",
       "   'min_samples_leaf': 4,\n",
       "   'min_samples_split': 2,\n",
       "   'splitter': 'best'},\n",
       "  {'criterion': 'entropy',\n",
       "   'max_depth': 30,\n",
       "   'min_samples_leaf': 4,\n",
       "   'min_samples_split': 2,\n",
       "   'splitter': 'random'},\n",
       "  {'criterion': 'entropy',\n",
       "   'max_depth': 30,\n",
       "   'min_samples_leaf': 4,\n",
       "   'min_samples_split': 5,\n",
       "   'splitter': 'best'},\n",
       "  {'criterion': 'entropy',\n",
       "   'max_depth': 30,\n",
       "   'min_samples_leaf': 4,\n",
       "   'min_samples_split': 5,\n",
       "   'splitter': 'random'},\n",
       "  {'criterion': 'entropy',\n",
       "   'max_depth': 30,\n",
       "   'min_samples_leaf': 4,\n",
       "   'min_samples_split': 10,\n",
       "   'splitter': 'best'},\n",
       "  {'criterion': 'entropy',\n",
       "   'max_depth': 30,\n",
       "   'min_samples_leaf': 4,\n",
       "   'min_samples_split': 10,\n",
       "   'splitter': 'random'}],\n",
       " 'split0_test_score': array([0.95238095, 0.95238095, 0.95238095, 0.95238095, 0.95238095,\n",
       "        0.95238095, 0.95238095, 0.95238095, 0.95238095, 0.95238095,\n",
       "        0.95238095, 0.95238095, 0.95238095, 0.95238095, 0.95238095,\n",
       "        0.95238095, 0.95238095, 0.95238095, 0.95238095, 0.95238095,\n",
       "        0.95238095, 0.95238095, 0.95238095, 0.95238095, 0.95238095,\n",
       "        0.95238095, 0.95238095, 0.95238095, 0.95238095, 0.95238095,\n",
       "        0.95238095, 0.95238095, 0.95238095, 0.95238095, 0.95238095,\n",
       "        0.95238095, 0.95238095, 0.95238095, 0.95238095, 0.95238095,\n",
       "        0.95238095, 0.95238095, 0.95238095, 0.95238095, 0.95238095,\n",
       "        0.95238095, 0.95238095, 0.95238095, 0.95238095, 0.95238095,\n",
       "        0.95238095, 0.95238095, 0.95238095, 0.95238095, 0.95238095,\n",
       "        0.95238095, 0.95238095, 0.95238095, 0.95238095, 0.95238095,\n",
       "        0.95238095, 0.95238095, 0.95238095, 0.95238095, 0.95238095,\n",
       "        0.95238095, 0.95238095, 0.95238095, 0.95238095, 0.95238095,\n",
       "        0.95238095, 0.95238095, 0.95238095, 0.95238095, 0.95238095,\n",
       "        0.95238095, 0.95238095, 0.95238095, 0.95238095, 0.95238095,\n",
       "        0.95238095, 0.95238095, 0.95238095, 0.95238095, 0.95238095,\n",
       "        0.95238095, 0.95238095, 0.95238095, 0.95238095, 0.95238095,\n",
       "        0.95238095, 0.95238095, 0.95238095, 0.95238095, 0.95238095,\n",
       "        0.95238095, 0.95238095, 0.95238095, 0.95238095, 0.95238095,\n",
       "        0.95238095, 0.95238095, 0.95238095, 0.95238095, 0.95238095,\n",
       "        0.95238095, 0.95238095, 0.95238095, 0.95238095, 0.95238095,\n",
       "        0.95238095, 0.95238095, 0.95238095, 0.95238095, 0.95238095,\n",
       "        0.95238095, 0.95238095, 0.95238095, 0.95238095, 0.95238095,\n",
       "        0.95238095, 0.95238095, 0.95238095, 0.95238095, 0.95238095,\n",
       "        0.95238095, 0.95238095, 0.95238095, 0.95238095, 0.95238095,\n",
       "        0.95238095, 0.95238095, 0.95238095, 0.95238095, 0.95238095,\n",
       "        0.95238095, 0.95238095, 0.95238095, 0.95238095, 0.95238095,\n",
       "        0.95238095, 0.95238095, 0.95238095, 0.95238095]),\n",
       " 'split1_test_score': array([0.9047619, 0.9047619, 0.9047619, 0.9047619, 0.9047619, 0.9047619,\n",
       "        0.9047619, 0.9047619, 0.9047619, 0.9047619, 0.9047619, 0.9047619,\n",
       "        0.9047619, 0.9047619, 0.9047619, 0.9047619, 0.9047619, 0.9047619,\n",
       "        0.9047619, 0.9047619, 0.9047619, 0.9047619, 0.9047619, 0.9047619,\n",
       "        0.9047619, 0.9047619, 0.9047619, 0.9047619, 0.9047619, 0.9047619,\n",
       "        0.9047619, 0.9047619, 0.9047619, 0.9047619, 0.9047619, 0.9047619,\n",
       "        0.9047619, 0.9047619, 0.9047619, 0.9047619, 0.9047619, 0.9047619,\n",
       "        0.9047619, 0.9047619, 0.9047619, 0.9047619, 0.9047619, 0.9047619,\n",
       "        0.9047619, 0.9047619, 0.9047619, 0.9047619, 0.9047619, 0.9047619,\n",
       "        0.9047619, 0.9047619, 0.9047619, 0.9047619, 0.9047619, 0.9047619,\n",
       "        0.9047619, 0.9047619, 0.9047619, 0.9047619, 0.9047619, 0.9047619,\n",
       "        0.9047619, 0.9047619, 0.9047619, 0.9047619, 0.9047619, 0.9047619,\n",
       "        0.9047619, 0.9047619, 0.9047619, 0.9047619, 0.9047619, 0.9047619,\n",
       "        0.9047619, 0.9047619, 0.9047619, 0.9047619, 0.9047619, 0.9047619,\n",
       "        0.9047619, 0.9047619, 0.9047619, 0.9047619, 0.9047619, 0.9047619,\n",
       "        0.9047619, 0.9047619, 0.9047619, 0.9047619, 0.9047619, 0.9047619,\n",
       "        0.9047619, 0.9047619, 0.9047619, 0.9047619, 0.9047619, 0.9047619,\n",
       "        0.9047619, 0.9047619, 0.9047619, 0.9047619, 0.9047619, 0.9047619,\n",
       "        0.9047619, 0.9047619, 0.9047619, 0.9047619, 0.9047619, 0.9047619,\n",
       "        0.9047619, 0.9047619, 0.9047619, 0.9047619, 0.9047619, 0.9047619,\n",
       "        0.9047619, 0.9047619, 0.9047619, 0.9047619, 0.9047619, 0.9047619,\n",
       "        0.9047619, 0.9047619, 0.9047619, 0.9047619, 0.9047619, 0.9047619,\n",
       "        0.9047619, 0.9047619, 0.9047619, 0.9047619, 0.9047619, 0.9047619,\n",
       "        0.9047619, 0.9047619, 0.9047619, 0.9047619, 0.9047619, 0.9047619]),\n",
       " 'split2_test_score': array([0.76190476, 0.85714286, 0.85714286, 0.76190476, 0.85714286,\n",
       "        0.80952381, 0.85714286, 0.80952381, 0.85714286, 0.80952381,\n",
       "        0.85714286, 0.80952381, 0.85714286, 0.71428571, 0.85714286,\n",
       "        0.71428571, 0.85714286, 0.71428571, 0.76190476, 0.85714286,\n",
       "        0.85714286, 0.76190476, 0.85714286, 0.80952381, 0.85714286,\n",
       "        0.80952381, 0.85714286, 0.80952381, 0.85714286, 0.80952381,\n",
       "        0.85714286, 0.71428571, 0.85714286, 0.71428571, 0.85714286,\n",
       "        0.71428571, 0.76190476, 0.85714286, 0.85714286, 0.76190476,\n",
       "        0.85714286, 0.80952381, 0.85714286, 0.80952381, 0.85714286,\n",
       "        0.80952381, 0.85714286, 0.80952381, 0.85714286, 0.71428571,\n",
       "        0.85714286, 0.71428571, 0.85714286, 0.71428571, 0.76190476,\n",
       "        0.85714286, 0.85714286, 0.76190476, 0.85714286, 0.80952381,\n",
       "        0.85714286, 0.80952381, 0.85714286, 0.80952381, 0.85714286,\n",
       "        0.80952381, 0.85714286, 0.71428571, 0.85714286, 0.71428571,\n",
       "        0.85714286, 0.71428571, 0.76190476, 0.85714286, 0.85714286,\n",
       "        0.76190476, 0.85714286, 0.80952381, 0.85714286, 0.80952381,\n",
       "        0.85714286, 0.80952381, 0.85714286, 0.80952381, 0.85714286,\n",
       "        0.71428571, 0.85714286, 0.71428571, 0.85714286, 0.71428571,\n",
       "        0.76190476, 0.85714286, 0.85714286, 0.76190476, 0.85714286,\n",
       "        0.80952381, 0.85714286, 0.80952381, 0.85714286, 0.80952381,\n",
       "        0.85714286, 0.80952381, 0.85714286, 0.71428571, 0.85714286,\n",
       "        0.71428571, 0.85714286, 0.71428571, 0.76190476, 0.85714286,\n",
       "        0.85714286, 0.76190476, 0.85714286, 0.80952381, 0.85714286,\n",
       "        0.80952381, 0.85714286, 0.80952381, 0.85714286, 0.80952381,\n",
       "        0.85714286, 0.71428571, 0.85714286, 0.71428571, 0.85714286,\n",
       "        0.71428571, 0.76190476, 0.85714286, 0.85714286, 0.76190476,\n",
       "        0.85714286, 0.80952381, 0.85714286, 0.80952381, 0.85714286,\n",
       "        0.80952381, 0.85714286, 0.80952381, 0.85714286, 0.71428571,\n",
       "        0.85714286, 0.71428571, 0.85714286, 0.71428571]),\n",
       " 'split3_test_score': array([0.9047619 , 0.9047619 , 0.9047619 , 0.95238095, 0.95238095,\n",
       "        0.95238095, 0.95238095, 0.95238095, 0.95238095, 0.95238095,\n",
       "        0.95238095, 0.9047619 , 0.95238095, 1.        , 0.95238095,\n",
       "        1.        , 0.95238095, 1.        , 0.9047619 , 0.9047619 ,\n",
       "        0.9047619 , 0.95238095, 0.95238095, 0.95238095, 0.95238095,\n",
       "        0.95238095, 0.95238095, 0.95238095, 0.95238095, 0.9047619 ,\n",
       "        0.95238095, 1.        , 0.95238095, 1.        , 0.95238095,\n",
       "        1.        , 0.9047619 , 0.9047619 , 0.9047619 , 0.95238095,\n",
       "        0.95238095, 0.95238095, 0.95238095, 0.95238095, 0.95238095,\n",
       "        0.95238095, 0.95238095, 0.9047619 , 0.95238095, 1.        ,\n",
       "        0.95238095, 1.        , 0.95238095, 1.        , 0.9047619 ,\n",
       "        0.9047619 , 0.9047619 , 0.95238095, 0.95238095, 0.95238095,\n",
       "        0.95238095, 0.95238095, 0.95238095, 0.95238095, 0.95238095,\n",
       "        0.9047619 , 0.95238095, 1.        , 0.95238095, 1.        ,\n",
       "        0.95238095, 1.        , 0.9047619 , 0.9047619 , 0.9047619 ,\n",
       "        0.95238095, 0.95238095, 0.95238095, 0.95238095, 0.95238095,\n",
       "        0.95238095, 0.95238095, 0.95238095, 0.9047619 , 0.95238095,\n",
       "        1.        , 0.95238095, 1.        , 0.95238095, 1.        ,\n",
       "        0.9047619 , 0.9047619 , 0.9047619 , 0.95238095, 0.95238095,\n",
       "        0.95238095, 0.95238095, 0.95238095, 0.95238095, 0.95238095,\n",
       "        0.95238095, 0.9047619 , 0.95238095, 1.        , 0.95238095,\n",
       "        1.        , 0.95238095, 1.        , 0.9047619 , 0.9047619 ,\n",
       "        0.9047619 , 0.95238095, 0.95238095, 0.95238095, 0.95238095,\n",
       "        0.95238095, 0.95238095, 0.95238095, 0.95238095, 0.9047619 ,\n",
       "        0.95238095, 1.        , 0.95238095, 1.        , 0.95238095,\n",
       "        1.        , 0.9047619 , 0.9047619 , 0.9047619 , 0.95238095,\n",
       "        0.95238095, 0.95238095, 0.95238095, 0.95238095, 0.95238095,\n",
       "        0.95238095, 0.95238095, 0.9047619 , 0.95238095, 1.        ,\n",
       "        0.95238095, 1.        , 0.95238095, 1.        ]),\n",
       " 'split4_test_score': array([0.9047619 , 0.85714286, 0.95238095, 0.9047619 , 0.95238095,\n",
       "        1.        , 0.9047619 , 1.        , 0.95238095, 0.95238095,\n",
       "        0.95238095, 1.        , 0.95238095, 1.        , 0.95238095,\n",
       "        1.        , 0.95238095, 1.        , 0.9047619 , 0.85714286,\n",
       "        0.95238095, 0.9047619 , 0.95238095, 1.        , 0.9047619 ,\n",
       "        1.        , 0.95238095, 0.95238095, 0.95238095, 1.        ,\n",
       "        0.95238095, 1.        , 0.95238095, 1.        , 0.95238095,\n",
       "        1.        , 0.9047619 , 0.85714286, 0.95238095, 0.9047619 ,\n",
       "        0.95238095, 1.        , 0.9047619 , 1.        , 0.95238095,\n",
       "        0.95238095, 0.95238095, 1.        , 0.95238095, 1.        ,\n",
       "        0.95238095, 1.        , 0.95238095, 1.        , 0.9047619 ,\n",
       "        0.85714286, 0.95238095, 0.9047619 , 0.95238095, 1.        ,\n",
       "        0.9047619 , 1.        , 0.95238095, 0.95238095, 0.95238095,\n",
       "        1.        , 0.95238095, 1.        , 0.95238095, 1.        ,\n",
       "        0.95238095, 1.        , 0.9047619 , 0.85714286, 0.95238095,\n",
       "        0.9047619 , 0.95238095, 1.        , 0.9047619 , 1.        ,\n",
       "        0.95238095, 0.95238095, 0.95238095, 1.        , 0.95238095,\n",
       "        1.        , 0.95238095, 1.        , 0.95238095, 1.        ,\n",
       "        0.9047619 , 0.85714286, 0.95238095, 0.9047619 , 0.95238095,\n",
       "        1.        , 0.9047619 , 1.        , 0.95238095, 0.95238095,\n",
       "        0.95238095, 1.        , 0.95238095, 1.        , 0.95238095,\n",
       "        1.        , 0.95238095, 1.        , 0.9047619 , 0.85714286,\n",
       "        0.95238095, 0.9047619 , 0.95238095, 1.        , 0.9047619 ,\n",
       "        1.        , 0.95238095, 0.95238095, 0.95238095, 1.        ,\n",
       "        0.95238095, 1.        , 0.95238095, 1.        , 0.95238095,\n",
       "        1.        , 0.9047619 , 0.85714286, 0.95238095, 0.9047619 ,\n",
       "        0.95238095, 1.        , 0.9047619 , 1.        , 0.95238095,\n",
       "        0.95238095, 0.95238095, 1.        , 0.95238095, 1.        ,\n",
       "        0.95238095, 1.        , 0.95238095, 1.        ]),\n",
       " 'mean_test_score': array([0.88571429, 0.8952381 , 0.91428571, 0.8952381 , 0.92380952,\n",
       "        0.92380952, 0.91428571, 0.92380952, 0.92380952, 0.91428571,\n",
       "        0.92380952, 0.91428571, 0.92380952, 0.91428571, 0.92380952,\n",
       "        0.91428571, 0.92380952, 0.91428571, 0.88571429, 0.8952381 ,\n",
       "        0.91428571, 0.8952381 , 0.92380952, 0.92380952, 0.91428571,\n",
       "        0.92380952, 0.92380952, 0.91428571, 0.92380952, 0.91428571,\n",
       "        0.92380952, 0.91428571, 0.92380952, 0.91428571, 0.92380952,\n",
       "        0.91428571, 0.88571429, 0.8952381 , 0.91428571, 0.8952381 ,\n",
       "        0.92380952, 0.92380952, 0.91428571, 0.92380952, 0.92380952,\n",
       "        0.91428571, 0.92380952, 0.91428571, 0.92380952, 0.91428571,\n",
       "        0.92380952, 0.91428571, 0.92380952, 0.91428571, 0.88571429,\n",
       "        0.8952381 , 0.91428571, 0.8952381 , 0.92380952, 0.92380952,\n",
       "        0.91428571, 0.92380952, 0.92380952, 0.91428571, 0.92380952,\n",
       "        0.91428571, 0.92380952, 0.91428571, 0.92380952, 0.91428571,\n",
       "        0.92380952, 0.91428571, 0.88571429, 0.8952381 , 0.91428571,\n",
       "        0.8952381 , 0.92380952, 0.92380952, 0.91428571, 0.92380952,\n",
       "        0.92380952, 0.91428571, 0.92380952, 0.91428571, 0.92380952,\n",
       "        0.91428571, 0.92380952, 0.91428571, 0.92380952, 0.91428571,\n",
       "        0.88571429, 0.8952381 , 0.91428571, 0.8952381 , 0.92380952,\n",
       "        0.92380952, 0.91428571, 0.92380952, 0.92380952, 0.91428571,\n",
       "        0.92380952, 0.91428571, 0.92380952, 0.91428571, 0.92380952,\n",
       "        0.91428571, 0.92380952, 0.91428571, 0.88571429, 0.8952381 ,\n",
       "        0.91428571, 0.8952381 , 0.92380952, 0.92380952, 0.91428571,\n",
       "        0.92380952, 0.92380952, 0.91428571, 0.92380952, 0.91428571,\n",
       "        0.92380952, 0.91428571, 0.92380952, 0.91428571, 0.92380952,\n",
       "        0.91428571, 0.88571429, 0.8952381 , 0.91428571, 0.8952381 ,\n",
       "        0.92380952, 0.92380952, 0.91428571, 0.92380952, 0.92380952,\n",
       "        0.91428571, 0.92380952, 0.91428571, 0.92380952, 0.91428571,\n",
       "        0.92380952, 0.91428571, 0.92380952, 0.91428571]),\n",
       " 'std_test_score': array([0.06459362, 0.03563483, 0.03563483, 0.06998542, 0.03809524,\n",
       "        0.06459362, 0.03563483, 0.06459362, 0.03809524, 0.05553288,\n",
       "        0.03809524, 0.06317381, 0.03809524, 0.10605265, 0.03809524,\n",
       "        0.10605265, 0.03809524, 0.10605265, 0.06459362, 0.03563483,\n",
       "        0.03563483, 0.06998542, 0.03809524, 0.06459362, 0.03563483,\n",
       "        0.06459362, 0.03809524, 0.05553288, 0.03809524, 0.06317381,\n",
       "        0.03809524, 0.10605265, 0.03809524, 0.10605265, 0.03809524,\n",
       "        0.10605265, 0.06459362, 0.03563483, 0.03563483, 0.06998542,\n",
       "        0.03809524, 0.06459362, 0.03563483, 0.06459362, 0.03809524,\n",
       "        0.05553288, 0.03809524, 0.06317381, 0.03809524, 0.10605265,\n",
       "        0.03809524, 0.10605265, 0.03809524, 0.10605265, 0.06459362,\n",
       "        0.03563483, 0.03563483, 0.06998542, 0.03809524, 0.06459362,\n",
       "        0.03563483, 0.06459362, 0.03809524, 0.05553288, 0.03809524,\n",
       "        0.06317381, 0.03809524, 0.10605265, 0.03809524, 0.10605265,\n",
       "        0.03809524, 0.10605265, 0.06459362, 0.03563483, 0.03563483,\n",
       "        0.06998542, 0.03809524, 0.06459362, 0.03563483, 0.06459362,\n",
       "        0.03809524, 0.05553288, 0.03809524, 0.06317381, 0.03809524,\n",
       "        0.10605265, 0.03809524, 0.10605265, 0.03809524, 0.10605265,\n",
       "        0.06459362, 0.03563483, 0.03563483, 0.06998542, 0.03809524,\n",
       "        0.06459362, 0.03563483, 0.06459362, 0.03809524, 0.05553288,\n",
       "        0.03809524, 0.06317381, 0.03809524, 0.10605265, 0.03809524,\n",
       "        0.10605265, 0.03809524, 0.10605265, 0.06459362, 0.03563483,\n",
       "        0.03563483, 0.06998542, 0.03809524, 0.06459362, 0.03563483,\n",
       "        0.06459362, 0.03809524, 0.05553288, 0.03809524, 0.06317381,\n",
       "        0.03809524, 0.10605265, 0.03809524, 0.10605265, 0.03809524,\n",
       "        0.10605265, 0.06459362, 0.03563483, 0.03563483, 0.06998542,\n",
       "        0.03809524, 0.06459362, 0.03563483, 0.06459362, 0.03809524,\n",
       "        0.05553288, 0.03809524, 0.06317381, 0.03809524, 0.10605265,\n",
       "        0.03809524, 0.10605265, 0.03809524, 0.10605265]),\n",
       " 'rank_test_score': array([137, 121,  81, 121,   1,   1,  65,   1,   1,  65,   1,  81,   1,\n",
       "         81,   1,  81,   1,  81, 137, 121,  81, 121,   1,   1,  65,   1,\n",
       "          1,  65,   1,  81,   1,  81,   1,  81,   1,  81, 137, 121,  81,\n",
       "        121,   1,   1,  65,   1,   1,  65,   1,  81,   1,  81,   1,  81,\n",
       "          1,  81, 137, 121,  81, 121,   1,   1,  65,   1,   1,  65,   1,\n",
       "         81,   1,  81,   1,  81,   1,  81, 137, 121,  81, 121,   1,   1,\n",
       "         65,   1,   1,  65,   1,  81,   1,  81,   1,  81,   1,  81, 137,\n",
       "        121,  81, 121,   1,   1,  65,   1,   1,  65,   1,  81,   1,  81,\n",
       "          1,  81,   1,  81, 137, 121,  81, 121,   1,   1,  65,   1,   1,\n",
       "         65,   1,  81,   1,  81,   1,  81,   1,  81, 137, 121,  81, 121,\n",
       "          1,   1,  65,   1,   1,  65,   1,  81,   1,  81,   1,  81,   1,\n",
       "         81]),\n",
       " 'split0_train_score': array([0.97619048, 0.97619048, 0.96428571, 0.94047619, 0.96428571,\n",
       "        0.92857143, 0.94047619, 0.92857143, 0.94047619, 0.92857143,\n",
       "        0.94047619, 0.92857143, 0.94047619, 0.92857143, 0.94047619,\n",
       "        0.92857143, 0.94047619, 0.92857143, 0.97619048, 0.97619048,\n",
       "        0.96428571, 0.94047619, 0.96428571, 0.92857143, 0.94047619,\n",
       "        0.92857143, 0.94047619, 0.92857143, 0.94047619, 0.92857143,\n",
       "        0.94047619, 0.92857143, 0.94047619, 0.92857143, 0.94047619,\n",
       "        0.92857143, 0.97619048, 0.97619048, 0.96428571, 0.94047619,\n",
       "        0.96428571, 0.92857143, 0.94047619, 0.92857143, 0.94047619,\n",
       "        0.92857143, 0.94047619, 0.92857143, 0.94047619, 0.92857143,\n",
       "        0.94047619, 0.92857143, 0.94047619, 0.92857143, 0.97619048,\n",
       "        0.97619048, 0.96428571, 0.94047619, 0.96428571, 0.92857143,\n",
       "        0.94047619, 0.92857143, 0.94047619, 0.92857143, 0.94047619,\n",
       "        0.92857143, 0.94047619, 0.92857143, 0.94047619, 0.92857143,\n",
       "        0.94047619, 0.92857143, 0.97619048, 0.97619048, 0.96428571,\n",
       "        0.95238095, 0.96428571, 0.92857143, 0.94047619, 0.92857143,\n",
       "        0.94047619, 0.92857143, 0.94047619, 0.92857143, 0.94047619,\n",
       "        0.92857143, 0.94047619, 0.92857143, 0.94047619, 0.92857143,\n",
       "        0.97619048, 0.97619048, 0.96428571, 0.95238095, 0.96428571,\n",
       "        0.92857143, 0.94047619, 0.92857143, 0.94047619, 0.92857143,\n",
       "        0.94047619, 0.92857143, 0.94047619, 0.92857143, 0.94047619,\n",
       "        0.92857143, 0.94047619, 0.92857143, 0.97619048, 0.97619048,\n",
       "        0.96428571, 0.95238095, 0.96428571, 0.92857143, 0.94047619,\n",
       "        0.92857143, 0.94047619, 0.92857143, 0.94047619, 0.92857143,\n",
       "        0.94047619, 0.92857143, 0.94047619, 0.92857143, 0.94047619,\n",
       "        0.92857143, 0.97619048, 0.97619048, 0.96428571, 0.95238095,\n",
       "        0.96428571, 0.92857143, 0.94047619, 0.92857143, 0.94047619,\n",
       "        0.92857143, 0.94047619, 0.92857143, 0.94047619, 0.92857143,\n",
       "        0.94047619, 0.92857143, 0.94047619, 0.92857143]),\n",
       " 'split1_train_score': array([0.97619048, 0.97619048, 0.97619048, 0.95238095, 0.96428571,\n",
       "        0.94047619, 0.95238095, 0.94047619, 0.95238095, 0.94047619,\n",
       "        0.95238095, 0.94047619, 0.95238095, 0.94047619, 0.95238095,\n",
       "        0.94047619, 0.95238095, 0.94047619, 0.97619048, 0.97619048,\n",
       "        0.97619048, 0.95238095, 0.96428571, 0.94047619, 0.95238095,\n",
       "        0.94047619, 0.95238095, 0.94047619, 0.95238095, 0.94047619,\n",
       "        0.95238095, 0.94047619, 0.95238095, 0.94047619, 0.95238095,\n",
       "        0.94047619, 0.97619048, 0.97619048, 0.97619048, 0.95238095,\n",
       "        0.96428571, 0.94047619, 0.95238095, 0.94047619, 0.95238095,\n",
       "        0.94047619, 0.95238095, 0.94047619, 0.95238095, 0.94047619,\n",
       "        0.95238095, 0.94047619, 0.95238095, 0.94047619, 0.97619048,\n",
       "        0.97619048, 0.97619048, 0.95238095, 0.96428571, 0.94047619,\n",
       "        0.95238095, 0.94047619, 0.95238095, 0.94047619, 0.95238095,\n",
       "        0.94047619, 0.95238095, 0.94047619, 0.95238095, 0.94047619,\n",
       "        0.95238095, 0.94047619, 0.97619048, 0.97619048, 0.97619048,\n",
       "        0.95238095, 0.96428571, 0.94047619, 0.95238095, 0.94047619,\n",
       "        0.95238095, 0.94047619, 0.95238095, 0.94047619, 0.95238095,\n",
       "        0.94047619, 0.95238095, 0.94047619, 0.95238095, 0.94047619,\n",
       "        0.97619048, 0.97619048, 0.97619048, 0.95238095, 0.96428571,\n",
       "        0.94047619, 0.95238095, 0.94047619, 0.95238095, 0.94047619,\n",
       "        0.95238095, 0.94047619, 0.95238095, 0.94047619, 0.95238095,\n",
       "        0.94047619, 0.95238095, 0.94047619, 0.97619048, 0.97619048,\n",
       "        0.97619048, 0.95238095, 0.96428571, 0.94047619, 0.95238095,\n",
       "        0.94047619, 0.95238095, 0.94047619, 0.95238095, 0.94047619,\n",
       "        0.95238095, 0.94047619, 0.95238095, 0.94047619, 0.95238095,\n",
       "        0.94047619, 0.97619048, 0.97619048, 0.97619048, 0.95238095,\n",
       "        0.96428571, 0.94047619, 0.95238095, 0.94047619, 0.95238095,\n",
       "        0.94047619, 0.95238095, 0.94047619, 0.95238095, 0.94047619,\n",
       "        0.95238095, 0.94047619, 0.95238095, 0.94047619]),\n",
       " 'split2_train_score': array([0.98809524, 0.98809524, 0.96428571, 0.96428571, 0.96428571,\n",
       "        0.96428571, 0.96428571, 0.96428571, 0.96428571, 0.96428571,\n",
       "        0.96428571, 0.96428571, 0.96428571, 0.89285714, 0.96428571,\n",
       "        0.89285714, 0.96428571, 0.89285714, 0.98809524, 0.98809524,\n",
       "        0.96428571, 0.96428571, 0.96428571, 0.96428571, 0.96428571,\n",
       "        0.96428571, 0.96428571, 0.96428571, 0.96428571, 0.96428571,\n",
       "        0.96428571, 0.89285714, 0.96428571, 0.89285714, 0.96428571,\n",
       "        0.89285714, 0.98809524, 0.98809524, 0.96428571, 0.96428571,\n",
       "        0.96428571, 0.96428571, 0.96428571, 0.96428571, 0.96428571,\n",
       "        0.96428571, 0.96428571, 0.96428571, 0.96428571, 0.89285714,\n",
       "        0.96428571, 0.89285714, 0.96428571, 0.89285714, 0.98809524,\n",
       "        0.98809524, 0.96428571, 0.96428571, 0.96428571, 0.96428571,\n",
       "        0.96428571, 0.96428571, 0.96428571, 0.96428571, 0.96428571,\n",
       "        0.96428571, 0.96428571, 0.89285714, 0.96428571, 0.89285714,\n",
       "        0.96428571, 0.89285714, 0.98809524, 0.98809524, 0.97619048,\n",
       "        0.96428571, 0.96428571, 0.96428571, 0.96428571, 0.96428571,\n",
       "        0.96428571, 0.96428571, 0.96428571, 0.96428571, 0.96428571,\n",
       "        0.89285714, 0.96428571, 0.89285714, 0.96428571, 0.89285714,\n",
       "        0.98809524, 0.98809524, 0.97619048, 0.96428571, 0.96428571,\n",
       "        0.96428571, 0.96428571, 0.96428571, 0.96428571, 0.96428571,\n",
       "        0.96428571, 0.96428571, 0.96428571, 0.89285714, 0.96428571,\n",
       "        0.89285714, 0.96428571, 0.89285714, 0.98809524, 0.98809524,\n",
       "        0.97619048, 0.96428571, 0.96428571, 0.96428571, 0.96428571,\n",
       "        0.96428571, 0.96428571, 0.96428571, 0.96428571, 0.96428571,\n",
       "        0.96428571, 0.89285714, 0.96428571, 0.89285714, 0.96428571,\n",
       "        0.89285714, 0.98809524, 0.98809524, 0.97619048, 0.96428571,\n",
       "        0.96428571, 0.96428571, 0.96428571, 0.96428571, 0.96428571,\n",
       "        0.96428571, 0.96428571, 0.96428571, 0.96428571, 0.89285714,\n",
       "        0.96428571, 0.89285714, 0.96428571, 0.89285714]),\n",
       " 'split3_train_score': array([0.96428571, 0.96428571, 0.96428571, 0.94047619, 0.94047619,\n",
       "        0.92857143, 0.94047619, 0.92857143, 0.94047619, 0.92857143,\n",
       "        0.94047619, 0.91666667, 0.94047619, 0.91666667, 0.94047619,\n",
       "        0.91666667, 0.94047619, 0.91666667, 0.96428571, 0.96428571,\n",
       "        0.96428571, 0.94047619, 0.94047619, 0.92857143, 0.94047619,\n",
       "        0.92857143, 0.94047619, 0.92857143, 0.94047619, 0.91666667,\n",
       "        0.94047619, 0.91666667, 0.94047619, 0.91666667, 0.94047619,\n",
       "        0.91666667, 0.96428571, 0.96428571, 0.96428571, 0.94047619,\n",
       "        0.94047619, 0.92857143, 0.94047619, 0.92857143, 0.94047619,\n",
       "        0.92857143, 0.94047619, 0.91666667, 0.94047619, 0.91666667,\n",
       "        0.94047619, 0.91666667, 0.94047619, 0.91666667, 0.96428571,\n",
       "        0.96428571, 0.96428571, 0.94047619, 0.94047619, 0.92857143,\n",
       "        0.94047619, 0.92857143, 0.94047619, 0.92857143, 0.94047619,\n",
       "        0.91666667, 0.94047619, 0.91666667, 0.94047619, 0.91666667,\n",
       "        0.94047619, 0.91666667, 0.96428571, 0.96428571, 0.96428571,\n",
       "        0.94047619, 0.94047619, 0.92857143, 0.94047619, 0.92857143,\n",
       "        0.94047619, 0.92857143, 0.94047619, 0.91666667, 0.94047619,\n",
       "        0.91666667, 0.94047619, 0.91666667, 0.94047619, 0.91666667,\n",
       "        0.96428571, 0.96428571, 0.96428571, 0.94047619, 0.94047619,\n",
       "        0.92857143, 0.94047619, 0.92857143, 0.94047619, 0.92857143,\n",
       "        0.94047619, 0.91666667, 0.94047619, 0.91666667, 0.94047619,\n",
       "        0.91666667, 0.94047619, 0.91666667, 0.96428571, 0.96428571,\n",
       "        0.96428571, 0.94047619, 0.94047619, 0.92857143, 0.94047619,\n",
       "        0.92857143, 0.94047619, 0.92857143, 0.94047619, 0.91666667,\n",
       "        0.94047619, 0.91666667, 0.94047619, 0.91666667, 0.94047619,\n",
       "        0.91666667, 0.96428571, 0.96428571, 0.96428571, 0.94047619,\n",
       "        0.94047619, 0.92857143, 0.94047619, 0.92857143, 0.94047619,\n",
       "        0.92857143, 0.94047619, 0.91666667, 0.94047619, 0.91666667,\n",
       "        0.94047619, 0.91666667, 0.94047619, 0.91666667]),\n",
       " 'split4_train_score': array([0.97619048, 0.97619048, 0.96428571, 0.95238095, 0.95238095,\n",
       "        0.91666667, 0.94047619, 0.91666667, 0.94047619, 0.92857143,\n",
       "        0.94047619, 0.91666667, 0.94047619, 0.91666667, 0.94047619,\n",
       "        0.91666667, 0.94047619, 0.91666667, 0.97619048, 0.96428571,\n",
       "        0.96428571, 0.95238095, 0.95238095, 0.91666667, 0.94047619,\n",
       "        0.91666667, 0.94047619, 0.92857143, 0.94047619, 0.91666667,\n",
       "        0.94047619, 0.91666667, 0.94047619, 0.91666667, 0.94047619,\n",
       "        0.91666667, 0.97619048, 0.97619048, 0.96428571, 0.95238095,\n",
       "        0.95238095, 0.91666667, 0.94047619, 0.91666667, 0.94047619,\n",
       "        0.92857143, 0.94047619, 0.91666667, 0.94047619, 0.91666667,\n",
       "        0.94047619, 0.91666667, 0.94047619, 0.91666667, 0.97619048,\n",
       "        0.97619048, 0.96428571, 0.95238095, 0.95238095, 0.91666667,\n",
       "        0.94047619, 0.91666667, 0.94047619, 0.92857143, 0.94047619,\n",
       "        0.91666667, 0.94047619, 0.91666667, 0.94047619, 0.91666667,\n",
       "        0.94047619, 0.91666667, 0.97619048, 0.97619048, 0.96428571,\n",
       "        0.95238095, 0.95238095, 0.91666667, 0.94047619, 0.91666667,\n",
       "        0.94047619, 0.92857143, 0.94047619, 0.91666667, 0.94047619,\n",
       "        0.91666667, 0.94047619, 0.91666667, 0.94047619, 0.91666667,\n",
       "        0.97619048, 0.96428571, 0.96428571, 0.95238095, 0.95238095,\n",
       "        0.91666667, 0.94047619, 0.91666667, 0.94047619, 0.92857143,\n",
       "        0.94047619, 0.91666667, 0.94047619, 0.91666667, 0.94047619,\n",
       "        0.91666667, 0.94047619, 0.91666667, 0.97619048, 0.97619048,\n",
       "        0.96428571, 0.95238095, 0.95238095, 0.91666667, 0.94047619,\n",
       "        0.91666667, 0.94047619, 0.92857143, 0.94047619, 0.91666667,\n",
       "        0.94047619, 0.91666667, 0.94047619, 0.91666667, 0.94047619,\n",
       "        0.91666667, 0.97619048, 0.97619048, 0.96428571, 0.95238095,\n",
       "        0.95238095, 0.91666667, 0.94047619, 0.91666667, 0.94047619,\n",
       "        0.92857143, 0.94047619, 0.91666667, 0.94047619, 0.91666667,\n",
       "        0.94047619, 0.91666667, 0.94047619, 0.91666667]),\n",
       " 'mean_train_score': array([0.97619048, 0.97619048, 0.96666667, 0.95      , 0.95714286,\n",
       "        0.93571429, 0.94761905, 0.93571429, 0.94761905, 0.93809524,\n",
       "        0.94761905, 0.93333333, 0.94761905, 0.91904762, 0.94761905,\n",
       "        0.91904762, 0.94761905, 0.91904762, 0.97619048, 0.97380952,\n",
       "        0.96666667, 0.95      , 0.95714286, 0.93571429, 0.94761905,\n",
       "        0.93571429, 0.94761905, 0.93809524, 0.94761905, 0.93333333,\n",
       "        0.94761905, 0.91904762, 0.94761905, 0.91904762, 0.94761905,\n",
       "        0.91904762, 0.97619048, 0.97619048, 0.96666667, 0.95      ,\n",
       "        0.95714286, 0.93571429, 0.94761905, 0.93571429, 0.94761905,\n",
       "        0.93809524, 0.94761905, 0.93333333, 0.94761905, 0.91904762,\n",
       "        0.94761905, 0.91904762, 0.94761905, 0.91904762, 0.97619048,\n",
       "        0.97619048, 0.96666667, 0.95      , 0.95714286, 0.93571429,\n",
       "        0.94761905, 0.93571429, 0.94761905, 0.93809524, 0.94761905,\n",
       "        0.93333333, 0.94761905, 0.91904762, 0.94761905, 0.91904762,\n",
       "        0.94761905, 0.91904762, 0.97619048, 0.97619048, 0.96904762,\n",
       "        0.95238095, 0.95714286, 0.93571429, 0.94761905, 0.93571429,\n",
       "        0.94761905, 0.93809524, 0.94761905, 0.93333333, 0.94761905,\n",
       "        0.91904762, 0.94761905, 0.91904762, 0.94761905, 0.91904762,\n",
       "        0.97619048, 0.97380952, 0.96904762, 0.95238095, 0.95714286,\n",
       "        0.93571429, 0.94761905, 0.93571429, 0.94761905, 0.93809524,\n",
       "        0.94761905, 0.93333333, 0.94761905, 0.91904762, 0.94761905,\n",
       "        0.91904762, 0.94761905, 0.91904762, 0.97619048, 0.97619048,\n",
       "        0.96904762, 0.95238095, 0.95714286, 0.93571429, 0.94761905,\n",
       "        0.93571429, 0.94761905, 0.93809524, 0.94761905, 0.93333333,\n",
       "        0.94761905, 0.91904762, 0.94761905, 0.91904762, 0.94761905,\n",
       "        0.91904762, 0.97619048, 0.97619048, 0.96904762, 0.95238095,\n",
       "        0.95714286, 0.93571429, 0.94761905, 0.93571429, 0.94761905,\n",
       "        0.93809524, 0.94761905, 0.93333333, 0.94761905, 0.91904762,\n",
       "        0.94761905, 0.91904762, 0.94761905, 0.91904762]),\n",
       " 'std_train_score': array([0.00752923, 0.00752923, 0.0047619 , 0.00890871, 0.00952381,\n",
       "        0.0161484 , 0.00952381, 0.0161484 , 0.00952381, 0.01388322,\n",
       "        0.00952381, 0.01781742, 0.00952381, 0.01579345, 0.00952381,\n",
       "        0.01579345, 0.00952381, 0.01579345, 0.00752923, 0.00890871,\n",
       "        0.0047619 , 0.00890871, 0.00952381, 0.0161484 , 0.00952381,\n",
       "        0.0161484 , 0.00952381, 0.01388322, 0.00952381, 0.01781742,\n",
       "        0.00952381, 0.01579345, 0.00952381, 0.01579345, 0.00952381,\n",
       "        0.01579345, 0.00752923, 0.00752923, 0.0047619 , 0.00890871,\n",
       "        0.00952381, 0.0161484 , 0.00952381, 0.0161484 , 0.00952381,\n",
       "        0.01388322, 0.00952381, 0.01781742, 0.00952381, 0.01579345,\n",
       "        0.00952381, 0.01579345, 0.00952381, 0.01579345, 0.00752923,\n",
       "        0.00752923, 0.0047619 , 0.00890871, 0.00952381, 0.0161484 ,\n",
       "        0.00952381, 0.0161484 , 0.00952381, 0.01388322, 0.00952381,\n",
       "        0.01781742, 0.00952381, 0.01579345, 0.00952381, 0.01579345,\n",
       "        0.00952381, 0.01579345, 0.00752923, 0.00752923, 0.00583212,\n",
       "        0.00752923, 0.00952381, 0.0161484 , 0.00952381, 0.0161484 ,\n",
       "        0.00952381, 0.01388322, 0.00952381, 0.01781742, 0.00952381,\n",
       "        0.01579345, 0.00952381, 0.01579345, 0.00952381, 0.01579345,\n",
       "        0.00752923, 0.00890871, 0.00583212, 0.00752923, 0.00952381,\n",
       "        0.0161484 , 0.00952381, 0.0161484 , 0.00952381, 0.01388322,\n",
       "        0.00952381, 0.01781742, 0.00952381, 0.01579345, 0.00952381,\n",
       "        0.01579345, 0.00952381, 0.01579345, 0.00752923, 0.00752923,\n",
       "        0.00583212, 0.00752923, 0.00952381, 0.0161484 , 0.00952381,\n",
       "        0.0161484 , 0.00952381, 0.01388322, 0.00952381, 0.01781742,\n",
       "        0.00952381, 0.01579345, 0.00952381, 0.01579345, 0.00952381,\n",
       "        0.01579345, 0.00752923, 0.00752923, 0.00583212, 0.00752923,\n",
       "        0.00952381, 0.0161484 , 0.00952381, 0.0161484 , 0.00952381,\n",
       "        0.01388322, 0.00952381, 0.01781742, 0.00952381, 0.01579345,\n",
       "        0.00952381, 0.01579345, 0.00952381, 0.01579345])}"
      ]
     },
     "execution_count": 34,
     "metadata": {},
     "output_type": "execute_result"
    }
   ],
   "source": [
    "cv_results\n"
   ]
  },
  {
   "cell_type": "code",
   "execution_count": null,
   "metadata": {},
   "outputs": [],
   "source": []
  }
 ],
 "metadata": {
  "kernelspec": {
   "display_name": "learn-env",
   "language": "python",
   "name": "python3"
  },
  "language_info": {
   "codemirror_mode": {
    "name": "ipython",
    "version": 3
   },
   "file_extension": ".py",
   "mimetype": "text/x-python",
   "name": "python",
   "nbconvert_exporter": "python",
   "pygments_lexer": "ipython3",
   "version": "3.8.1"
  },
  "toc": {
   "base_numbering": 1,
   "nav_menu": {},
   "number_sections": true,
   "sideBar": true,
   "skip_h1_title": false,
   "title_cell": "Table of Contents",
   "title_sidebar": "Contents",
   "toc_cell": true,
   "toc_position": {
    "height": "calc(100% - 180px)",
    "left": "10px",
    "top": "150px",
    "width": "280.188px"
   },
   "toc_section_display": true,
   "toc_window_display": true
  }
 },
 "nbformat": 4,
 "nbformat_minor": 4
}
