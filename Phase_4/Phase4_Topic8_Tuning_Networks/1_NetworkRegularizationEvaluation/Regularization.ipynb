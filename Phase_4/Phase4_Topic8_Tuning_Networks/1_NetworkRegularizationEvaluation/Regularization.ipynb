{
 "cells": [
  {
   "cell_type": "markdown",
   "metadata": {
    "slideshow": {
     "slide_type": "slide"
    }
   },
   "source": [
    "<div style=\"color:white;\n",
    "           display:fill;\n",
    "           border-radius:5px;\n",
    "           background-color:#5642C5;\n",
    "           font-size:200%;\n",
    "           font-family:Arial;letter-spacing:0.5px\">\n",
    "\n",
    "<p width = 20%, style=\"padding: 10px;\n",
    "              color:white;\">\n",
    "Neural Networks: Regularization\n",
    "</p>\n",
    "</div>\n",
    "\n",
    "DS-NTL-051324<p>Phase 4</p>\n",
    "<br>\n",
    "<br>\n",
    "\n",
    "<div align = \"right\">\n",
    "<img src=\"Images/flatiron-school-logo.png\" align = \"right\" width=\"200\"/>\n",
    "</div>\n",
    "    \n",
    "    "
   ]
  },
  {
   "cell_type": "code",
   "execution_count": 2,
   "metadata": {
    "slideshow": {
     "slide_type": "skip"
    }
   },
   "outputs": [],
   "source": [
    "from sklearn.datasets import load_sample_images\n",
    "from sklearn.datasets import load_digits\n",
    "from sklearn.model_selection import train_test_split, cross_val_score\n",
    "from sklearn.preprocessing import OneHotEncoder\n",
    "from sklearn.metrics import accuracy_score, confusion_matrix\n",
    "import matplotlib.pyplot as plt\n",
    "import matplotlib.image as mpimg\n",
    "import numpy as np\n",
    "import pandas as pd\n",
    "from sklearn.metrics import ConfusionMatrixDisplay\n",
    "import seaborn as sns\n",
    "\n",
    "from tensorflow.keras import datasets\n",
    "from tensorflow.keras.models import Sequential\n",
    "from tensorflow.keras.layers import Dense, Dropout\n",
    "from tensorflow.keras.callbacks import EarlyStopping\n",
    "from tensorflow.keras.utils import to_categorical\n",
    "from tensorflow.keras.layers import Flatten # takes 2D input and turns into 1D array\n",
    "\n",
    "\n",
    "import tensorflow as tf\n",
    "\n",
    "#Set the global random seed\n",
    "tf.random.set_seed(42)\n"
   ]
  },
  {
   "cell_type": "markdown",
   "metadata": {
    "slideshow": {
     "slide_type": "slide"
    }
   },
   "source": [
    "### Things to remember:\n"
   ]
  },
  {
   "cell_type": "markdown",
   "metadata": {
    "slideshow": {
     "slide_type": "fragment"
    }
   },
   "source": [
    "## STEPS ##\n",
    "\n",
    "1. Load Data\n",
    "2. Define Keras Model\n",
    "3. Compile Keras Model\n",
    "4. Fit Keras Model\n",
    "5. Evaluate Keras Model\n",
    "6. Make Predictions"
   ]
  },
  {
   "cell_type": "markdown",
   "metadata": {
    "slideshow": {
     "slide_type": "slide"
    }
   },
   "source": [
    "\n",
    "- The data and labels in `fit()` need to be numpy arrays, not `pandas` dfs.\n",
    "- Scaling your data will have a large impact on your model.\n",
    "   > For our traditional input features, we would use a scaler object. For images, as long as the minimum value is 0, we can simply divide through by the maximum pixel intensity."
   ]
  },
  {
   "cell_type": "markdown",
   "metadata": {
    "slideshow": {
     "slide_type": "slide"
    }
   },
   "source": [
    "#### Regularization\n",
    "- Retain complexity of neural network: many weights to learn interesting relationships\n",
    "- Make our weights less susceptible to overfitting\n",
    "\n",
    "**Getting neural networks to perform really well**"
   ]
  },
  {
   "cell_type": "markdown",
   "metadata": {
    "slideshow": {
     "slide_type": "slide"
    }
   },
   "source": [
    "In neural networks, two main forms of regularization:\n",
    "- L2 Regularization (something familiar)\n",
    "- Dropout Regularization (something a little new)"
   ]
  },
  {
   "cell_type": "markdown",
   "metadata": {
    "slideshow": {
     "slide_type": "slide"
    }
   },
   "source": [
    "**L2 Regularization**\n",
    "\n",
    "- Add penalty on weight **matrices**.\n",
    "$$ J \\rightarrow J' $$\n",
    "$$ J = \\sum_{i=1}^m \\frac{1}{m}L(y_i, \\hat{y}_i) $$\n",
    "$$ J' = \\sum_{i=1}^m \\frac{1}{m}L(y_i, \\hat{y}_i) + \\frac{\\lambda}{2} \\sum_{l=1}^L \\lVert  W^{[l]}   \\rVert_F^2 $$"
   ]
  },
  {
   "cell_type": "markdown",
   "metadata": {
    "slideshow": {
     "slide_type": "fragment"
    }
   },
   "source": [
    "where $F$ denotes the Frobenius norm."
   ]
  },
  {
   "cell_type": "markdown",
   "metadata": {
    "cell_style": "center",
    "slideshow": {
     "slide_type": "slide"
    }
   },
   "source": [
    "Frobenius norm is square root of sum of of element-wise square:\n",
    "i.e. \n",
    "$$ \\lVert  A   \\rVert_F = \\sqrt{\\sum_{i,j} A_{ij}^2 }$$"
   ]
  },
  {
   "cell_type": "code",
   "execution_count": 3,
   "metadata": {
    "slideshow": {
     "slide_type": "fragment"
    }
   },
   "outputs": [],
   "source": [
    "import numpy as np\n",
    "from numpy.linalg import norm"
   ]
  },
  {
   "cell_type": "code",
   "execution_count": 4,
   "metadata": {
    "cell_style": "split",
    "slideshow": {
     "slide_type": "fragment"
    }
   },
   "outputs": [
    {
     "data": {
      "text/plain": [
       "array([[1, 2],\n",
       "       [0, 3]])"
      ]
     },
     "execution_count": 4,
     "metadata": {},
     "output_type": "execute_result"
    }
   ],
   "source": [
    "A = np.array([[1,2],[0,3]])\n",
    "A"
   ]
  },
  {
   "cell_type": "code",
   "execution_count": 5,
   "metadata": {
    "cell_style": "split",
    "slideshow": {
     "slide_type": "fragment"
    }
   },
   "outputs": [
    {
     "data": {
      "text/plain": [
       "3.7416573867739413"
      ]
     },
     "execution_count": 5,
     "metadata": {},
     "output_type": "execute_result"
    }
   ],
   "source": [
    "norm(A, 'fro')"
   ]
  },
  {
   "cell_type": "code",
   "execution_count": 6,
   "metadata": {
    "cell_style": "split",
    "slideshow": {
     "slide_type": "fragment"
    }
   },
   "outputs": [
    {
     "data": {
      "text/plain": [
       "3.7416573867739413"
      ]
     },
     "execution_count": 6,
     "metadata": {},
     "output_type": "execute_result"
    }
   ],
   "source": [
    "np.sqrt(1**2 + 0**2 + 2**2 + 3**2)"
   ]
  },
  {
   "cell_type": "markdown",
   "metadata": {
    "cell_style": "center",
    "slideshow": {
     "slide_type": "slide"
    }
   },
   "source": [
    "Modiied objective functon:\n",
    "\n",
    "$$ J' = \\sum_{i=1}^m \\frac{1}{m}L(y_i, \\hat{y}_i) + \\frac{\\lambda}{2} \\sum_{l=1}^L \\lVert  W^{[l]}   \\rVert_F^2 $$"
   ]
  },
  {
   "cell_type": "markdown",
   "metadata": {
    "cell_style": "center",
    "slideshow": {
     "slide_type": "fragment"
    }
   },
   "source": [
    "Regularization serves to penalize any particular weight from being too large:\n",
    "- smoothens/redistributes weights for each weight matrix\n",
    "- aids in generalization"
   ]
  },
  {
   "cell_type": "markdown",
   "metadata": {
    "cell_style": "center",
    "slideshow": {
     "slide_type": "slide"
    }
   },
   "source": [
    "L2 regularization: often known as weight decay\n",
    "- Perspective: gradient descent\n",
    "$$ J' = \\sum_{i=1}^m \\frac{1}{m}L(y_i, \\hat{y}_i) + \\frac{\\lambda}{2} \\sum_{l=1}^L \\lVert  W^{[l]}   \\rVert_F^2 $$\n",
    "$$ W^{[l]} \\rightarrow W^{[l]} - \\alpha \\frac{\\partial J'}{\\partial W^{[l]}} $$ "
   ]
  },
  {
   "cell_type": "markdown",
   "metadata": {
    "cell_style": "center",
    "slideshow": {
     "slide_type": "slide"
    }
   },
   "source": [
    "$$ J = \\sum_{i=1}^m \\frac{1}{m}L(y_i, \\hat{y}_i) $$\n",
    "$$ W^{[l]} \\rightarrow \\Big(W^{[l]}  - \\alpha \\frac{\\lambda}{2 m}  W^{[l]} \\Big) - \\alpha \\frac{\\partial J}{\\partial W^{[l]}}$$ \n",
    "\n",
    "- At each iteration regularization tries to reduce magnitude of weight matrix."
   ]
  },
  {
   "cell_type": "markdown",
   "metadata": {
    "slideshow": {
     "slide_type": "slide"
    }
   },
   "source": [
    "#### Implementing L2 regularization in Keras"
   ]
  },
  {
   "cell_type": "code",
   "execution_count": 7,
   "metadata": {
    "slideshow": {
     "slide_type": "fragment"
    }
   },
   "outputs": [],
   "source": [
    "# creates keras regularizer object\n",
    "from tensorflow.keras.regularizers import l2"
   ]
  },
  {
   "cell_type": "markdown",
   "metadata": {
    "cell_style": "center",
    "slideshow": {
     "slide_type": "slide"
    }
   },
   "source": [
    "L2 regularizer object takes in $\\lambda$ parameter as argument"
   ]
  },
  {
   "cell_type": "code",
   "execution_count": 8,
   "metadata": {
    "cell_style": "center",
    "slideshow": {
     "slide_type": "fragment"
    }
   },
   "outputs": [],
   "source": [
    "reg = l2(3e-3) # 1e-5 to .1"
   ]
  },
  {
   "cell_type": "markdown",
   "metadata": {
    "cell_style": "center",
    "slideshow": {
     "slide_type": "slide"
    }
   },
   "source": [
    "Implementing regularization to weights in Keras:\n",
    "- Dense(kernel_regularizer = __)\n",
    "- takes in string ('l2') or regularizer object"
   ]
  },
  {
   "cell_type": "markdown",
   "metadata": {
    "cell_style": "center",
    "slideshow": {
     "slide_type": "fragment"
    }
   },
   "source": [
    "Less common but also used:\n",
    "\n",
    "- can apply regularization to bias terms \n",
    "- Dense(bias_regularizer = __)"
   ]
  },
  {
   "cell_type": "code",
   "execution_count": 9,
   "metadata": {
    "slideshow": {
     "slide_type": "slide"
    }
   },
   "outputs": [],
   "source": [
    "# load in the data\n",
    "(x_train, y_train), (x_test, y_test) = datasets.mnist.load_data()\n",
    "\n",
    "x_train = x_train/255 # normalization\n",
    "x_test = x_test/255\n",
    "\n",
    "# Keras requires multi-class labels to be one-hot encoded\n",
    "y_tr_one_hot = to_categorical(y_train)\n",
    "y_tt_one_hot = to_categorical(y_test)"
   ]
  },
  {
   "cell_type": "code",
   "execution_count": 10,
   "metadata": {
    "slideshow": {
     "slide_type": "slide"
    }
   },
   "outputs": [],
   "source": [
    "model_images = Sequential()\n",
    "model_images.add(Flatten(input_shape=(28, 28))) # flattens each 28x28 image into a vector\n",
    "model_images.add(Dense(32, activation='relu', kernel_regularizer = reg)) # take in regularizer\n",
    "model_images.add(Dense(8, activation='relu', kernel_regularizer = reg))\n",
    "model_images.add(Dense(10, activation='softmax')) # number of units = number of target classes"
   ]
  },
  {
   "cell_type": "code",
   "execution_count": 11,
   "metadata": {
    "slideshow": {
     "slide_type": "fragment"
    }
   },
   "outputs": [],
   "source": [
    "model_images.compile(optimizer='Adam', loss='categorical_crossentropy', metrics=['accuracy'] )"
   ]
  },
  {
   "cell_type": "code",
   "execution_count": 12,
   "metadata": {
    "slideshow": {
     "slide_type": "slide"
    }
   },
   "outputs": [
    {
     "name": "stdout",
     "output_type": "stream",
     "text": [
      "Epoch 1/50\n",
      "1500/1500 [==============================] - 1s 714us/step - loss: 0.6878 - accuracy: 0.8502 - val_loss: 0.4751 - val_accuracy: 0.9107\n",
      "Epoch 2/50\n",
      "1500/1500 [==============================] - 1s 634us/step - loss: 0.4433 - accuracy: 0.9225 - val_loss: 0.4039 - val_accuracy: 0.9323\n",
      "Epoch 3/50\n",
      "1500/1500 [==============================] - 1s 734us/step - loss: 0.3967 - accuracy: 0.9320 - val_loss: 0.3664 - val_accuracy: 0.9407\n",
      "Epoch 4/50\n",
      "1500/1500 [==============================] - 1s 649us/step - loss: 0.3676 - accuracy: 0.9395 - val_loss: 0.3610 - val_accuracy: 0.9402\n",
      "Epoch 5/50\n",
      "1500/1500 [==============================] - 1s 659us/step - loss: 0.3481 - accuracy: 0.9425 - val_loss: 0.3261 - val_accuracy: 0.9506\n",
      "Epoch 6/50\n",
      "1500/1500 [==============================] - 1s 625us/step - loss: 0.3326 - accuracy: 0.9466 - val_loss: 0.3120 - val_accuracy: 0.9537\n",
      "Epoch 7/50\n",
      "1500/1500 [==============================] - 1s 613us/step - loss: 0.3185 - accuracy: 0.9483 - val_loss: 0.3046 - val_accuracy: 0.9547\n",
      "Epoch 8/50\n",
      "1500/1500 [==============================] - 1s 669us/step - loss: 0.3091 - accuracy: 0.9507 - val_loss: 0.3083 - val_accuracy: 0.9507\n",
      "Epoch 9/50\n",
      "1500/1500 [==============================] - 1s 680us/step - loss: 0.3015 - accuracy: 0.9503 - val_loss: 0.2849 - val_accuracy: 0.9577\n",
      "Epoch 10/50\n",
      "1500/1500 [==============================] - 2s 1ms/step - loss: 0.2944 - accuracy: 0.9524 - val_loss: 0.2947 - val_accuracy: 0.9514\n",
      "Epoch 11/50\n",
      "1500/1500 [==============================] - 2s 1ms/step - loss: 0.2877 - accuracy: 0.9536 - val_loss: 0.2840 - val_accuracy: 0.9543\n",
      "Epoch 12/50\n",
      "1500/1500 [==============================] - 2s 1ms/step - loss: 0.2799 - accuracy: 0.9547 - val_loss: 0.2768 - val_accuracy: 0.9567\n",
      "Epoch 13/50\n",
      "1500/1500 [==============================] - 2s 1ms/step - loss: 0.2745 - accuracy: 0.9553 - val_loss: 0.2795 - val_accuracy: 0.9528\n",
      "Epoch 14/50\n",
      "1500/1500 [==============================] - 2s 1ms/step - loss: 0.2703 - accuracy: 0.9565 - val_loss: 0.2713 - val_accuracy: 0.9548\n",
      "Epoch 15/50\n",
      "1500/1500 [==============================] - 2s 1ms/step - loss: 0.2644 - accuracy: 0.9570 - val_loss: 0.2609 - val_accuracy: 0.9582\n",
      "Epoch 16/50\n",
      "1500/1500 [==============================] - 2s 1ms/step - loss: 0.2600 - accuracy: 0.9585 - val_loss: 0.2705 - val_accuracy: 0.9554\n",
      "Epoch 17/50\n",
      "1500/1500 [==============================] - 2s 1ms/step - loss: 0.2570 - accuracy: 0.9583 - val_loss: 0.2593 - val_accuracy: 0.9553\n",
      "Epoch 18/50\n",
      "1500/1500 [==============================] - 2s 1ms/step - loss: 0.2516 - accuracy: 0.9607 - val_loss: 0.2467 - val_accuracy: 0.9611\n",
      "Epoch 19/50\n",
      "1500/1500 [==============================] - 2s 1ms/step - loss: 0.2498 - accuracy: 0.9592 - val_loss: 0.2634 - val_accuracy: 0.9556\n",
      "Epoch 20/50\n",
      "1500/1500 [==============================] - 2s 1ms/step - loss: 0.2457 - accuracy: 0.9604 - val_loss: 0.2488 - val_accuracy: 0.9598\n",
      "Epoch 21/50\n",
      "1500/1500 [==============================] - 2s 1ms/step - loss: 0.2414 - accuracy: 0.9604 - val_loss: 0.2519 - val_accuracy: 0.9590\n",
      "Epoch 22/50\n",
      "1500/1500 [==============================] - 2s 1ms/step - loss: 0.2412 - accuracy: 0.9618 - val_loss: 0.2389 - val_accuracy: 0.9628\n",
      "Epoch 23/50\n",
      "1500/1500 [==============================] - 2s 1ms/step - loss: 0.2378 - accuracy: 0.9612 - val_loss: 0.2491 - val_accuracy: 0.9584\n",
      "Epoch 24/50\n",
      "1500/1500 [==============================] - 2s 1ms/step - loss: 0.2354 - accuracy: 0.9615 - val_loss: 0.2444 - val_accuracy: 0.9594\n",
      "Epoch 25/50\n",
      "1500/1500 [==============================] - 2s 1ms/step - loss: 0.2350 - accuracy: 0.9614 - val_loss: 0.2617 - val_accuracy: 0.9570\n",
      "Epoch 26/50\n",
      "1500/1500 [==============================] - 2s 1ms/step - loss: 0.2325 - accuracy: 0.9621 - val_loss: 0.2531 - val_accuracy: 0.9542\n",
      "Epoch 27/50\n",
      "1500/1500 [==============================] - 2s 1ms/step - loss: 0.2300 - accuracy: 0.9621 - val_loss: 0.2298 - val_accuracy: 0.9637\n",
      "Epoch 28/50\n",
      "1500/1500 [==============================] - 2s 1ms/step - loss: 0.2285 - accuracy: 0.9621 - val_loss: 0.2314 - val_accuracy: 0.9612\n",
      "Epoch 29/50\n",
      "1500/1500 [==============================] - 2s 1ms/step - loss: 0.2270 - accuracy: 0.9619 - val_loss: 0.2255 - val_accuracy: 0.9647\n",
      "Epoch 30/50\n",
      "1500/1500 [==============================] - 1s 999us/step - loss: 0.2255 - accuracy: 0.9632 - val_loss: 0.2345 - val_accuracy: 0.9625\n",
      "Epoch 31/50\n",
      "1500/1500 [==============================] - 2s 1ms/step - loss: 0.2247 - accuracy: 0.9630 - val_loss: 0.2287 - val_accuracy: 0.9626\n",
      "Epoch 32/50\n",
      "1500/1500 [==============================] - 2s 1ms/step - loss: 0.2237 - accuracy: 0.9627 - val_loss: 0.2338 - val_accuracy: 0.9579\n",
      "Epoch 33/50\n",
      "1500/1500 [==============================] - 2s 1ms/step - loss: 0.2216 - accuracy: 0.9631 - val_loss: 0.2508 - val_accuracy: 0.9539\n",
      "Epoch 34/50\n",
      "1500/1500 [==============================] - 2s 1ms/step - loss: 0.2227 - accuracy: 0.9632 - val_loss: 0.2238 - val_accuracy: 0.9622\n",
      "Epoch 35/50\n",
      "1500/1500 [==============================] - 1s 981us/step - loss: 0.2184 - accuracy: 0.9646 - val_loss: 0.2258 - val_accuracy: 0.9624\n",
      "Epoch 36/50\n",
      "1500/1500 [==============================] - 1s 979us/step - loss: 0.2203 - accuracy: 0.9629 - val_loss: 0.2298 - val_accuracy: 0.9606\n",
      "Epoch 37/50\n",
      "1500/1500 [==============================] - 1s 969us/step - loss: 0.2164 - accuracy: 0.9648 - val_loss: 0.2300 - val_accuracy: 0.9623\n",
      "Epoch 38/50\n",
      "1500/1500 [==============================] - 2s 1ms/step - loss: 0.2178 - accuracy: 0.9636 - val_loss: 0.2383 - val_accuracy: 0.9585\n",
      "Epoch 39/50\n",
      "1500/1500 [==============================] - 2s 1ms/step - loss: 0.2164 - accuracy: 0.9633 - val_loss: 0.2586 - val_accuracy: 0.9491\n",
      "Epoch 40/50\n",
      "1500/1500 [==============================] - 2s 1ms/step - loss: 0.2178 - accuracy: 0.9631 - val_loss: 0.2309 - val_accuracy: 0.9611\n",
      "Epoch 41/50\n",
      "1500/1500 [==============================] - 2s 1ms/step - loss: 0.2146 - accuracy: 0.9641 - val_loss: 0.2155 - val_accuracy: 0.9648\n",
      "Epoch 42/50\n",
      "1500/1500 [==============================] - 2s 1ms/step - loss: 0.2151 - accuracy: 0.9641 - val_loss: 0.2292 - val_accuracy: 0.9614\n",
      "Epoch 43/50\n",
      "1500/1500 [==============================] - 2s 1ms/step - loss: 0.2139 - accuracy: 0.9636 - val_loss: 0.2273 - val_accuracy: 0.9580\n",
      "Epoch 44/50\n",
      "1500/1500 [==============================] - 2s 1ms/step - loss: 0.2108 - accuracy: 0.9650 - val_loss: 0.2425 - val_accuracy: 0.9543\n",
      "Epoch 45/50\n",
      "1500/1500 [==============================] - 1s 984us/step - loss: 0.2124 - accuracy: 0.9640 - val_loss: 0.2141 - val_accuracy: 0.9649\n",
      "Epoch 46/50\n",
      "1500/1500 [==============================] - 2s 1ms/step - loss: 0.2111 - accuracy: 0.9635 - val_loss: 0.2271 - val_accuracy: 0.9600\n",
      "Epoch 47/50\n",
      "1500/1500 [==============================] - 2s 1ms/step - loss: 0.2100 - accuracy: 0.9650 - val_loss: 0.2147 - val_accuracy: 0.9644\n",
      "Epoch 48/50\n",
      "1500/1500 [==============================] - 1s 996us/step - loss: 0.2102 - accuracy: 0.9650 - val_loss: 0.2212 - val_accuracy: 0.9617\n",
      "Epoch 49/50\n",
      "1500/1500 [==============================] - 2s 1ms/step - loss: 0.2090 - accuracy: 0.9653 - val_loss: 0.2291 - val_accuracy: 0.9578\n",
      "Epoch 50/50\n",
      "1500/1500 [==============================] - 2s 1ms/step - loss: 0.2079 - accuracy: 0.9651 - val_loss: 0.2211 - val_accuracy: 0.9632\n"
     ]
    }
   ],
   "source": [
    "# verbose=1 allows you to see the output.\n",
    "# To see only the metrics at the end of each epoch, set verbose=2.\n",
    "history_mnist = model_images.fit(x_train, y_tr_one_hot, epochs=50, batch_size= 32, validation_split = 0.2)"
   ]
  },
  {
   "cell_type": "code",
   "execution_count": 13,
   "metadata": {
    "cell_style": "center",
    "slideshow": {
     "slide_type": "slide"
    }
   },
   "outputs": [
    {
     "data": {
      "text/plain": [
       "array([[5.4908651e-07, 1.0226643e-05, 6.4099957e-05, ..., 9.9939036e-01,\n",
       "        4.1103110e-07, 9.0582043e-06],\n",
       "       [6.9613583e-05, 5.3632334e-03, 9.9330753e-01, ..., 6.0414510e-07,\n",
       "        7.2736334e-04, 7.0090732e-11],\n",
       "       [7.5438538e-06, 9.9471682e-01, 1.1472565e-03, ..., 8.1689877e-04,\n",
       "        1.9420208e-03, 6.8074569e-06],\n",
       "       ...,\n",
       "       [1.2427812e-08, 1.2167949e-06, 9.0811332e-09, ..., 9.9370845e-05,\n",
       "        2.4656826e-04, 4.6991534e-03],\n",
       "       [7.5835291e-05, 8.7448052e-06, 2.6105496e-07, ..., 9.4346404e-07,\n",
       "        9.5568621e-04, 7.0743345e-06],\n",
       "       [8.2597435e-05, 4.7775583e-08, 2.6306399e-04, ..., 1.9830531e-09,\n",
       "        9.0989886e-08, 9.1622589e-08]], dtype=float32)"
      ]
     },
     "execution_count": 13,
     "metadata": {},
     "output_type": "execute_result"
    }
   ],
   "source": [
    "# probability for each class\n",
    "y_proba = model_images.predict(x_test)\n",
    "y_proba"
   ]
  },
  {
   "cell_type": "code",
   "execution_count": 14,
   "metadata": {
    "cell_style": "center",
    "slideshow": {
     "slide_type": "fragment"
    }
   },
   "outputs": [
    {
     "name": "stdout",
     "output_type": "stream",
     "text": [
      "WARNING:tensorflow:Callbacks method `on_test_batch_end` is slow compared to the batch time (batch time: 0.0000s vs `on_test_batch_end` time: 0.0010s). Check your callbacks.\n",
      "313/313 - 0s - loss: 0.2145 - accuracy: 0.9621\n"
     ]
    },
    {
     "data": {
      "text/plain": [
       "[0.21451544761657715, 0.9621000289916992]"
      ]
     },
     "execution_count": 14,
     "metadata": {},
     "output_type": "execute_result"
    }
   ],
   "source": [
    "model_images.evaluate(x_test, y_tt_one_hot, verbose = 2)"
   ]
  },
  {
   "cell_type": "code",
   "execution_count": 15,
   "metadata": {
    "cell_style": "center",
    "slideshow": {
     "slide_type": "slide"
    }
   },
   "outputs": [
    {
     "data": {
      "image/png": "[encoded data removed]",
      "text/plain": [
       "<Figure size 432x288 with 1 Axes>"
      ]
     },
     "metadata": {
      "needs_background": "light"
     },
     "output_type": "display_data"
    }
   ],
   "source": [
    "train_mnist_history = pd.DataFrame(history_mnist.history)\n",
    "train_mnist_history.index.name = 'epochs'\n",
    "\n",
    "col_list = ['loss', 'val_loss']\n",
    "train_mnist_history[col_list].plot()\n",
    "plt.ylabel('Categorical cross entropy')\n",
    "plt.title('Training loss history')\n",
    "plt.show()"
   ]
  },
  {
   "cell_type": "code",
   "execution_count": 16,
   "metadata": {
    "cell_style": "split",
    "slideshow": {
     "slide_type": "slide"
    }
   },
   "outputs": [
    {
     "data": {
      "image/png": "[encoded data removed]",
      "text/plain": [
       "<Figure size 432x288 with 1 Axes>"
      ]
     },
     "metadata": {
      "needs_background": "light"
     },
     "output_type": "display_data"
    }
   ],
   "source": [
    "col_list = ['accuracy', 'val_accuracy']\n",
    "train_mnist_history[col_list].plot()\n",
    "plt.ylabel('Accuracy')\n",
    "plt.title('Training loss history')\n",
    "plt.show()"
   ]
  },
  {
   "cell_type": "markdown",
   "metadata": {
    "cell_style": "split",
    "slideshow": {
     "slide_type": "fragment"
    }
   },
   "source": [
    "Better validation accuracy:\n",
    "- 94.5\\% to 96.3\\% with regularization\n",
    "- no overfitting"
   ]
  },
  {
   "cell_type": "code",
   "execution_count": 17,
   "metadata": {
    "slideshow": {
     "slide_type": "slide"
    }
   },
   "outputs": [
    {
     "data": {
      "text/plain": [
       "array([7, 2, 1, ..., 4, 5, 6], dtype=int64)"
      ]
     },
     "execution_count": 17,
     "metadata": {},
     "output_type": "execute_result"
    }
   ],
   "source": [
    "# argmax axis = -1 gets the column index of maximum probability for each row.\n",
    "# column index corresponds to digit classes (numbers 0 -9)\n",
    "predicted = np.argmax(y_proba, axis=-1)\n",
    "predicted"
   ]
  },
  {
   "cell_type": "code",
   "execution_count": 18,
   "metadata": {
    "cell_style": "center",
    "scrolled": false,
    "slideshow": {
     "slide_type": "slide"
    }
   },
   "outputs": [
    {
     "data": {
      "image/png": "[encoded data removed]",
      "text/plain": [
       "<Figure size 432x288 with 2 Axes>"
      ]
     },
     "metadata": {
      "needs_background": "light"
     },
     "output_type": "display_data"
    }
   ],
   "source": [
    "cm_digits = confusion_matrix(y_test, predicted)\n",
    "disp = ConfusionMatrixDisplay(\n",
    "    confusion_matrix=cm_digits)\n",
    "\n",
    "disp.plot(cmap=plt.cm.Blues)\n",
    "plt.show()"
   ]
  },
  {
   "cell_type": "markdown",
   "metadata": {
    "slideshow": {
     "slide_type": "slide"
    }
   },
   "source": [
    "Regularization: \n",
    "- key component to training deeper networks (tend to overfit without regularization)\n",
    "- learn higher order features, but don't overtrain on specifics."
   ]
  },
  {
   "cell_type": "code",
   "execution_count": 19,
   "metadata": {
    "slideshow": {
     "slide_type": "fragment"
    }
   },
   "outputs": [],
   "source": [
    "deepermodel_images = Sequential()\n",
    "deepermodel_images.add(Flatten(input_shape=(28, 28))) # flattens each 28x28 image into a vector\n",
    "deepermodel_images.add(Dense(32, activation='relu', kernel_regularizer = reg)) # take in regularizer\n",
    "deepermodel_images.add(Dense(16, activation='relu', kernel_regularizer = reg)) # add another layer\n",
    "deepermodel_images.add(Dense(16, activation='relu', kernel_regularizer = reg)) # add another layer\n",
    "deepermodel_images.add(Dense(10, activation='relu', kernel_regularizer = reg))\n",
    "deepermodel_images.add(Dense(10, activation='softmax')) # number of units = number of target classes\n",
    "\n",
    "deepermodel_images.compile(optimizer='Adam', loss='categorical_crossentropy', metrics=['accuracy'] )"
   ]
  },
  {
   "cell_type": "code",
   "execution_count": 20,
   "metadata": {
    "scrolled": true,
    "slideshow": {
     "slide_type": "slide"
    }
   },
   "outputs": [
    {
     "name": "stdout",
     "output_type": "stream",
     "text": [
      "Epoch 1/200\n",
      "1431/1500 [===========================>..] - ETA: 0s - loss: 0.8407 - accuracy: 0.8224WARNING:tensorflow:Callbacks method `on_test_batch_end` is slow compared to the batch time (batch time: 0.0000s vs `on_test_batch_end` time: 0.0010s). Check your callbacks.\n",
      "1500/1500 [==============================] - 1s 750us/step - loss: 0.8270 - accuracy: 0.8263 - val_loss: 0.5361 - val_accuracy: 0.9115\n",
      "Epoch 2/200\n",
      "1500/1500 [==============================] - 1s 647us/step - loss: 0.4910 - accuracy: 0.9228 - val_loss: 0.4354 - val_accuracy: 0.9377\n",
      "Epoch 3/200\n",
      "1500/1500 [==============================] - 1s 712us/step - loss: 0.4357 - accuracy: 0.9361 - val_loss: 0.4084 - val_accuracy: 0.9408\n",
      "Epoch 4/200\n",
      "1500/1500 [==============================] - 1s 669us/step - loss: 0.4019 - accuracy: 0.9412 - val_loss: 0.3950 - val_accuracy: 0.9419\n",
      "Epoch 5/200\n",
      "1500/1500 [==============================] - 1s 735us/step - loss: 0.3798 - accuracy: 0.9466 - val_loss: 0.3726 - val_accuracy: 0.9482\n",
      "Epoch 6/200\n",
      "1500/1500 [==============================] - 1s 716us/step - loss: 0.3647 - accuracy: 0.9496 - val_loss: 0.3495 - val_accuracy: 0.9518\n",
      "Epoch 7/200\n",
      "1500/1500 [==============================] - 1s 739us/step - loss: 0.3540 - accuracy: 0.9504 - val_loss: 0.3423 - val_accuracy: 0.9548\n",
      "Epoch 8/200\n",
      "1500/1500 [==============================] - 1s 755us/step - loss: 0.3435 - accuracy: 0.9521 - val_loss: 0.3447 - val_accuracy: 0.9495\n",
      "Epoch 9/200\n",
      "1500/1500 [==============================] - 1s 828us/step - loss: 0.3375 - accuracy: 0.9525 - val_loss: 0.3250 - val_accuracy: 0.9552\n",
      "Epoch 10/200\n",
      "1500/1500 [==============================] - 2s 1ms/step - loss: 0.3296 - accuracy: 0.9536 - val_loss: 0.3355 - val_accuracy: 0.9527\n",
      "Epoch 11/200\n",
      "1500/1500 [==============================] - 2s 1ms/step - loss: 0.3216 - accuracy: 0.9547 - val_loss: 0.3239 - val_accuracy: 0.9554\n",
      "Epoch 12/200\n",
      "1500/1500 [==============================] - 2s 1ms/step - loss: 0.3144 - accuracy: 0.9562 - val_loss: 0.3295 - val_accuracy: 0.9535\n",
      "Epoch 13/200\n",
      "1500/1500 [==============================] - 2s 1ms/step - loss: 0.3105 - accuracy: 0.9555 - val_loss: 0.3144 - val_accuracy: 0.9545\n",
      "Epoch 14/200\n",
      "1500/1500 [==============================] - 2s 1ms/step - loss: 0.3056 - accuracy: 0.9562 - val_loss: 0.3182 - val_accuracy: 0.9523\n",
      "Epoch 15/200\n",
      "1500/1500 [==============================] - 2s 1ms/step - loss: 0.3014 - accuracy: 0.9582 - val_loss: 0.2953 - val_accuracy: 0.9585\n",
      "Epoch 16/200\n",
      "1500/1500 [==============================] - 2s 1ms/step - loss: 0.2965 - accuracy: 0.9586 - val_loss: 0.3185 - val_accuracy: 0.9546\n",
      "Epoch 17/200\n",
      "1500/1500 [==============================] - 2s 1ms/step - loss: 0.2959 - accuracy: 0.9581 - val_loss: 0.2876 - val_accuracy: 0.9613\n",
      "Epoch 18/200\n",
      "1500/1500 [==============================] - 2s 1ms/step - loss: 0.2904 - accuracy: 0.9595 - val_loss: 0.2794 - val_accuracy: 0.9651\n",
      "Epoch 19/200\n",
      "1500/1500 [==============================] - 2s 1ms/step - loss: 0.2885 - accuracy: 0.9597 - val_loss: 0.3019 - val_accuracy: 0.9555\n",
      "Epoch 20/200\n",
      "1500/1500 [==============================] - 2s 1ms/step - loss: 0.2876 - accuracy: 0.9592 - val_loss: 0.2851 - val_accuracy: 0.9606\n",
      "Epoch 21/200\n",
      "1500/1500 [==============================] - 2s 1ms/step - loss: 0.2835 - accuracy: 0.9604 - val_loss: 0.3087 - val_accuracy: 0.9521\n",
      "Epoch 22/200\n",
      "1500/1500 [==============================] - 2s 1ms/step - loss: 0.2839 - accuracy: 0.9599 - val_loss: 0.2932 - val_accuracy: 0.9574\n",
      "Epoch 23/200\n",
      "1500/1500 [==============================] - 2s 1ms/step - loss: 0.2776 - accuracy: 0.9606 - val_loss: 0.2916 - val_accuracy: 0.9587\n",
      "Epoch 24/200\n",
      "1500/1500 [==============================] - 2s 1ms/step - loss: 0.2775 - accuracy: 0.9601 - val_loss: 0.2878 - val_accuracy: 0.9575\n",
      "Epoch 25/200\n",
      "1500/1500 [==============================] - 2s 1ms/step - loss: 0.2758 - accuracy: 0.9601 - val_loss: 0.2741 - val_accuracy: 0.9624\n",
      "Epoch 26/200\n",
      "1500/1500 [==============================] - 2s 1ms/step - loss: 0.2726 - accuracy: 0.9616 - val_loss: 0.3039 - val_accuracy: 0.9508\n",
      "Epoch 27/200\n",
      "1500/1500 [==============================] - 2s 1ms/step - loss: 0.2709 - accuracy: 0.9621 - val_loss: 0.2705 - val_accuracy: 0.9602\n",
      "Epoch 28/200\n",
      "1500/1500 [==============================] - 2s 1ms/step - loss: 0.2734 - accuracy: 0.9604 - val_loss: 0.2739 - val_accuracy: 0.9594\n",
      "Epoch 29/200\n",
      "1500/1500 [==============================] - 2s 1ms/step - loss: 0.2699 - accuracy: 0.9600 - val_loss: 0.2681 - val_accuracy: 0.9624\n",
      "Epoch 30/200\n",
      "1500/1500 [==============================] - 2s 1ms/step - loss: 0.2683 - accuracy: 0.9610 - val_loss: 0.2735 - val_accuracy: 0.9613\n",
      "Epoch 31/200\n",
      "1500/1500 [==============================] - 2s 1ms/step - loss: 0.2680 - accuracy: 0.9609 - val_loss: 0.2617 - val_accuracy: 0.9631\n",
      "Epoch 32/200\n",
      "1500/1500 [==============================] - 2s 1ms/step - loss: 0.2633 - accuracy: 0.9615 - val_loss: 0.2748 - val_accuracy: 0.9598\n",
      "Epoch 33/200\n",
      "1500/1500 [==============================] - 2s 1ms/step - loss: 0.2649 - accuracy: 0.9607 - val_loss: 0.2769 - val_accuracy: 0.9579\n",
      "Epoch 34/200\n",
      "1500/1500 [==============================] - 2s 1ms/step - loss: 0.2643 - accuracy: 0.9615 - val_loss: 0.2684 - val_accuracy: 0.9615\n",
      "Epoch 35/200\n",
      "1500/1500 [==============================] - 2s 1ms/step - loss: 0.2611 - accuracy: 0.9624 - val_loss: 0.2667 - val_accuracy: 0.9621\n",
      "Epoch 36/200\n",
      "1500/1500 [==============================] - 2s 1ms/step - loss: 0.2606 - accuracy: 0.9626 - val_loss: 0.2792 - val_accuracy: 0.9563\n",
      "Epoch 37/200\n",
      "1500/1500 [==============================] - 2s 1ms/step - loss: 0.2604 - accuracy: 0.9619 - val_loss: 0.2671 - val_accuracy: 0.9609\n",
      "Epoch 38/200\n",
      "1500/1500 [==============================] - 2s 1ms/step - loss: 0.2590 - accuracy: 0.9619 - val_loss: 0.2684 - val_accuracy: 0.9606\n",
      "Epoch 39/200\n",
      "1500/1500 [==============================] - 2s 1ms/step - loss: 0.2568 - accuracy: 0.9631 - val_loss: 0.2758 - val_accuracy: 0.9577\n",
      "Epoch 40/200\n",
      "1500/1500 [==============================] - 2s 1ms/step - loss: 0.2583 - accuracy: 0.9618 - val_loss: 0.2639 - val_accuracy: 0.9613\n",
      "Epoch 41/200\n",
      "1500/1500 [==============================] - 2s 1ms/step - loss: 0.2557 - accuracy: 0.9626 - val_loss: 0.2537 - val_accuracy: 0.9624\n",
      "Epoch 42/200\n",
      "1500/1500 [==============================] - 2s 1ms/step - loss: 0.2551 - accuracy: 0.9625 - val_loss: 0.2692 - val_accuracy: 0.9603\n",
      "Epoch 43/200\n",
      "1500/1500 [==============================] - 2s 1ms/step - loss: 0.2554 - accuracy: 0.9622 - val_loss: 0.2558 - val_accuracy: 0.9614\n",
      "Epoch 44/200\n",
      "1500/1500 [==============================] - 2s 1ms/step - loss: 0.2518 - accuracy: 0.9634 - val_loss: 0.2569 - val_accuracy: 0.9625\n",
      "Epoch 45/200\n",
      "1500/1500 [==============================] - 2s 1ms/step - loss: 0.2542 - accuracy: 0.9615 - val_loss: 0.2496 - val_accuracy: 0.9641\n",
      "Epoch 46/200\n",
      "1500/1500 [==============================] - 2s 1ms/step - loss: 0.2513 - accuracy: 0.9631 - val_loss: 0.2635 - val_accuracy: 0.9603\n",
      "Epoch 47/200\n",
      "1500/1500 [==============================] - 2s 1ms/step - loss: 0.2511 - accuracy: 0.9630 - val_loss: 0.2539 - val_accuracy: 0.9633\n",
      "Epoch 48/200\n",
      "1500/1500 [==============================] - 2s 1ms/step - loss: 0.2512 - accuracy: 0.9621 - val_loss: 0.2768 - val_accuracy: 0.9531\n",
      "Epoch 49/200\n",
      "1500/1500 [==============================] - 2s 1ms/step - loss: 0.2483 - accuracy: 0.9636 - val_loss: 0.2704 - val_accuracy: 0.9567\n",
      "Epoch 50/200\n",
      "1500/1500 [==============================] - 2s 1ms/step - loss: 0.2497 - accuracy: 0.9636 - val_loss: 0.2529 - val_accuracy: 0.9631\n",
      "Epoch 51/200\n",
      "1500/1500 [==============================] - 2s 1ms/step - loss: 0.2506 - accuracy: 0.9621 - val_loss: 0.2534 - val_accuracy: 0.9627\n",
      "Epoch 52/200\n",
      "1500/1500 [==============================] - 2s 1ms/step - loss: 0.2475 - accuracy: 0.9637 - val_loss: 0.2535 - val_accuracy: 0.9624\n",
      "Epoch 53/200\n",
      "1500/1500 [==============================] - 2s 1ms/step - loss: 0.2481 - accuracy: 0.9623 - val_loss: 0.2435 - val_accuracy: 0.9657\n",
      "Epoch 54/200\n",
      "1500/1500 [==============================] - 2s 1ms/step - loss: 0.2470 - accuracy: 0.9626 - val_loss: 0.2434 - val_accuracy: 0.9628\n",
      "Epoch 55/200\n",
      "1500/1500 [==============================] - 2s 1ms/step - loss: 0.2453 - accuracy: 0.9635 - val_loss: 0.2398 - val_accuracy: 0.9662\n",
      "Epoch 56/200\n",
      "1500/1500 [==============================] - 2s 1ms/step - loss: 0.2459 - accuracy: 0.9627 - val_loss: 0.2658 - val_accuracy: 0.9571\n",
      "Epoch 57/200\n",
      "1500/1500 [==============================] - 2s 1ms/step - loss: 0.2447 - accuracy: 0.9637 - val_loss: 0.2600 - val_accuracy: 0.9593\n",
      "Epoch 58/200\n",
      "1500/1500 [==============================] - 2s 1ms/step - loss: 0.2454 - accuracy: 0.9625 - val_loss: 0.2782 - val_accuracy: 0.9533\n",
      "Epoch 59/200\n",
      "1500/1500 [==============================] - 2s 1ms/step - loss: 0.2442 - accuracy: 0.9636 - val_loss: 0.2539 - val_accuracy: 0.9606\n",
      "Epoch 60/200\n",
      "1500/1500 [==============================] - 2s 1ms/step - loss: 0.2441 - accuracy: 0.9632 - val_loss: 0.2564 - val_accuracy: 0.9616\n",
      "Epoch 61/200\n",
      "1500/1500 [==============================] - 2s 2ms/step - loss: 0.2447 - accuracy: 0.9629 - val_loss: 0.2458 - val_accuracy: 0.9640\n",
      "Epoch 62/200\n",
      "1500/1500 [==============================] - 2s 1ms/step - loss: 0.2436 - accuracy: 0.9637 - val_loss: 0.2664 - val_accuracy: 0.9559\n",
      "Epoch 63/200\n",
      "1500/1500 [==============================] - 2s 1ms/step - loss: 0.2426 - accuracy: 0.9634 - val_loss: 0.2491 - val_accuracy: 0.9631\n",
      "Epoch 64/200\n",
      "1500/1500 [==============================] - 2s 1ms/step - loss: 0.2419 - accuracy: 0.9637 - val_loss: 0.2434 - val_accuracy: 0.9644\n",
      "Epoch 65/200\n",
      "1500/1500 [==============================] - 2s 1ms/step - loss: 0.2421 - accuracy: 0.9628 - val_loss: 0.2726 - val_accuracy: 0.9535\n",
      "Epoch 66/200\n",
      "1500/1500 [==============================] - 2s 1ms/step - loss: 0.2395 - accuracy: 0.9654 - val_loss: 0.2515 - val_accuracy: 0.9590\n",
      "Epoch 67/200\n",
      "1500/1500 [==============================] - 2s 1ms/step - loss: 0.2430 - accuracy: 0.9631 - val_loss: 0.2463 - val_accuracy: 0.9640\n",
      "Epoch 68/200\n",
      "1500/1500 [==============================] - 2s 1ms/step - loss: 0.2392 - accuracy: 0.9637 - val_loss: 0.2534 - val_accuracy: 0.9585\n",
      "Epoch 69/200\n",
      "1500/1500 [==============================] - 2s 1ms/step - loss: 0.2429 - accuracy: 0.9632 - val_loss: 0.2464 - val_accuracy: 0.9613\n",
      "Epoch 70/200\n",
      "1500/1500 [==============================] - 2s 1ms/step - loss: 0.2389 - accuracy: 0.9639 - val_loss: 0.2613 - val_accuracy: 0.9565\n",
      "Epoch 71/200\n",
      "1500/1500 [==============================] - 2s 1ms/step - loss: 0.2385 - accuracy: 0.9645 - val_loss: 0.2394 - val_accuracy: 0.9632\n",
      "Epoch 72/200\n",
      "1500/1500 [==============================] - 2s 1ms/step - loss: 0.2372 - accuracy: 0.9648 - val_loss: 0.2521 - val_accuracy: 0.9612\n",
      "Epoch 73/200\n",
      "1500/1500 [==============================] - 2s 1ms/step - loss: 0.2368 - accuracy: 0.9645 - val_loss: 0.2433 - val_accuracy: 0.9638\n",
      "Epoch 74/200\n",
      "1500/1500 [==============================] - 2s 1ms/step - loss: 0.2382 - accuracy: 0.9637 - val_loss: 0.2373 - val_accuracy: 0.9647\n",
      "Epoch 75/200\n",
      "1500/1500 [==============================] - 2s 1ms/step - loss: 0.2345 - accuracy: 0.9650 - val_loss: 0.2419 - val_accuracy: 0.9638\n",
      "Epoch 76/200\n",
      "1500/1500 [==============================] - 2s 1ms/step - loss: 0.2385 - accuracy: 0.9639 - val_loss: 0.2498 - val_accuracy: 0.9611\n",
      "Epoch 77/200\n",
      "1500/1500 [==============================] - 2s 1ms/step - loss: 0.2340 - accuracy: 0.9647 - val_loss: 0.2592 - val_accuracy: 0.9594\n",
      "Epoch 78/200\n",
      "1500/1500 [==============================] - 2s 1ms/step - loss: 0.2372 - accuracy: 0.9641 - val_loss: 0.2448 - val_accuracy: 0.9616\n",
      "Epoch 79/200\n",
      "1500/1500 [==============================] - 2s 1ms/step - loss: 0.2306 - accuracy: 0.9670 - val_loss: 0.2519 - val_accuracy: 0.9589\n",
      "Epoch 80/200\n",
      "1500/1500 [==============================] - 2s 1ms/step - loss: 0.2349 - accuracy: 0.9637 - val_loss: 0.2444 - val_accuracy: 0.9627\n",
      "Epoch 81/200\n",
      "1500/1500 [==============================] - 2s 1ms/step - loss: 0.2325 - accuracy: 0.9647 - val_loss: 0.2390 - val_accuracy: 0.9640\n",
      "Epoch 82/200\n",
      "1500/1500 [==============================] - 2s 1ms/step - loss: 0.2355 - accuracy: 0.9640 - val_loss: 0.2375 - val_accuracy: 0.9635\n",
      "Epoch 83/200\n",
      "1500/1500 [==============================] - 2s 1ms/step - loss: 0.2347 - accuracy: 0.9646 - val_loss: 0.2504 - val_accuracy: 0.9586\n",
      "Epoch 84/200\n",
      "1500/1500 [==============================] - 2s 1ms/step - loss: 0.2314 - accuracy: 0.9656 - val_loss: 0.2548 - val_accuracy: 0.9569\n",
      "Epoch 85/200\n",
      "1500/1500 [==============================] - 2s 1ms/step - loss: 0.2377 - accuracy: 0.9634 - val_loss: 0.2525 - val_accuracy: 0.9592\n",
      "Epoch 86/200\n",
      "1500/1500 [==============================] - 2s 1ms/step - loss: 0.2335 - accuracy: 0.9646 - val_loss: 0.2429 - val_accuracy: 0.9611\n",
      "Epoch 87/200\n",
      "1500/1500 [==============================] - 2s 1ms/step - loss: 0.2340 - accuracy: 0.9653 - val_loss: 0.2375 - val_accuracy: 0.9642\n",
      "Epoch 88/200\n",
      "1500/1500 [==============================] - 2s 1ms/step - loss: 0.2353 - accuracy: 0.9647 - val_loss: 0.2506 - val_accuracy: 0.9597\n",
      "Epoch 89/200\n",
      "1500/1500 [==============================] - 2s 1ms/step - loss: 0.2316 - accuracy: 0.9651 - val_loss: 0.2511 - val_accuracy: 0.9586\n",
      "Epoch 90/200\n",
      "1500/1500 [==============================] - 2s 1ms/step - loss: 0.2328 - accuracy: 0.9644 - val_loss: 0.2518 - val_accuracy: 0.9579\n",
      "Epoch 91/200\n",
      "1500/1500 [==============================] - 2s 1ms/step - loss: 0.2317 - accuracy: 0.9651 - val_loss: 0.2381 - val_accuracy: 0.9631\n",
      "Epoch 92/200\n",
      "1500/1500 [==============================] - 2s 1ms/step - loss: 0.2300 - accuracy: 0.9645 - val_loss: 0.2545 - val_accuracy: 0.9564\n",
      "Epoch 93/200\n",
      "1500/1500 [==============================] - 2s 1ms/step - loss: 0.2312 - accuracy: 0.9641 - val_loss: 0.2438 - val_accuracy: 0.9637\n",
      "Epoch 94/200\n",
      "1500/1500 [==============================] - 2s 1ms/step - loss: 0.2324 - accuracy: 0.9645 - val_loss: 0.2574 - val_accuracy: 0.9564\n",
      "Epoch 95/200\n",
      "1500/1500 [==============================] - 2s 1ms/step - loss: 0.2307 - accuracy: 0.9652 - val_loss: 0.2531 - val_accuracy: 0.9592\n",
      "Epoch 96/200\n",
      "1500/1500 [==============================] - 2s 1ms/step - loss: 0.2300 - accuracy: 0.9652 - val_loss: 0.2356 - val_accuracy: 0.9626\n",
      "Epoch 97/200\n",
      "1500/1500 [==============================] - 2s 1ms/step - loss: 0.2305 - accuracy: 0.9651 - val_loss: 0.2458 - val_accuracy: 0.9622\n",
      "Epoch 98/200\n",
      "1500/1500 [==============================] - 2s 1ms/step - loss: 0.2302 - accuracy: 0.9651 - val_loss: 0.2431 - val_accuracy: 0.9616\n",
      "Epoch 99/200\n",
      "1500/1500 [==============================] - 2s 1ms/step - loss: 0.2280 - accuracy: 0.9656 - val_loss: 0.2538 - val_accuracy: 0.9592\n",
      "Epoch 100/200\n",
      "1500/1500 [==============================] - 2s 1ms/step - loss: 0.2308 - accuracy: 0.9645 - val_loss: 0.2512 - val_accuracy: 0.9584\n",
      "Epoch 101/200\n",
      "1500/1500 [==============================] - 2s 1ms/step - loss: 0.2320 - accuracy: 0.9640 - val_loss: 0.2573 - val_accuracy: 0.9566\n",
      "Epoch 102/200\n",
      "1500/1500 [==============================] - 2s 1ms/step - loss: 0.2298 - accuracy: 0.9656 - val_loss: 0.2298 - val_accuracy: 0.9653\n",
      "Epoch 103/200\n",
      "1500/1500 [==============================] - 2s 1ms/step - loss: 0.2330 - accuracy: 0.9639 - val_loss: 0.2472 - val_accuracy: 0.9615\n",
      "Epoch 104/200\n",
      "1500/1500 [==============================] - 2s 1ms/step - loss: 0.2293 - accuracy: 0.9656 - val_loss: 0.2303 - val_accuracy: 0.9657\n",
      "Epoch 105/200\n",
      "1500/1500 [==============================] - 2s 1ms/step - loss: 0.2275 - accuracy: 0.9659 - val_loss: 0.2320 - val_accuracy: 0.9654\n",
      "Epoch 106/200\n",
      "1500/1500 [==============================] - 2s 1ms/step - loss: 0.2304 - accuracy: 0.9648 - val_loss: 0.2352 - val_accuracy: 0.9618\n",
      "Epoch 107/200\n",
      "1500/1500 [==============================] - 2s 1ms/step - loss: 0.2306 - accuracy: 0.9649 - val_loss: 0.2391 - val_accuracy: 0.9594\n",
      "Epoch 108/200\n",
      "1500/1500 [==============================] - 2s 1ms/step - loss: 0.2274 - accuracy: 0.9661 - val_loss: 0.2402 - val_accuracy: 0.9614\n",
      "Epoch 109/200\n",
      "1500/1500 [==============================] - 2s 1ms/step - loss: 0.2272 - accuracy: 0.9660 - val_loss: 0.2390 - val_accuracy: 0.9615\n",
      "Epoch 110/200\n",
      "1500/1500 [==============================] - 2s 1ms/step - loss: 0.2279 - accuracy: 0.9651 - val_loss: 0.2335 - val_accuracy: 0.9628\n",
      "Epoch 111/200\n",
      "1500/1500 [==============================] - 2s 1ms/step - loss: 0.2266 - accuracy: 0.9657 - val_loss: 0.2438 - val_accuracy: 0.9607\n",
      "Epoch 112/200\n",
      "1500/1500 [==============================] - 2s 1ms/step - loss: 0.2282 - accuracy: 0.9650 - val_loss: 0.2763 - val_accuracy: 0.9510\n",
      "Epoch 113/200\n",
      "1500/1500 [==============================] - 2s 1ms/step - loss: 0.2276 - accuracy: 0.9650 - val_loss: 0.2508 - val_accuracy: 0.9575\n",
      "Epoch 114/200\n",
      "1500/1500 [==============================] - 2s 1ms/step - loss: 0.2285 - accuracy: 0.9644 - val_loss: 0.2415 - val_accuracy: 0.9610\n",
      "Epoch 115/200\n",
      "1500/1500 [==============================] - 2s 1ms/step - loss: 0.2285 - accuracy: 0.9648 - val_loss: 0.2310 - val_accuracy: 0.9628\n",
      "Epoch 116/200\n",
      "1500/1500 [==============================] - 2s 1ms/step - loss: 0.2262 - accuracy: 0.9657 - val_loss: 0.2476 - val_accuracy: 0.9600\n",
      "Epoch 117/200\n",
      "1500/1500 [==============================] - 2s 1ms/step - loss: 0.2269 - accuracy: 0.9663 - val_loss: 0.2434 - val_accuracy: 0.9628\n",
      "Epoch 118/200\n",
      "1500/1500 [==============================] - 2s 1ms/step - loss: 0.2268 - accuracy: 0.9651 - val_loss: 0.2398 - val_accuracy: 0.9619\n",
      "Epoch 119/200\n",
      "1500/1500 [==============================] - 2s 1ms/step - loss: 0.2281 - accuracy: 0.9650 - val_loss: 0.2374 - val_accuracy: 0.9642\n",
      "Epoch 120/200\n",
      "1500/1500 [==============================] - 2s 1ms/step - loss: 0.2265 - accuracy: 0.9657 - val_loss: 0.2488 - val_accuracy: 0.9611\n",
      "Epoch 121/200\n",
      "1500/1500 [==============================] - 2s 1ms/step - loss: 0.2253 - accuracy: 0.9654 - val_loss: 0.2716 - val_accuracy: 0.9520\n",
      "Epoch 122/200\n",
      "1500/1500 [==============================] - 2s 1ms/step - loss: 0.2249 - accuracy: 0.9656 - val_loss: 0.2576 - val_accuracy: 0.9557\n",
      "Epoch 123/200\n",
      "1500/1500 [==============================] - 2s 1ms/step - loss: 0.2269 - accuracy: 0.9656 - val_loss: 0.2356 - val_accuracy: 0.9628\n",
      "Epoch 124/200\n",
      "1500/1500 [==============================] - 2s 1ms/step - loss: 0.2259 - accuracy: 0.9656 - val_loss: 0.2314 - val_accuracy: 0.9665\n",
      "Epoch 125/200\n",
      "1500/1500 [==============================] - 2s 1ms/step - loss: 0.2244 - accuracy: 0.9656 - val_loss: 0.2415 - val_accuracy: 0.9606\n",
      "Epoch 126/200\n",
      "1500/1500 [==============================] - 2s 1ms/step - loss: 0.2244 - accuracy: 0.9648 - val_loss: 0.2387 - val_accuracy: 0.9646\n",
      "Epoch 127/200\n",
      "1500/1500 [==============================] - 2s 1ms/step - loss: 0.2267 - accuracy: 0.9651 - val_loss: 0.2438 - val_accuracy: 0.9607\n",
      "Epoch 128/200\n",
      "1500/1500 [==============================] - 2s 1ms/step - loss: 0.2261 - accuracy: 0.9648 - val_loss: 0.2363 - val_accuracy: 0.9617\n",
      "Epoch 129/200\n",
      "1500/1500 [==============================] - 2s 1ms/step - loss: 0.2235 - accuracy: 0.9649 - val_loss: 0.2480 - val_accuracy: 0.9585\n",
      "Epoch 130/200\n",
      "1500/1500 [==============================] - 2s 1ms/step - loss: 0.2233 - accuracy: 0.9663 - val_loss: 0.2533 - val_accuracy: 0.9585\n",
      "Epoch 131/200\n",
      "1500/1500 [==============================] - 2s 1ms/step - loss: 0.2249 - accuracy: 0.9653 - val_loss: 0.2323 - val_accuracy: 0.9625\n",
      "Epoch 132/200\n",
      "1500/1500 [==============================] - 2s 1ms/step - loss: 0.2244 - accuracy: 0.9650 - val_loss: 0.2346 - val_accuracy: 0.9642\n",
      "Epoch 133/200\n",
      "1500/1500 [==============================] - 2s 1ms/step - loss: 0.2224 - accuracy: 0.9662 - val_loss: 0.2488 - val_accuracy: 0.9582\n",
      "Epoch 134/200\n",
      "1500/1500 [==============================] - 2s 1ms/step - loss: 0.2240 - accuracy: 0.9657 - val_loss: 0.2278 - val_accuracy: 0.9653\n",
      "Epoch 135/200\n",
      "1500/1500 [==============================] - 2s 1ms/step - loss: 0.2226 - accuracy: 0.9658 - val_loss: 0.2356 - val_accuracy: 0.9647\n",
      "Epoch 136/200\n",
      "1500/1500 [==============================] - 2s 1ms/step - loss: 0.2245 - accuracy: 0.9654 - val_loss: 0.2255 - val_accuracy: 0.9654\n",
      "Epoch 137/200\n",
      "1500/1500 [==============================] - 1s 993us/step - loss: 0.2217 - accuracy: 0.9652 - val_loss: 0.2474 - val_accuracy: 0.9611\n",
      "Epoch 138/200\n",
      "1500/1500 [==============================] - 2s 1ms/step - loss: 0.2227 - accuracy: 0.9660 - val_loss: 0.2332 - val_accuracy: 0.9630\n",
      "Epoch 139/200\n",
      "1500/1500 [==============================] - 2s 1ms/step - loss: 0.2239 - accuracy: 0.9656 - val_loss: 0.2264 - val_accuracy: 0.9649\n",
      "Epoch 140/200\n",
      "1500/1500 [==============================] - 2s 1ms/step - loss: 0.2220 - accuracy: 0.9661 - val_loss: 0.2393 - val_accuracy: 0.9622\n",
      "Epoch 141/200\n",
      "1500/1500 [==============================] - 2s 1ms/step - loss: 0.2224 - accuracy: 0.9665 - val_loss: 0.2530 - val_accuracy: 0.9590\n",
      "Epoch 142/200\n",
      "1500/1500 [==============================] - 2s 1ms/step - loss: 0.2259 - accuracy: 0.9649 - val_loss: 0.2529 - val_accuracy: 0.9558\n",
      "Epoch 143/200\n",
      "1500/1500 [==============================] - 2s 1ms/step - loss: 0.2217 - accuracy: 0.9660 - val_loss: 0.2344 - val_accuracy: 0.9632\n",
      "Epoch 144/200\n",
      "1500/1500 [==============================] - 2s 1ms/step - loss: 0.2236 - accuracy: 0.9659 - val_loss: 0.2389 - val_accuracy: 0.9627\n",
      "Epoch 145/200\n",
      "1500/1500 [==============================] - 2s 1ms/step - loss: 0.2209 - accuracy: 0.9664 - val_loss: 0.2478 - val_accuracy: 0.9580\n",
      "Epoch 146/200\n",
      "1500/1500 [==============================] - 2s 1ms/step - loss: 0.2230 - accuracy: 0.9655 - val_loss: 0.2269 - val_accuracy: 0.9647\n",
      "Epoch 147/200\n",
      "1500/1500 [==============================] - 2s 1ms/step - loss: 0.2211 - accuracy: 0.9663 - val_loss: 0.2317 - val_accuracy: 0.9613\n",
      "Epoch 148/200\n",
      "1500/1500 [==============================] - 2s 1ms/step - loss: 0.2240 - accuracy: 0.9656 - val_loss: 0.2499 - val_accuracy: 0.9585\n",
      "Epoch 149/200\n",
      "1500/1500 [==============================] - 2s 1ms/step - loss: 0.2219 - accuracy: 0.9657 - val_loss: 0.2449 - val_accuracy: 0.9598\n",
      "Epoch 150/200\n",
      "1500/1500 [==============================] - 2s 1ms/step - loss: 0.2204 - accuracy: 0.9666 - val_loss: 0.2361 - val_accuracy: 0.9618\n",
      "Epoch 151/200\n",
      "1500/1500 [==============================] - 2s 1ms/step - loss: 0.2227 - accuracy: 0.9651 - val_loss: 0.2314 - val_accuracy: 0.9643\n",
      "Epoch 152/200\n",
      "1500/1500 [==============================] - 2s 1ms/step - loss: 0.2221 - accuracy: 0.9658 - val_loss: 0.2280 - val_accuracy: 0.9631\n",
      "Epoch 153/200\n",
      "1500/1500 [==============================] - 2s 1ms/step - loss: 0.2205 - accuracy: 0.9658 - val_loss: 0.2284 - val_accuracy: 0.9649\n",
      "Epoch 154/200\n",
      "1500/1500 [==============================] - 2s 1ms/step - loss: 0.2205 - accuracy: 0.9663 - val_loss: 0.2424 - val_accuracy: 0.9603\n",
      "Epoch 155/200\n",
      "1500/1500 [==============================] - 2s 1ms/step - loss: 0.2220 - accuracy: 0.9656 - val_loss: 0.2374 - val_accuracy: 0.9603\n",
      "Epoch 156/200\n",
      "1500/1500 [==============================] - 2s 1ms/step - loss: 0.2202 - accuracy: 0.9659 - val_loss: 0.2309 - val_accuracy: 0.9638\n",
      "Epoch 157/200\n",
      "1500/1500 [==============================] - 2s 1ms/step - loss: 0.2211 - accuracy: 0.9665 - val_loss: 0.2381 - val_accuracy: 0.9605\n",
      "Epoch 158/200\n",
      "1500/1500 [==============================] - 2s 1ms/step - loss: 0.2204 - accuracy: 0.9664 - val_loss: 0.2357 - val_accuracy: 0.9617\n",
      "Epoch 159/200\n",
      "1500/1500 [==============================] - 2s 1ms/step - loss: 0.2206 - accuracy: 0.9664 - val_loss: 0.2283 - val_accuracy: 0.9647\n",
      "Epoch 160/200\n",
      "1500/1500 [==============================] - 2s 1ms/step - loss: 0.2213 - accuracy: 0.9656 - val_loss: 0.2315 - val_accuracy: 0.9640\n",
      "Epoch 161/200\n",
      "1500/1500 [==============================] - 2s 1ms/step - loss: 0.2202 - accuracy: 0.9662 - val_loss: 0.2271 - val_accuracy: 0.9656\n",
      "Epoch 162/200\n",
      "1500/1500 [==============================] - 2s 1ms/step - loss: 0.2194 - accuracy: 0.9663 - val_loss: 0.2317 - val_accuracy: 0.9626\n",
      "Epoch 163/200\n",
      "1500/1500 [==============================] - 2s 1ms/step - loss: 0.2216 - accuracy: 0.9648 - val_loss: 0.2335 - val_accuracy: 0.9647\n",
      "Epoch 164/200\n",
      "1500/1500 [==============================] - 2s 1ms/step - loss: 0.2189 - accuracy: 0.9667 - val_loss: 0.2363 - val_accuracy: 0.9607\n",
      "Epoch 165/200\n",
      "1500/1500 [==============================] - 2s 1ms/step - loss: 0.2221 - accuracy: 0.9657 - val_loss: 0.2266 - val_accuracy: 0.9649\n",
      "Epoch 166/200\n",
      "1500/1500 [==============================] - 2s 1ms/step - loss: 0.2194 - accuracy: 0.9669 - val_loss: 0.2306 - val_accuracy: 0.9627\n",
      "Epoch 167/200\n",
      "1500/1500 [==============================] - 2s 1ms/step - loss: 0.2179 - accuracy: 0.9670 - val_loss: 0.2373 - val_accuracy: 0.9600\n",
      "Epoch 168/200\n",
      "1500/1500 [==============================] - 2s 1ms/step - loss: 0.2193 - accuracy: 0.9666 - val_loss: 0.2347 - val_accuracy: 0.9628\n",
      "Epoch 169/200\n",
      "1500/1500 [==============================] - 2s 1ms/step - loss: 0.2198 - accuracy: 0.9666 - val_loss: 0.2320 - val_accuracy: 0.9632\n",
      "Epoch 170/200\n",
      "1500/1500 [==============================] - 2s 1ms/step - loss: 0.2201 - accuracy: 0.9664 - val_loss: 0.2304 - val_accuracy: 0.9620\n",
      "Epoch 171/200\n",
      "1500/1500 [==============================] - 2s 1ms/step - loss: 0.2177 - accuracy: 0.9670 - val_loss: 0.2306 - val_accuracy: 0.9615\n",
      "Epoch 172/200\n",
      "1500/1500 [==============================] - 2s 1ms/step - loss: 0.2200 - accuracy: 0.9655 - val_loss: 0.2278 - val_accuracy: 0.9638\n",
      "Epoch 173/200\n",
      "1500/1500 [==============================] - 2s 1ms/step - loss: 0.2194 - accuracy: 0.9658 - val_loss: 0.2321 - val_accuracy: 0.9626\n",
      "Epoch 174/200\n",
      "1500/1500 [==============================] - 2s 1ms/step - loss: 0.2199 - accuracy: 0.9670 - val_loss: 0.2271 - val_accuracy: 0.9632\n",
      "Epoch 175/200\n",
      "1500/1500 [==============================] - 2s 1ms/step - loss: 0.2189 - accuracy: 0.9668 - val_loss: 0.2355 - val_accuracy: 0.9617\n",
      "Epoch 176/200\n",
      "1500/1500 [==============================] - 2s 1ms/step - loss: 0.2189 - accuracy: 0.9661 - val_loss: 0.2381 - val_accuracy: 0.9617\n",
      "Epoch 177/200\n",
      "1500/1500 [==============================] - 2s 1ms/step - loss: 0.2194 - accuracy: 0.9666 - val_loss: 0.2361 - val_accuracy: 0.9622\n",
      "Epoch 178/200\n",
      "1500/1500 [==============================] - 2s 1ms/step - loss: 0.2162 - accuracy: 0.9673 - val_loss: 0.2499 - val_accuracy: 0.9551\n",
      "Epoch 179/200\n",
      "1500/1500 [==============================] - 2s 1ms/step - loss: 0.2209 - accuracy: 0.9653 - val_loss: 0.2481 - val_accuracy: 0.9574\n",
      "Epoch 180/200\n",
      "1500/1500 [==============================] - 2s 1ms/step - loss: 0.2189 - accuracy: 0.9664 - val_loss: 0.2285 - val_accuracy: 0.9617\n",
      "Epoch 181/200\n",
      "1500/1500 [==============================] - 2s 1ms/step - loss: 0.2197 - accuracy: 0.9655 - val_loss: 0.2233 - val_accuracy: 0.9649\n",
      "Epoch 182/200\n",
      "1500/1500 [==============================] - 2s 1ms/step - loss: 0.2175 - accuracy: 0.9669 - val_loss: 0.2373 - val_accuracy: 0.9612\n",
      "Epoch 183/200\n",
      "1500/1500 [==============================] - 2s 1ms/step - loss: 0.2187 - accuracy: 0.9662 - val_loss: 0.2331 - val_accuracy: 0.9630\n",
      "Epoch 184/200\n",
      "1500/1500 [==============================] - 2s 1ms/step - loss: 0.2221 - accuracy: 0.9645 - val_loss: 0.2408 - val_accuracy: 0.9610\n",
      "Epoch 185/200\n",
      "1500/1500 [==============================] - 2s 1ms/step - loss: 0.2172 - accuracy: 0.9667 - val_loss: 0.2321 - val_accuracy: 0.9617\n",
      "Epoch 186/200\n",
      "1500/1500 [==============================] - 2s 1ms/step - loss: 0.2201 - accuracy: 0.9660 - val_loss: 0.2537 - val_accuracy: 0.9567\n",
      "Epoch 187/200\n",
      "1500/1500 [==============================] - 2s 1ms/step - loss: 0.2162 - accuracy: 0.9674 - val_loss: 0.2477 - val_accuracy: 0.9567\n",
      "Epoch 188/200\n",
      "1500/1500 [==============================] - 2s 1ms/step - loss: 0.2182 - accuracy: 0.9659 - val_loss: 0.2296 - val_accuracy: 0.9647\n",
      "Epoch 189/200\n",
      "1500/1500 [==============================] - 2s 1ms/step - loss: 0.2186 - accuracy: 0.9658 - val_loss: 0.2409 - val_accuracy: 0.9595\n",
      "Epoch 190/200\n",
      "1500/1500 [==============================] - 2s 1ms/step - loss: 0.2176 - accuracy: 0.9661 - val_loss: 0.2371 - val_accuracy: 0.9607\n",
      "Epoch 191/200\n",
      "1500/1500 [==============================] - 2s 1ms/step - loss: 0.2179 - accuracy: 0.9658 - val_loss: 0.2472 - val_accuracy: 0.9567\n",
      "Epoch 192/200\n",
      "1500/1500 [==============================] - 2s 1ms/step - loss: 0.2176 - accuracy: 0.9667 - val_loss: 0.2373 - val_accuracy: 0.9600\n",
      "Epoch 193/200\n",
      "1500/1500 [==============================] - 2s 1ms/step - loss: 0.2167 - accuracy: 0.9665 - val_loss: 0.2455 - val_accuracy: 0.9582\n",
      "Epoch 194/200\n",
      "1500/1500 [==============================] - 2s 1ms/step - loss: 0.2163 - accuracy: 0.9670 - val_loss: 0.2314 - val_accuracy: 0.9617\n",
      "Epoch 195/200\n",
      "1500/1500 [==============================] - 2s 1ms/step - loss: 0.2158 - accuracy: 0.9665 - val_loss: 0.2261 - val_accuracy: 0.9647\n",
      "Epoch 196/200\n",
      "1500/1500 [==============================] - 2s 1ms/step - loss: 0.2182 - accuracy: 0.9665 - val_loss: 0.2362 - val_accuracy: 0.9625\n",
      "Epoch 197/200\n",
      "1500/1500 [==============================] - 2s 1ms/step - loss: 0.2211 - accuracy: 0.9656 - val_loss: 0.2355 - val_accuracy: 0.9620\n",
      "Epoch 198/200\n",
      "1500/1500 [==============================] - 2s 1ms/step - loss: 0.2144 - accuracy: 0.9674 - val_loss: 0.2534 - val_accuracy: 0.9553\n",
      "Epoch 199/200\n",
      "1500/1500 [==============================] - 2s 1ms/step - loss: 0.2192 - accuracy: 0.9650 - val_loss: 0.2329 - val_accuracy: 0.9626\n",
      "Epoch 200/200\n",
      "1500/1500 [==============================] - 2s 1ms/step - loss: 0.2151 - accuracy: 0.9678 - val_loss: 0.2231 - val_accuracy: 0.9648\n"
     ]
    }
   ],
   "source": [
    "# will take a while... saving training history\n",
    "history_deepermnist = deepermodel_images.fit(x_train, y_tr_one_hot, epochs=200, batch_size= 32, validation_split = 0.2)"
   ]
  },
  {
   "cell_type": "code",
   "execution_count": 21,
   "metadata": {
    "cell_style": "split",
    "slideshow": {
     "slide_type": "slide"
    }
   },
   "outputs": [
    {
     "name": "stdout",
     "output_type": "stream",
     "text": [
      "313/313 - 0s - loss: 0.2181 - accuracy: 0.9673\n"
     ]
    },
    {
     "data": {
      "text/plain": [
       "[0.21807216107845306, 0.9672999978065491]"
      ]
     },
     "execution_count": 21,
     "metadata": {},
     "output_type": "execute_result"
    }
   ],
   "source": [
    "#evaluate test accuracy\n",
    "deepermodel_images.evaluate(x_test, y_tt_one_hot, verbose = 2)"
   ]
  },
  {
   "cell_type": "code",
   "execution_count": 22,
   "metadata": {
    "cell_style": "split",
    "slideshow": {
     "slide_type": "fragment"
    }
   },
   "outputs": [
    {
     "data": {
      "image/png": "[encoded data removed]",
      "text/plain": [
       "<Figure size 432x288 with 1 Axes>"
      ]
     },
     "metadata": {
      "needs_background": "light"
     },
     "output_type": "display_data"
    }
   ],
   "source": [
    "train_deepmnist_history = pd.DataFrame(history_deepermnist.history)\n",
    "train_deepmnist_history.index.name = 'epochs'\n",
    "\n",
    "col_list = ['loss', 'val_loss']\n",
    "train_deepmnist_history[col_list].plot()\n",
    "plt.ylabel('Categorical cross entropy')\n",
    "plt.title('Training loss history')\n",
    "plt.show()"
   ]
  },
  {
   "cell_type": "code",
   "execution_count": 23,
   "metadata": {
    "cell_style": "split",
    "slideshow": {
     "slide_type": "slide"
    }
   },
   "outputs": [
    {
     "data": {
      "image/png": "[encoded data removed]",
      "text/plain": [
       "<Figure size 432x288 with 1 Axes>"
      ]
     },
     "metadata": {
      "needs_background": "light"
     },
     "output_type": "display_data"
    }
   ],
   "source": [
    "col_list = ['accuracy', 'val_accuracy']\n",
    "train_deepmnist_history[col_list].plot()\n",
    "plt.ylabel('Accuracy')\n",
    "plt.title('Training loss history')\n",
    "plt.show()"
   ]
  },
  {
   "cell_type": "markdown",
   "metadata": {
    "cell_style": "split",
    "slideshow": {
     "slide_type": "fragment"
    }
   },
   "source": [
    "Not overfitting even while adding much more complexity:\n",
    "- in this case, not gaining much either"
   ]
  },
  {
   "cell_type": "markdown",
   "metadata": {
    "cell_style": "split",
    "slideshow": {
     "slide_type": "fragment"
    }
   },
   "source": [
    "To do better:\n",
    "- try a different regularization technique\n",
    "- may need to think harder about network architecture"
   ]
  },
  {
   "cell_type": "markdown",
   "metadata": {
    "cell_style": "center",
    "slideshow": {
     "slide_type": "slide"
    }
   },
   "source": [
    "#### Dropout Regularization\n",
    "- Architecture based strategy.\n",
    "\n",
    "On each forward/backprop iteration:\n",
    "- given layer with dropout\n",
    "- shut off activations to randomly selected nodes in layer"
   ]
  },
  {
   "cell_type": "markdown",
   "metadata": {
    "cell_style": "split",
    "slideshow": {
     "slide_type": "slide"
    }
   },
   "source": [
    "![drop_out](images/drop_out.png)"
   ]
  },
  {
   "cell_type": "markdown",
   "metadata": {
    "cell_style": "split",
    "slideshow": {
     "slide_type": "fragment"
    }
   },
   "source": [
    "<img src = \"Images/dropout_network.gif\" >"
   ]
  },
  {
   "cell_type": "markdown",
   "metadata": {
    "cell_style": "center",
    "slideshow": {
     "slide_type": "fragment"
    }
   },
   "source": [
    "- Set $p^{[l]}$  uniform probability of node dropout for given layer\n",
    "- each train cycle: kills different activations"
   ]
  },
  {
   "cell_type": "markdown",
   "metadata": {
    "cell_style": "center",
    "slideshow": {
     "slide_type": "fragment"
    }
   },
   "source": [
    "Dead nodes dont contribute to weight updates in backprop."
   ]
  },
  {
   "cell_type": "markdown",
   "metadata": {
    "cell_style": "center",
    "slideshow": {
     "slide_type": "fragment"
    }
   },
   "source": [
    "after many train cycles: have learned weights:\n",
    "- contributions from many different networks learning different things"
   ]
  },
  {
   "cell_type": "markdown",
   "metadata": {
    "cell_style": "split",
    "slideshow": {
     "slide_type": "slide"
    }
   },
   "source": [
    "<img src = \"Images/Deeper_network.jpg\">"
   ]
  },
  {
   "cell_type": "markdown",
   "metadata": {
    "cell_style": "split",
    "slideshow": {
     "slide_type": "fragment"
    }
   },
   "source": [
    "Validation/test phase:\n",
    "- use all nodes and learned weights.\n",
    "- make prediction."
   ]
  },
  {
   "cell_type": "markdown",
   "metadata": {
    "cell_style": "center",
    "slideshow": {
     "slide_type": "slide"
    }
   },
   "source": [
    "**Why it works as regularization**\n",
    "- network learns not to trust in any one subset of weights: unlikely any particular weight subset gets too big.\n",
    "- distributes weights in way that is robust to network noise (random dropout): generalizes well. "
   ]
  },
  {
   "cell_type": "markdown",
   "metadata": {
    "slideshow": {
     "slide_type": "slide"
    }
   },
   "source": [
    "#### Dropout in Keras\n",
    "\n",
    "- Simply add it as though it were a layer. It will apply to the immediately preceding layer."
   ]
  },
  {
   "cell_type": "code",
   "execution_count": 24,
   "metadata": {
    "slideshow": {
     "slide_type": "fragment"
    }
   },
   "outputs": [],
   "source": [
    "from tensorflow.keras.layers import Dropout"
   ]
  },
  {
   "cell_type": "markdown",
   "metadata": {
    "cell_style": "center",
    "slideshow": {
     "slide_type": "slide"
    }
   },
   "source": [
    "Dropout() takes in the dropout probability as a constructor argument:\n",
    "- Dropout($p$) after some of the hidden layers.\n",
    "- $p \\in [0.2, 0.5]$ as good range to try."
   ]
  },
  {
   "cell_type": "code",
   "execution_count": 25,
   "metadata": {
    "slideshow": {
     "slide_type": "subslide"
    }
   },
   "outputs": [],
   "source": [
    "from tensorflow.keras.optimizers import Adam\n",
    "opt = Adam(learning_rate=0.003, beta_1=0.9, beta_2=0.999, epsilon=1e-07)"
   ]
  },
  {
   "cell_type": "markdown",
   "metadata": {
    "slideshow": {
     "slide_type": "slide"
    }
   },
   "source": [
    "**Define model**"
   ]
  },
  {
   "cell_type": "code",
   "execution_count": 26,
   "metadata": {
    "cell_style": "split",
    "slideshow": {
     "slide_type": "fragment"
    }
   },
   "outputs": [],
   "source": [
    "model = Sequential()\n",
    "model.add(Flatten(input_shape=(28, 28)))\n",
    "model.add(Dense(20, activation='relu'))\n",
    "model.add(Dropout(0.2)) # dropout on previous activations\n",
    "model.add(Dense(12, activation='relu'))\n",
    "model.add(Dense(12, activation='relu'))\n",
    "model.add(Dropout(0.1)) # dropout\n",
    "model.add(Dense(12, activation='relu'))\n",
    "model.add(Dense(8, activation='relu'))\n",
    "model.add(Dense(10, activation ='softmax'))\n",
    "\n",
    "# compile model\n",
    "model.compile(optimizer=opt, \n",
    "              loss='categorical_crossentropy',\n",
    "              metrics=['accuracy'])"
   ]
  },
  {
   "cell_type": "markdown",
   "metadata": {
    "cell_style": "split",
    "slideshow": {
     "slide_type": "fragment"
    }
   },
   "source": [
    "Some tips:\n",
    "- Dropout earlier in network or inputs. Don't put on final layers.\n",
    "- Try faster learning rates in optimizer"
   ]
  },
  {
   "cell_type": "code",
   "execution_count": 27,
   "metadata": {
    "scrolled": true,
    "slideshow": {
     "slide_type": "slide"
    }
   },
   "outputs": [
    {
     "name": "stdout",
     "output_type": "stream",
     "text": [
      "Epoch 1/200\n",
      "1500/1500 - 1s - loss: 0.8695 - accuracy: 0.7085 - val_loss: 0.3830 - val_accuracy: 0.9003\n",
      "Epoch 2/200\n",
      "1500/1500 - 1s - loss: 0.5603 - accuracy: 0.8295 - val_loss: 0.3061 - val_accuracy: 0.9193\n",
      "Epoch 3/200\n",
      "1500/1500 - 1s - loss: 0.4962 - accuracy: 0.8508 - val_loss: 0.2874 - val_accuracy: 0.9266\n",
      "Epoch 4/200\n",
      "1500/1500 - 1s - loss: 0.4575 - accuracy: 0.8624 - val_loss: 0.2899 - val_accuracy: 0.9226\n",
      "Epoch 5/200\n",
      "1500/1500 - 1s - loss: 0.4408 - accuracy: 0.8675 - val_loss: 0.2542 - val_accuracy: 0.9342\n",
      "Epoch 6/200\n",
      "1500/1500 - 1s - loss: 0.4190 - accuracy: 0.8752 - val_loss: 0.2625 - val_accuracy: 0.9318\n",
      "Epoch 7/200\n",
      "1500/1500 - 1s - loss: 0.4071 - accuracy: 0.8805 - val_loss: 0.2500 - val_accuracy: 0.9358\n",
      "Epoch 8/200\n",
      "1500/1500 - 1s - loss: 0.3990 - accuracy: 0.8794 - val_loss: 0.2365 - val_accuracy: 0.9373\n",
      "Epoch 9/200\n",
      "1500/1500 - 1s - loss: 0.3970 - accuracy: 0.8824 - val_loss: 0.2366 - val_accuracy: 0.9393\n",
      "Epoch 10/200\n",
      "1500/1500 - 1s - loss: 0.3834 - accuracy: 0.8885 - val_loss: 0.2286 - val_accuracy: 0.9409\n",
      "Epoch 11/200\n",
      "1500/1500 - 1s - loss: 0.3777 - accuracy: 0.8881 - val_loss: 0.2343 - val_accuracy: 0.9394\n",
      "Epoch 12/200\n",
      "1500/1500 - 1s - loss: 0.3761 - accuracy: 0.8902 - val_loss: 0.2388 - val_accuracy: 0.9381\n",
      "Epoch 13/200\n",
      "1500/1500 - 1s - loss: 0.3619 - accuracy: 0.8958 - val_loss: 0.2335 - val_accuracy: 0.9421\n",
      "Epoch 14/200\n",
      "1500/1500 - 1s - loss: 0.3600 - accuracy: 0.8960 - val_loss: 0.2354 - val_accuracy: 0.9394\n",
      "Epoch 15/200\n",
      "1500/1500 - 2s - loss: 0.3633 - accuracy: 0.8928 - val_loss: 0.2339 - val_accuracy: 0.9394\n",
      "Epoch 16/200\n",
      "1500/1500 - 1s - loss: 0.3558 - accuracy: 0.8960 - val_loss: 0.2236 - val_accuracy: 0.9403\n",
      "Epoch 17/200\n",
      "1500/1500 - 2s - loss: 0.3564 - accuracy: 0.8963 - val_loss: 0.2399 - val_accuracy: 0.9369\n",
      "Epoch 18/200\n",
      "1500/1500 - 1s - loss: 0.3498 - accuracy: 0.8979 - val_loss: 0.2274 - val_accuracy: 0.9396\n",
      "Epoch 19/200\n",
      "1500/1500 - 1s - loss: 0.3400 - accuracy: 0.9004 - val_loss: 0.2242 - val_accuracy: 0.9448\n",
      "Epoch 20/200\n",
      "1500/1500 - 1s - loss: 0.3379 - accuracy: 0.9022 - val_loss: 0.2254 - val_accuracy: 0.9405\n",
      "Epoch 21/200\n",
      "1500/1500 - 2s - loss: 0.3361 - accuracy: 0.9004 - val_loss: 0.2310 - val_accuracy: 0.9421\n",
      "Epoch 22/200\n",
      "1500/1500 - 2s - loss: 0.3401 - accuracy: 0.9005 - val_loss: 0.2163 - val_accuracy: 0.9448\n",
      "Epoch 23/200\n",
      "1500/1500 - 2s - loss: 0.3317 - accuracy: 0.9029 - val_loss: 0.2199 - val_accuracy: 0.9423\n",
      "Epoch 24/200\n",
      "1500/1500 - 1s - loss: 0.3337 - accuracy: 0.9030 - val_loss: 0.2294 - val_accuracy: 0.9443\n",
      "Epoch 25/200\n",
      "1500/1500 - 1s - loss: 0.3268 - accuracy: 0.9041 - val_loss: 0.2118 - val_accuracy: 0.9439\n",
      "Epoch 26/200\n",
      "1500/1500 - 1s - loss: 0.3225 - accuracy: 0.9063 - val_loss: 0.2326 - val_accuracy: 0.9433\n",
      "Epoch 27/200\n",
      "1500/1500 - 1s - loss: 0.3244 - accuracy: 0.9050 - val_loss: 0.2250 - val_accuracy: 0.9407\n",
      "Epoch 28/200\n",
      "1500/1500 - 1s - loss: 0.3214 - accuracy: 0.9049 - val_loss: 0.2181 - val_accuracy: 0.9415\n",
      "Epoch 29/200\n",
      "1500/1500 - 1s - loss: 0.3186 - accuracy: 0.9076 - val_loss: 0.2241 - val_accuracy: 0.9434\n",
      "Epoch 30/200\n",
      "1500/1500 - 1s - loss: 0.3206 - accuracy: 0.9068 - val_loss: 0.2160 - val_accuracy: 0.9425\n",
      "Epoch 31/200\n",
      "1500/1500 - 1s - loss: 0.3151 - accuracy: 0.9088 - val_loss: 0.2126 - val_accuracy: 0.9437\n",
      "Epoch 32/200\n",
      "1500/1500 - 1s - loss: 0.3178 - accuracy: 0.9073 - val_loss: 0.2153 - val_accuracy: 0.9419\n",
      "Epoch 33/200\n",
      "1500/1500 - 1s - loss: 0.3175 - accuracy: 0.9086 - val_loss: 0.2207 - val_accuracy: 0.9422\n",
      "Epoch 34/200\n",
      "1500/1500 - 2s - loss: 0.3117 - accuracy: 0.9102 - val_loss: 0.2171 - val_accuracy: 0.9423\n",
      "Epoch 35/200\n",
      "1500/1500 - 2s - loss: 0.3181 - accuracy: 0.9075 - val_loss: 0.2123 - val_accuracy: 0.9448\n",
      "Epoch 36/200\n",
      "1500/1500 - 1s - loss: 0.3125 - accuracy: 0.9101 - val_loss: 0.2211 - val_accuracy: 0.9449\n",
      "Epoch 37/200\n",
      "1500/1500 - 2s - loss: 0.3121 - accuracy: 0.9091 - val_loss: 0.2157 - val_accuracy: 0.9423\n",
      "Epoch 38/200\n",
      "1500/1500 - 1s - loss: 0.3066 - accuracy: 0.9099 - val_loss: 0.2290 - val_accuracy: 0.9402\n",
      "Epoch 39/200\n",
      "1500/1500 - 1s - loss: 0.3084 - accuracy: 0.9103 - val_loss: 0.2230 - val_accuracy: 0.9424\n",
      "Epoch 40/200\n",
      "1500/1500 - 1s - loss: 0.3043 - accuracy: 0.9120 - val_loss: 0.2148 - val_accuracy: 0.9427\n",
      "Epoch 41/200\n",
      "1500/1500 - 1s - loss: 0.3072 - accuracy: 0.9105 - val_loss: 0.2147 - val_accuracy: 0.9441\n",
      "Epoch 42/200\n",
      "1500/1500 - 1s - loss: 0.2991 - accuracy: 0.9130 - val_loss: 0.2420 - val_accuracy: 0.9379\n",
      "Epoch 43/200\n",
      "1500/1500 - 1s - loss: 0.3057 - accuracy: 0.9110 - val_loss: 0.2136 - val_accuracy: 0.9438\n",
      "Epoch 44/200\n",
      "1500/1500 - 1s - loss: 0.2988 - accuracy: 0.9136 - val_loss: 0.2254 - val_accuracy: 0.9417\n",
      "Epoch 45/200\n",
      "1500/1500 - 1s - loss: 0.3002 - accuracy: 0.9136 - val_loss: 0.2194 - val_accuracy: 0.9457\n",
      "Epoch 46/200\n",
      "1500/1500 - 1s - loss: 0.2991 - accuracy: 0.9135 - val_loss: 0.2155 - val_accuracy: 0.9455\n",
      "Epoch 47/200\n",
      "1500/1500 - 1s - loss: 0.2951 - accuracy: 0.9133 - val_loss: 0.2150 - val_accuracy: 0.9432\n",
      "Epoch 48/200\n",
      "1500/1500 - 1s - loss: 0.2984 - accuracy: 0.9135 - val_loss: 0.2259 - val_accuracy: 0.9411\n",
      "Epoch 49/200\n",
      "1500/1500 - 1s - loss: 0.2957 - accuracy: 0.9145 - val_loss: 0.2135 - val_accuracy: 0.9459\n",
      "Epoch 50/200\n",
      "1500/1500 - 1s - loss: 0.2951 - accuracy: 0.9150 - val_loss: 0.2121 - val_accuracy: 0.9448\n",
      "Epoch 51/200\n",
      "1500/1500 - 1s - loss: 0.2934 - accuracy: 0.9154 - val_loss: 0.2192 - val_accuracy: 0.9457\n",
      "Epoch 52/200\n",
      "1500/1500 - 1s - loss: 0.2964 - accuracy: 0.9135 - val_loss: 0.2200 - val_accuracy: 0.9429\n",
      "Epoch 53/200\n",
      "1500/1500 - 1s - loss: 0.2931 - accuracy: 0.9159 - val_loss: 0.2105 - val_accuracy: 0.9439\n",
      "Epoch 54/200\n",
      "1500/1500 - 1s - loss: 0.2969 - accuracy: 0.9144 - val_loss: 0.2169 - val_accuracy: 0.9433\n",
      "Epoch 55/200\n",
      "1500/1500 - 1s - loss: 0.2986 - accuracy: 0.9141 - val_loss: 0.2183 - val_accuracy: 0.9423\n",
      "Epoch 56/200\n",
      "1500/1500 - 2s - loss: 0.2959 - accuracy: 0.9135 - val_loss: 0.2216 - val_accuracy: 0.9400\n",
      "Epoch 57/200\n",
      "1500/1500 - 1s - loss: 0.2923 - accuracy: 0.9164 - val_loss: 0.2141 - val_accuracy: 0.9455\n",
      "Epoch 58/200\n",
      "1500/1500 - 1s - loss: 0.2922 - accuracy: 0.9167 - val_loss: 0.2143 - val_accuracy: 0.9433\n",
      "Epoch 59/200\n",
      "1500/1500 - 1s - loss: 0.2928 - accuracy: 0.9151 - val_loss: 0.2184 - val_accuracy: 0.9423\n",
      "Epoch 60/200\n",
      "1500/1500 - 1s - loss: 0.2864 - accuracy: 0.9151 - val_loss: 0.2196 - val_accuracy: 0.9416\n",
      "Epoch 61/200\n",
      "1500/1500 - 2s - loss: 0.2844 - accuracy: 0.9193 - val_loss: 0.2150 - val_accuracy: 0.9443\n",
      "Epoch 62/200\n",
      "1500/1500 - 2s - loss: 0.2925 - accuracy: 0.9156 - val_loss: 0.2108 - val_accuracy: 0.9463\n",
      "Epoch 63/200\n",
      "1500/1500 - 1s - loss: 0.2792 - accuracy: 0.9199 - val_loss: 0.2159 - val_accuracy: 0.9421\n",
      "Epoch 64/200\n",
      "1500/1500 - 1s - loss: 0.2887 - accuracy: 0.9166 - val_loss: 0.2094 - val_accuracy: 0.9445\n",
      "Epoch 65/200\n",
      "1500/1500 - 1s - loss: 0.2801 - accuracy: 0.9188 - val_loss: 0.2152 - val_accuracy: 0.9431\n",
      "Epoch 66/200\n",
      "1500/1500 - 1s - loss: 0.2863 - accuracy: 0.9180 - val_loss: 0.2099 - val_accuracy: 0.9447\n",
      "Epoch 67/200\n",
      "1500/1500 - 1s - loss: 0.2778 - accuracy: 0.9190 - val_loss: 0.2130 - val_accuracy: 0.9465\n",
      "Epoch 68/200\n",
      "1500/1500 - 1s - loss: 0.2839 - accuracy: 0.9170 - val_loss: 0.2192 - val_accuracy: 0.9452\n",
      "Epoch 69/200\n",
      "1500/1500 - 1s - loss: 0.2843 - accuracy: 0.9193 - val_loss: 0.2098 - val_accuracy: 0.9472\n",
      "Epoch 70/200\n",
      "1500/1500 - 1s - loss: 0.2831 - accuracy: 0.9191 - val_loss: 0.2399 - val_accuracy: 0.9401\n",
      "Epoch 71/200\n",
      "1500/1500 - 2s - loss: 0.2818 - accuracy: 0.9183 - val_loss: 0.2143 - val_accuracy: 0.9442\n",
      "Epoch 72/200\n",
      "1500/1500 - 2s - loss: 0.2816 - accuracy: 0.9183 - val_loss: 0.2158 - val_accuracy: 0.9435\n",
      "Epoch 73/200\n",
      "1500/1500 - 1s - loss: 0.2782 - accuracy: 0.9202 - val_loss: 0.2208 - val_accuracy: 0.9418\n",
      "Epoch 74/200\n",
      "1500/1500 - 1s - loss: 0.2808 - accuracy: 0.9195 - val_loss: 0.2111 - val_accuracy: 0.9477\n",
      "Epoch 75/200\n",
      "1500/1500 - 1s - loss: 0.2750 - accuracy: 0.9209 - val_loss: 0.2225 - val_accuracy: 0.9439\n",
      "Epoch 76/200\n",
      "1500/1500 - 1s - loss: 0.2814 - accuracy: 0.9173 - val_loss: 0.2183 - val_accuracy: 0.9461\n",
      "Epoch 77/200\n",
      "1500/1500 - 1s - loss: 0.2744 - accuracy: 0.9219 - val_loss: 0.2239 - val_accuracy: 0.9423\n",
      "Epoch 78/200\n",
      "1500/1500 - 1s - loss: 0.2758 - accuracy: 0.9207 - val_loss: 0.2074 - val_accuracy: 0.9450\n",
      "Epoch 79/200\n",
      "1500/1500 - 2s - loss: 0.2770 - accuracy: 0.9201 - val_loss: 0.2103 - val_accuracy: 0.9438\n",
      "Epoch 80/200\n",
      "1500/1500 - 1s - loss: 0.2766 - accuracy: 0.9208 - val_loss: 0.2171 - val_accuracy: 0.9451\n",
      "Epoch 81/200\n",
      "1500/1500 - 1s - loss: 0.2776 - accuracy: 0.9199 - val_loss: 0.2194 - val_accuracy: 0.9447\n",
      "Epoch 82/200\n",
      "1500/1500 - 1s - loss: 0.2761 - accuracy: 0.9196 - val_loss: 0.2254 - val_accuracy: 0.9440\n",
      "Epoch 83/200\n",
      "1500/1500 - 1s - loss: 0.2741 - accuracy: 0.9204 - val_loss: 0.2353 - val_accuracy: 0.9416\n",
      "Epoch 84/200\n",
      "1500/1500 - 1s - loss: 0.2743 - accuracy: 0.9211 - val_loss: 0.2203 - val_accuracy: 0.9418\n",
      "Epoch 85/200\n",
      "1500/1500 - 1s - loss: 0.2722 - accuracy: 0.9216 - val_loss: 0.2099 - val_accuracy: 0.9446\n",
      "Epoch 86/200\n",
      "1500/1500 - 1s - loss: 0.2757 - accuracy: 0.9217 - val_loss: 0.2178 - val_accuracy: 0.9444\n",
      "Epoch 87/200\n",
      "1500/1500 - 1s - loss: 0.2749 - accuracy: 0.9215 - val_loss: 0.2063 - val_accuracy: 0.9465\n",
      "Epoch 88/200\n",
      "1500/1500 - 2s - loss: 0.2774 - accuracy: 0.9211 - val_loss: 0.2155 - val_accuracy: 0.9465\n",
      "Epoch 89/200\n",
      "1500/1500 - 2s - loss: 0.2761 - accuracy: 0.9212 - val_loss: 0.2186 - val_accuracy: 0.9431\n",
      "Epoch 90/200\n",
      "1500/1500 - 2s - loss: 0.2721 - accuracy: 0.9215 - val_loss: 0.2326 - val_accuracy: 0.9411\n",
      "Epoch 91/200\n",
      "1500/1500 - 1s - loss: 0.2722 - accuracy: 0.9213 - val_loss: 0.2243 - val_accuracy: 0.9474\n",
      "Epoch 92/200\n",
      "1500/1500 - 1s - loss: 0.2755 - accuracy: 0.9206 - val_loss: 0.2299 - val_accuracy: 0.9423\n",
      "Epoch 93/200\n",
      "1500/1500 - 1s - loss: 0.2732 - accuracy: 0.9212 - val_loss: 0.2127 - val_accuracy: 0.9466\n",
      "Epoch 94/200\n",
      "1500/1500 - 1s - loss: 0.2742 - accuracy: 0.9221 - val_loss: 0.2208 - val_accuracy: 0.9454\n",
      "Epoch 95/200\n",
      "1500/1500 - 1s - loss: 0.2749 - accuracy: 0.9205 - val_loss: 0.2119 - val_accuracy: 0.9466\n",
      "Epoch 96/200\n",
      "1500/1500 - 1s - loss: 0.2730 - accuracy: 0.9225 - val_loss: 0.2169 - val_accuracy: 0.9452\n",
      "Epoch 97/200\n",
      "1500/1500 - 1s - loss: 0.2676 - accuracy: 0.9227 - val_loss: 0.2187 - val_accuracy: 0.9466\n",
      "Epoch 98/200\n",
      "1500/1500 - 1s - loss: 0.2719 - accuracy: 0.9222 - val_loss: 0.2171 - val_accuracy: 0.9434\n",
      "Epoch 99/200\n",
      "1500/1500 - 1s - loss: 0.2645 - accuracy: 0.9237 - val_loss: 0.2174 - val_accuracy: 0.9429\n",
      "Epoch 100/200\n",
      "1500/1500 - 1s - loss: 0.2691 - accuracy: 0.9234 - val_loss: 0.2253 - val_accuracy: 0.9410\n",
      "Epoch 101/200\n",
      "1500/1500 - 1s - loss: 0.2696 - accuracy: 0.9240 - val_loss: 0.2236 - val_accuracy: 0.9451\n",
      "Epoch 102/200\n",
      "1500/1500 - 1s - loss: 0.2672 - accuracy: 0.9219 - val_loss: 0.2300 - val_accuracy: 0.9453\n",
      "Epoch 103/200\n",
      "1500/1500 - 1s - loss: 0.2682 - accuracy: 0.9242 - val_loss: 0.2151 - val_accuracy: 0.9447\n",
      "Epoch 104/200\n",
      "1500/1500 - 1s - loss: 0.2680 - accuracy: 0.9230 - val_loss: 0.2375 - val_accuracy: 0.9433\n",
      "Epoch 105/200\n",
      "1500/1500 - 1s - loss: 0.2717 - accuracy: 0.9229 - val_loss: 0.2167 - val_accuracy: 0.9450\n",
      "Epoch 106/200\n",
      "1500/1500 - 1s - loss: 0.2658 - accuracy: 0.9241 - val_loss: 0.2198 - val_accuracy: 0.9447\n",
      "Epoch 107/200\n",
      "1500/1500 - 1s - loss: 0.2677 - accuracy: 0.9223 - val_loss: 0.2130 - val_accuracy: 0.9472\n",
      "Epoch 108/200\n",
      "1500/1500 - 1s - loss: 0.2654 - accuracy: 0.9243 - val_loss: 0.2156 - val_accuracy: 0.9477\n",
      "Epoch 109/200\n",
      "1500/1500 - 1s - loss: 0.2686 - accuracy: 0.9230 - val_loss: 0.2314 - val_accuracy: 0.9405\n",
      "Epoch 110/200\n",
      "1500/1500 - 1s - loss: 0.2715 - accuracy: 0.9223 - val_loss: 0.2262 - val_accuracy: 0.9452\n",
      "Epoch 111/200\n",
      "1500/1500 - 1s - loss: 0.2682 - accuracy: 0.9233 - val_loss: 0.2235 - val_accuracy: 0.9437\n",
      "Epoch 112/200\n",
      "1500/1500 - 1s - loss: 0.2705 - accuracy: 0.9221 - val_loss: 0.2324 - val_accuracy: 0.9427\n",
      "Epoch 113/200\n",
      "1500/1500 - 1s - loss: 0.2679 - accuracy: 0.9230 - val_loss: 0.2277 - val_accuracy: 0.9439\n",
      "Epoch 114/200\n",
      "1500/1500 - 1s - loss: 0.2689 - accuracy: 0.9240 - val_loss: 0.2233 - val_accuracy: 0.9463\n",
      "Epoch 115/200\n",
      "1500/1500 - 1s - loss: 0.2685 - accuracy: 0.9235 - val_loss: 0.2141 - val_accuracy: 0.9464\n",
      "Epoch 116/200\n",
      "1500/1500 - 1s - loss: 0.2695 - accuracy: 0.9226 - val_loss: 0.2165 - val_accuracy: 0.9453\n",
      "Epoch 117/200\n",
      "1500/1500 - 1s - loss: 0.2708 - accuracy: 0.9226 - val_loss: 0.2212 - val_accuracy: 0.9446\n",
      "Epoch 118/200\n",
      "1500/1500 - 1s - loss: 0.2615 - accuracy: 0.9254 - val_loss: 0.2262 - val_accuracy: 0.9430\n",
      "Epoch 119/200\n",
      "1500/1500 - 1s - loss: 0.2670 - accuracy: 0.9226 - val_loss: 0.2144 - val_accuracy: 0.9455\n",
      "Epoch 120/200\n",
      "1500/1500 - 2s - loss: 0.2693 - accuracy: 0.9233 - val_loss: 0.2337 - val_accuracy: 0.9388\n",
      "Epoch 121/200\n",
      "1500/1500 - 1s - loss: 0.2647 - accuracy: 0.9225 - val_loss: 0.2193 - val_accuracy: 0.9438\n",
      "Epoch 122/200\n",
      "1500/1500 - 1s - loss: 0.2664 - accuracy: 0.9238 - val_loss: 0.2312 - val_accuracy: 0.9436\n",
      "Epoch 123/200\n",
      "1500/1500 - 1s - loss: 0.2617 - accuracy: 0.9243 - val_loss: 0.2218 - val_accuracy: 0.9427\n",
      "Epoch 124/200\n",
      "1500/1500 - 1s - loss: 0.2650 - accuracy: 0.9249 - val_loss: 0.2213 - val_accuracy: 0.9436\n",
      "Epoch 125/200\n",
      "1500/1500 - 2s - loss: 0.2662 - accuracy: 0.9246 - val_loss: 0.2139 - val_accuracy: 0.9452\n",
      "Epoch 126/200\n",
      "1500/1500 - 2s - loss: 0.2625 - accuracy: 0.9237 - val_loss: 0.2269 - val_accuracy: 0.9452\n",
      "Epoch 127/200\n",
      "1500/1500 - 1s - loss: 0.2674 - accuracy: 0.9235 - val_loss: 0.2152 - val_accuracy: 0.9454\n",
      "Epoch 128/200\n",
      "1500/1500 - 1s - loss: 0.2643 - accuracy: 0.9239 - val_loss: 0.2321 - val_accuracy: 0.9456\n",
      "Epoch 129/200\n",
      "1500/1500 - 1s - loss: 0.2686 - accuracy: 0.9230 - val_loss: 0.2316 - val_accuracy: 0.9425\n",
      "Epoch 130/200\n",
      "1500/1500 - 1s - loss: 0.2619 - accuracy: 0.9248 - val_loss: 0.2184 - val_accuracy: 0.9452\n",
      "Epoch 131/200\n",
      "1500/1500 - 1s - loss: 0.2631 - accuracy: 0.9252 - val_loss: 0.2227 - val_accuracy: 0.9435\n",
      "Epoch 132/200\n",
      "1500/1500 - 1s - loss: 0.2638 - accuracy: 0.9243 - val_loss: 0.2199 - val_accuracy: 0.9431\n",
      "Epoch 133/200\n",
      "1500/1500 - 1s - loss: 0.2605 - accuracy: 0.9244 - val_loss: 0.2276 - val_accuracy: 0.9421\n",
      "Epoch 134/200\n",
      "1500/1500 - 1s - loss: 0.2640 - accuracy: 0.9236 - val_loss: 0.2271 - val_accuracy: 0.9461\n",
      "Epoch 135/200\n",
      "1500/1500 - 1s - loss: 0.2720 - accuracy: 0.9221 - val_loss: 0.2233 - val_accuracy: 0.9445\n",
      "Epoch 136/200\n",
      "1500/1500 - 1s - loss: 0.2713 - accuracy: 0.9222 - val_loss: 0.2209 - val_accuracy: 0.9448\n",
      "Epoch 137/200\n",
      "1500/1500 - 1s - loss: 0.2627 - accuracy: 0.9236 - val_loss: 0.2157 - val_accuracy: 0.9437\n",
      "Epoch 138/200\n",
      "1500/1500 - 1s - loss: 0.2613 - accuracy: 0.9243 - val_loss: 0.2292 - val_accuracy: 0.9428\n",
      "Epoch 139/200\n",
      "1500/1500 - 1s - loss: 0.2620 - accuracy: 0.9251 - val_loss: 0.2331 - val_accuracy: 0.9411\n",
      "Epoch 140/200\n",
      "1500/1500 - 1s - loss: 0.2661 - accuracy: 0.9241 - val_loss: 0.2188 - val_accuracy: 0.9465\n",
      "Epoch 141/200\n",
      "1500/1500 - 1s - loss: 0.2639 - accuracy: 0.9240 - val_loss: 0.2241 - val_accuracy: 0.9463\n",
      "Epoch 142/200\n",
      "1500/1500 - 1s - loss: 0.2631 - accuracy: 0.9241 - val_loss: 0.2414 - val_accuracy: 0.9434\n",
      "Epoch 143/200\n",
      "1500/1500 - 1s - loss: 0.2590 - accuracy: 0.9264 - val_loss: 0.2404 - val_accuracy: 0.9424\n",
      "Epoch 144/200\n",
      "1500/1500 - 1s - loss: 0.2598 - accuracy: 0.9263 - val_loss: 0.2237 - val_accuracy: 0.9442\n",
      "Epoch 145/200\n",
      "1500/1500 - 2s - loss: 0.2590 - accuracy: 0.9242 - val_loss: 0.2511 - val_accuracy: 0.9444\n",
      "Epoch 146/200\n",
      "1500/1500 - 1s - loss: 0.2613 - accuracy: 0.9258 - val_loss: 0.2193 - val_accuracy: 0.9460\n",
      "Epoch 147/200\n",
      "1500/1500 - 1s - loss: 0.2591 - accuracy: 0.9238 - val_loss: 0.2220 - val_accuracy: 0.9463\n",
      "Epoch 148/200\n",
      "1500/1500 - 1s - loss: 0.2602 - accuracy: 0.9258 - val_loss: 0.2134 - val_accuracy: 0.9467\n",
      "Epoch 149/200\n",
      "1500/1500 - 1s - loss: 0.2576 - accuracy: 0.9267 - val_loss: 0.2242 - val_accuracy: 0.9455\n",
      "Epoch 150/200\n",
      "1500/1500 - 1s - loss: 0.2588 - accuracy: 0.9259 - val_loss: 0.2199 - val_accuracy: 0.9447\n",
      "Epoch 151/200\n",
      "1500/1500 - 1s - loss: 0.2544 - accuracy: 0.9264 - val_loss: 0.2325 - val_accuracy: 0.9447\n",
      "Epoch 152/200\n",
      "1500/1500 - 1s - loss: 0.2576 - accuracy: 0.9267 - val_loss: 0.2357 - val_accuracy: 0.9432\n",
      "Epoch 153/200\n",
      "1500/1500 - 1s - loss: 0.2624 - accuracy: 0.9238 - val_loss: 0.2426 - val_accuracy: 0.9405\n",
      "Epoch 154/200\n",
      "1500/1500 - 1s - loss: 0.2671 - accuracy: 0.9239 - val_loss: 0.2193 - val_accuracy: 0.9453\n",
      "Epoch 155/200\n",
      "1500/1500 - 1s - loss: 0.2608 - accuracy: 0.9243 - val_loss: 0.2369 - val_accuracy: 0.9442\n",
      "Epoch 156/200\n",
      "1500/1500 - 1s - loss: 0.2552 - accuracy: 0.9256 - val_loss: 0.2269 - val_accuracy: 0.9433\n",
      "Epoch 157/200\n",
      "1500/1500 - 1s - loss: 0.2610 - accuracy: 0.9254 - val_loss: 0.2239 - val_accuracy: 0.9457\n",
      "Epoch 158/200\n",
      "1500/1500 - 1s - loss: 0.2544 - accuracy: 0.9275 - val_loss: 0.2235 - val_accuracy: 0.9452\n",
      "Epoch 159/200\n",
      "1500/1500 - 1s - loss: 0.2567 - accuracy: 0.9268 - val_loss: 0.2318 - val_accuracy: 0.9442\n",
      "Epoch 160/200\n",
      "1500/1500 - 1s - loss: 0.2605 - accuracy: 0.9250 - val_loss: 0.2215 - val_accuracy: 0.9438\n",
      "Epoch 161/200\n",
      "1500/1500 - 1s - loss: 0.2555 - accuracy: 0.9268 - val_loss: 0.2301 - val_accuracy: 0.9422\n",
      "Epoch 162/200\n",
      "1500/1500 - 1s - loss: 0.2601 - accuracy: 0.9247 - val_loss: 0.2395 - val_accuracy: 0.9401\n",
      "Epoch 163/200\n",
      "1500/1500 - 1s - loss: 0.2537 - accuracy: 0.9271 - val_loss: 0.2412 - val_accuracy: 0.9452\n",
      "Epoch 164/200\n",
      "1500/1500 - 1s - loss: 0.2583 - accuracy: 0.9258 - val_loss: 0.2312 - val_accuracy: 0.9435\n",
      "Epoch 165/200\n",
      "1500/1500 - 1s - loss: 0.2605 - accuracy: 0.9257 - val_loss: 0.2264 - val_accuracy: 0.9433\n",
      "Epoch 166/200\n",
      "1500/1500 - 1s - loss: 0.2606 - accuracy: 0.9255 - val_loss: 0.2314 - val_accuracy: 0.9428\n",
      "Epoch 167/200\n",
      "1500/1500 - 1s - loss: 0.2630 - accuracy: 0.9237 - val_loss: 0.2208 - val_accuracy: 0.9457\n",
      "Epoch 168/200\n",
      "1500/1500 - 1s - loss: 0.2569 - accuracy: 0.9251 - val_loss: 0.2323 - val_accuracy: 0.9431\n",
      "Epoch 169/200\n",
      "1500/1500 - 1s - loss: 0.2579 - accuracy: 0.9260 - val_loss: 0.2406 - val_accuracy: 0.9419\n",
      "Epoch 170/200\n",
      "1500/1500 - 1s - loss: 0.2520 - accuracy: 0.9268 - val_loss: 0.2236 - val_accuracy: 0.9442\n",
      "Epoch 171/200\n",
      "1500/1500 - 1s - loss: 0.2594 - accuracy: 0.9249 - val_loss: 0.2364 - val_accuracy: 0.9426\n",
      "Epoch 172/200\n",
      "1500/1500 - 1s - loss: 0.2544 - accuracy: 0.9260 - val_loss: 0.2364 - val_accuracy: 0.9438\n",
      "Epoch 173/200\n",
      "1500/1500 - 1s - loss: 0.2608 - accuracy: 0.9251 - val_loss: 0.2385 - val_accuracy: 0.9427\n",
      "Epoch 174/200\n",
      "1500/1500 - 1s - loss: 0.2550 - accuracy: 0.9272 - val_loss: 0.2315 - val_accuracy: 0.9440\n",
      "Epoch 175/200\n",
      "1500/1500 - 1s - loss: 0.2585 - accuracy: 0.9257 - val_loss: 0.2354 - val_accuracy: 0.9444\n",
      "Epoch 176/200\n",
      "1500/1500 - 1s - loss: 0.2547 - accuracy: 0.9258 - val_loss: 0.2305 - val_accuracy: 0.9443\n",
      "Epoch 177/200\n",
      "1500/1500 - 1s - loss: 0.2586 - accuracy: 0.9261 - val_loss: 0.2475 - val_accuracy: 0.9408\n",
      "Epoch 178/200\n",
      "1500/1500 - 1s - loss: 0.2590 - accuracy: 0.9266 - val_loss: 0.2414 - val_accuracy: 0.9416\n",
      "Epoch 179/200\n",
      "1500/1500 - 1s - loss: 0.2572 - accuracy: 0.9260 - val_loss: 0.2336 - val_accuracy: 0.9439\n",
      "Epoch 180/200\n",
      "1500/1500 - 1s - loss: 0.2587 - accuracy: 0.9247 - val_loss: 0.2300 - val_accuracy: 0.9427\n",
      "Epoch 181/200\n",
      "1500/1500 - 1s - loss: 0.2582 - accuracy: 0.9252 - val_loss: 0.2248 - val_accuracy: 0.9434\n",
      "Epoch 182/200\n",
      "1500/1500 - 1s - loss: 0.2571 - accuracy: 0.9257 - val_loss: 0.2321 - val_accuracy: 0.9435\n",
      "Epoch 183/200\n",
      "1500/1500 - 1s - loss: 0.2558 - accuracy: 0.9271 - val_loss: 0.2407 - val_accuracy: 0.9440\n",
      "Epoch 184/200\n",
      "1500/1500 - 1s - loss: 0.2551 - accuracy: 0.9278 - val_loss: 0.2335 - val_accuracy: 0.9439\n",
      "Epoch 185/200\n",
      "1500/1500 - 2s - loss: 0.2575 - accuracy: 0.9256 - val_loss: 0.2396 - val_accuracy: 0.9405\n",
      "Epoch 186/200\n",
      "1500/1500 - 1s - loss: 0.2525 - accuracy: 0.9279 - val_loss: 0.2290 - val_accuracy: 0.9418\n",
      "Epoch 187/200\n",
      "1500/1500 - 1s - loss: 0.2561 - accuracy: 0.9253 - val_loss: 0.2308 - val_accuracy: 0.9414\n",
      "Epoch 188/200\n",
      "1500/1500 - 1s - loss: 0.2566 - accuracy: 0.9261 - val_loss: 0.2319 - val_accuracy: 0.9438\n",
      "Epoch 189/200\n",
      "1500/1500 - 1s - loss: 0.2544 - accuracy: 0.9265 - val_loss: 0.2393 - val_accuracy: 0.9412\n",
      "Epoch 190/200\n",
      "1500/1500 - 1s - loss: 0.2598 - accuracy: 0.9262 - val_loss: 0.2262 - val_accuracy: 0.9424\n",
      "Epoch 191/200\n",
      "1500/1500 - 1s - loss: 0.2550 - accuracy: 0.9268 - val_loss: 0.2471 - val_accuracy: 0.9413\n",
      "Epoch 192/200\n",
      "1500/1500 - 1s - loss: 0.2501 - accuracy: 0.9276 - val_loss: 0.2369 - val_accuracy: 0.9412\n",
      "Epoch 193/200\n",
      "1500/1500 - 1s - loss: 0.2541 - accuracy: 0.9269 - val_loss: 0.2298 - val_accuracy: 0.9426\n",
      "Epoch 194/200\n",
      "1500/1500 - 1s - loss: 0.2553 - accuracy: 0.9260 - val_loss: 0.2376 - val_accuracy: 0.9418\n",
      "Epoch 195/200\n",
      "1500/1500 - 1s - loss: 0.2587 - accuracy: 0.9247 - val_loss: 0.2296 - val_accuracy: 0.9437\n",
      "Epoch 196/200\n",
      "1500/1500 - 1s - loss: 0.2549 - accuracy: 0.9280 - val_loss: 0.2349 - val_accuracy: 0.9421\n",
      "Epoch 197/200\n",
      "1500/1500 - 1s - loss: 0.2550 - accuracy: 0.9273 - val_loss: 0.2287 - val_accuracy: 0.9452\n",
      "Epoch 198/200\n",
      "1500/1500 - 1s - loss: 0.2581 - accuracy: 0.9273 - val_loss: 0.2284 - val_accuracy: 0.9438\n",
      "Epoch 199/200\n",
      "1500/1500 - 1s - loss: 0.2593 - accuracy: 0.9261 - val_loss: 0.2288 - val_accuracy: 0.9452\n",
      "Epoch 200/200\n",
      "1500/1500 - 1s - loss: 0.2526 - accuracy: 0.9267 - val_loss: 0.2382 - val_accuracy: 0.9415\n"
     ]
    }
   ],
   "source": [
    "# will take a while\n",
    "history_dropoutmnist = model.fit(x_train, y_tr_one_hot, epochs=200, batch_size= 32, validation_split = 0.2, verbose =2)"
   ]
  },
  {
   "cell_type": "markdown",
   "metadata": {
    "cell_style": "split",
    "slideshow": {
     "slide_type": "slide"
    }
   },
   "source": [
    "Accuracy on train set will be lower in any given cycle:\n",
    "- some activation killed randomly on training.\n",
    "\n",
    "Performance on validation will be high:\n",
    "- uses full network with learned weights for validation"
   ]
  },
  {
   "cell_type": "markdown",
   "metadata": {
    "cell_style": "split",
    "slideshow": {
     "slide_type": "slide"
    }
   },
   "source": [
    "Not overtraining despite high model capacity:\n",
    "- many hidden layers"
   ]
  },
  {
   "cell_type": "code",
   "execution_count": 28,
   "metadata": {
    "cell_style": "split",
    "slideshow": {
     "slide_type": "fragment"
    }
   },
   "outputs": [
    {
     "data": {
      "image/png": "[encoded data removed]",
      "text/plain": [
       "<Figure size 432x288 with 1 Axes>"
      ]
     },
     "metadata": {
      "needs_background": "light"
     },
     "output_type": "display_data"
    }
   ],
   "source": [
    "train_dropoutmnist_history = pd.DataFrame(history_dropoutmnist.history)\n",
    "train_dropoutmnist_history.index.name = 'epochs'\n",
    "\n",
    "col_list = ['loss', 'val_loss']\n",
    "train_dropoutmnist_history[col_list].plot()\n",
    "plt.ylabel('Categorical cross entropy')\n",
    "plt.title('Training loss history')\n",
    "plt.show()"
   ]
  },
  {
   "cell_type": "code",
   "execution_count": 29,
   "metadata": {
    "cell_style": "split",
    "slideshow": {
     "slide_type": "slide"
    }
   },
   "outputs": [
    {
     "data": {
      "image/png": "[encoded data removed]",
      "text/plain": [
       "<Figure size 432x288 with 1 Axes>"
      ]
     },
     "metadata": {
      "needs_background": "light"
     },
     "output_type": "display_data"
    }
   ],
   "source": [
    "col_list = ['accuracy', 'val_accuracy']\n",
    "train_dropoutmnist_history[col_list].plot()\n",
    "plt.ylabel('Accuracy')\n",
    "plt.title('Training loss history')\n",
    "plt.show()"
   ]
  },
  {
   "cell_type": "markdown",
   "metadata": {
    "cell_style": "split",
    "slideshow": {
     "slide_type": "fragment"
    }
   },
   "source": [
    "Evaluate on test set."
   ]
  },
  {
   "cell_type": "code",
   "execution_count": 30,
   "metadata": {
    "cell_style": "split",
    "slideshow": {
     "slide_type": "fragment"
    }
   },
   "outputs": [
    {
     "data": {
      "text/plain": [
       "[0.24945813417434692, 0.9406999945640564]"
      ]
     },
     "execution_count": 30,
     "metadata": {},
     "output_type": "execute_result"
    }
   ],
   "source": [
    "model.evaluate(x_test, y_tt_one_hot, verbose =0)"
   ]
  },
  {
   "cell_type": "markdown",
   "metadata": {
    "slideshow": {
     "slide_type": "slide"
    }
   },
   "source": [
    "#### Dropout regularization in conjunction with L2:\n",
    "\n",
    "- can be used to train very deep networks\n",
    "- model complex relationships without overfitting\n",
    "- works best in these cases with a lot of data"
   ]
  },
  {
   "cell_type": "markdown",
   "metadata": {
    "slideshow": {
     "slide_type": "slide"
    }
   },
   "source": [
    "Next up:\n",
    "- doing much better with a more suitable network architecture\n",
    "- Convolutional Neural Networks (CNNs)"
   ]
  },
  {
   "cell_type": "markdown",
   "metadata": {},
   "source": [
    "## HyperParameter Tuning"
   ]
  },
  {
   "cell_type": "markdown",
   "metadata": {},
   "source": [
    "```python\n",
    "from sklearn.model_selection import GridSearchCV\n",
    "from tensorflow.keras.models import Sequential\n",
    "from tensorflow.keras.layers import Dense\n",
    "from tensorflow.keras.wrappers.scikit_learn import KerasClassifier\n",
    "\n",
    "# Define a function to create the Keras model\n",
    "def create_model(optimizer='adam', units=32, activation='relu'):\n",
    "    model = Sequential()\n",
    "    model.add(Dense(units, activation=activation, input_dim=input_dim))\n",
    "    model.add(Dense(output_dim, activation='softmax'))\n",
    "    model.compile(optimizer=optimizer, loss='categorical_crossentropy', metrics=['accuracy'])\n",
    "    return model\n",
    "\n",
    "# Create a KerasClassifier based on the create_model function\n",
    "model = KerasClassifier(build_fn=create_model)\n",
    "\n",
    "# Define a parameter grid for hyperparameter tuning\n",
    "param_grid = {\n",
    "    'units': [32, 64, 128],\n",
    "    'activation': ['relu', 'tanh'],\n",
    "    'optimizer': ['adam', 'sgd'],\n",
    "}\n",
    "\n",
    "# Perform grid search with cross-validation\n",
    "grid_search = GridSearchCV(estimator=model, param_grid=param_grid, scoring='accuracy', cv=3)\n",
    "grid_result = grid_search.fit(X_train, y_train)\n",
    "\n",
    "# Print the best hyperparameters and their performance\n",
    "print(\"Best Parameters: \", grid_result.best_params_)\n",
    "print(\"Best Accuracy: \", grid_result.best_score_)\n",
    "```\n"
   ]
  },
  {
   "cell_type": "code",
   "execution_count": null,
   "metadata": {},
   "outputs": [],
   "source": []
  }
 ],
 "metadata": {
  "colab": {
   "collapsed_sections": [],
   "name": "intro-to-keras.ipynb",
   "provenance": []
  },
  "kernelspec": {
   "display_name": "learn-env",
   "language": "python",
   "name": "python3"
  },
  "language_info": {
   "codemirror_mode": {
    "name": "ipython",
    "version": 3
   },
   "file_extension": ".py",
   "mimetype": "text/x-python",
   "name": "python",
   "nbconvert_exporter": "python",
   "pygments_lexer": "ipython3",
   "version": "3.8.1"
  }
 },
 "nbformat": 4,
 "nbformat_minor": 4
}
